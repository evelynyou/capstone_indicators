{
 "cells": [
  {
   "cell_type": "code",
   "execution_count": 1,
   "metadata": {},
   "outputs": [
    {
     "name": "stderr",
     "output_type": "stream",
     "text": [
      "C:\\ProgramData\\Anaconda3\\lib\\site-packages\\backtesting\\_plotting.py:45: UserWarning: Jupyter Notebook detected. Setting Bokeh output to notebook. This may not work in Jupyter clients without JavaScript support (e.g. PyCharm, Spyder IDE). Reset with `backtesting.set_bokeh_output(notebook=False)`.\n",
      "  warnings.warn('Jupyter Notebook detected. '\n"
     ]
    },
    {
     "data": {
      "text/html": [
       "\n",
       "    <div class=\"bk-root\">\n",
       "        <a href=\"https://bokeh.org\" target=\"_blank\" class=\"bk-logo bk-logo-small bk-logo-notebook\"></a>\n",
       "        <span id=\"1001\">Loading BokehJS ...</span>\n",
       "    </div>"
      ]
     },
     "metadata": {},
     "output_type": "display_data"
    },
    {
     "data": {
      "application/javascript": [
       "\n",
       "(function(root) {\n",
       "  function now() {\n",
       "    return new Date();\n",
       "  }\n",
       "\n",
       "  var force = true;\n",
       "\n",
       "  if (typeof root._bokeh_onload_callbacks === \"undefined\" || force === true) {\n",
       "    root._bokeh_onload_callbacks = [];\n",
       "    root._bokeh_is_loading = undefined;\n",
       "  }\n",
       "\n",
       "  var JS_MIME_TYPE = 'application/javascript';\n",
       "  var HTML_MIME_TYPE = 'text/html';\n",
       "  var EXEC_MIME_TYPE = 'application/vnd.bokehjs_exec.v0+json';\n",
       "  var CLASS_NAME = 'output_bokeh rendered_html';\n",
       "\n",
       "  /**\n",
       "   * Render data to the DOM node\n",
       "   */\n",
       "  function render(props, node) {\n",
       "    var script = document.createElement(\"script\");\n",
       "    node.appendChild(script);\n",
       "  }\n",
       "\n",
       "  /**\n",
       "   * Handle when an output is cleared or removed\n",
       "   */\n",
       "  function handleClearOutput(event, handle) {\n",
       "    var cell = handle.cell;\n",
       "\n",
       "    var id = cell.output_area._bokeh_element_id;\n",
       "    var server_id = cell.output_area._bokeh_server_id;\n",
       "    // Clean up Bokeh references\n",
       "    if (id != null && id in Bokeh.index) {\n",
       "      Bokeh.index[id].model.document.clear();\n",
       "      delete Bokeh.index[id];\n",
       "    }\n",
       "\n",
       "    if (server_id !== undefined) {\n",
       "      // Clean up Bokeh references\n",
       "      var cmd = \"from bokeh.io.state import curstate; print(curstate().uuid_to_server['\" + server_id + \"'].get_sessions()[0].document.roots[0]._id)\";\n",
       "      cell.notebook.kernel.execute(cmd, {\n",
       "        iopub: {\n",
       "          output: function(msg) {\n",
       "            var id = msg.content.text.trim();\n",
       "            if (id in Bokeh.index) {\n",
       "              Bokeh.index[id].model.document.clear();\n",
       "              delete Bokeh.index[id];\n",
       "            }\n",
       "          }\n",
       "        }\n",
       "      });\n",
       "      // Destroy server and session\n",
       "      var cmd = \"import bokeh.io.notebook as ion; ion.destroy_server('\" + server_id + \"')\";\n",
       "      cell.notebook.kernel.execute(cmd);\n",
       "    }\n",
       "  }\n",
       "\n",
       "  /**\n",
       "   * Handle when a new output is added\n",
       "   */\n",
       "  function handleAddOutput(event, handle) {\n",
       "    var output_area = handle.output_area;\n",
       "    var output = handle.output;\n",
       "\n",
       "    // limit handleAddOutput to display_data with EXEC_MIME_TYPE content only\n",
       "    if ((output.output_type != \"display_data\") || (!output.data.hasOwnProperty(EXEC_MIME_TYPE))) {\n",
       "      return\n",
       "    }\n",
       "\n",
       "    var toinsert = output_area.element.find(\".\" + CLASS_NAME.split(' ')[0]);\n",
       "\n",
       "    if (output.metadata[EXEC_MIME_TYPE][\"id\"] !== undefined) {\n",
       "      toinsert[toinsert.length - 1].firstChild.textContent = output.data[JS_MIME_TYPE];\n",
       "      // store reference to embed id on output_area\n",
       "      output_area._bokeh_element_id = output.metadata[EXEC_MIME_TYPE][\"id\"];\n",
       "    }\n",
       "    if (output.metadata[EXEC_MIME_TYPE][\"server_id\"] !== undefined) {\n",
       "      var bk_div = document.createElement(\"div\");\n",
       "      bk_div.innerHTML = output.data[HTML_MIME_TYPE];\n",
       "      var script_attrs = bk_div.children[0].attributes;\n",
       "      for (var i = 0; i < script_attrs.length; i++) {\n",
       "        toinsert[toinsert.length - 1].firstChild.setAttribute(script_attrs[i].name, script_attrs[i].value);\n",
       "        toinsert[toinsert.length - 1].firstChild.textContent = bk_div.children[0].textContent\n",
       "      }\n",
       "      // store reference to server id on output_area\n",
       "      output_area._bokeh_server_id = output.metadata[EXEC_MIME_TYPE][\"server_id\"];\n",
       "    }\n",
       "  }\n",
       "\n",
       "  function register_renderer(events, OutputArea) {\n",
       "\n",
       "    function append_mime(data, metadata, element) {\n",
       "      // create a DOM node to render to\n",
       "      var toinsert = this.create_output_subarea(\n",
       "        metadata,\n",
       "        CLASS_NAME,\n",
       "        EXEC_MIME_TYPE\n",
       "      );\n",
       "      this.keyboard_manager.register_events(toinsert);\n",
       "      // Render to node\n",
       "      var props = {data: data, metadata: metadata[EXEC_MIME_TYPE]};\n",
       "      render(props, toinsert[toinsert.length - 1]);\n",
       "      element.append(toinsert);\n",
       "      return toinsert\n",
       "    }\n",
       "\n",
       "    /* Handle when an output is cleared or removed */\n",
       "    events.on('clear_output.CodeCell', handleClearOutput);\n",
       "    events.on('delete.Cell', handleClearOutput);\n",
       "\n",
       "    /* Handle when a new output is added */\n",
       "    events.on('output_added.OutputArea', handleAddOutput);\n",
       "\n",
       "    /**\n",
       "     * Register the mime type and append_mime function with output_area\n",
       "     */\n",
       "    OutputArea.prototype.register_mime_type(EXEC_MIME_TYPE, append_mime, {\n",
       "      /* Is output safe? */\n",
       "      safe: true,\n",
       "      /* Index of renderer in `output_area.display_order` */\n",
       "      index: 0\n",
       "    });\n",
       "  }\n",
       "\n",
       "  // register the mime type if in Jupyter Notebook environment and previously unregistered\n",
       "  if (root.Jupyter !== undefined) {\n",
       "    var events = require('base/js/events');\n",
       "    var OutputArea = require('notebook/js/outputarea').OutputArea;\n",
       "\n",
       "    if (OutputArea.prototype.mime_types().indexOf(EXEC_MIME_TYPE) == -1) {\n",
       "      register_renderer(events, OutputArea);\n",
       "    }\n",
       "  }\n",
       "\n",
       "  \n",
       "  if (typeof (root._bokeh_timeout) === \"undefined\" || force === true) {\n",
       "    root._bokeh_timeout = Date.now() + 5000;\n",
       "    root._bokeh_failed_load = false;\n",
       "  }\n",
       "\n",
       "  var NB_LOAD_WARNING = {'data': {'text/html':\n",
       "     \"<div style='background-color: #fdd'>\\n\"+\n",
       "     \"<p>\\n\"+\n",
       "     \"BokehJS does not appear to have successfully loaded. If loading BokehJS from CDN, this \\n\"+\n",
       "     \"may be due to a slow or bad network connection. Possible fixes:\\n\"+\n",
       "     \"</p>\\n\"+\n",
       "     \"<ul>\\n\"+\n",
       "     \"<li>re-rerun `output_notebook()` to attempt to load from CDN again, or</li>\\n\"+\n",
       "     \"<li>use INLINE resources instead, as so:</li>\\n\"+\n",
       "     \"</ul>\\n\"+\n",
       "     \"<code>\\n\"+\n",
       "     \"from bokeh.resources import INLINE\\n\"+\n",
       "     \"output_notebook(resources=INLINE)\\n\"+\n",
       "     \"</code>\\n\"+\n",
       "     \"</div>\"}};\n",
       "\n",
       "  function display_loaded() {\n",
       "    var el = document.getElementById(\"1001\");\n",
       "    if (el != null) {\n",
       "      el.textContent = \"BokehJS is loading...\";\n",
       "    }\n",
       "    if (root.Bokeh !== undefined) {\n",
       "      if (el != null) {\n",
       "        el.textContent = \"BokehJS \" + root.Bokeh.version + \" successfully loaded.\";\n",
       "      }\n",
       "    } else if (Date.now() < root._bokeh_timeout) {\n",
       "      setTimeout(display_loaded, 100)\n",
       "    }\n",
       "  }\n",
       "\n",
       "\n",
       "  function run_callbacks() {\n",
       "    try {\n",
       "      root._bokeh_onload_callbacks.forEach(function(callback) {\n",
       "        if (callback != null)\n",
       "          callback();\n",
       "      });\n",
       "    } finally {\n",
       "      delete root._bokeh_onload_callbacks\n",
       "    }\n",
       "    console.debug(\"Bokeh: all callbacks have finished\");\n",
       "  }\n",
       "\n",
       "  function load_libs(css_urls, js_urls, callback) {\n",
       "    if (css_urls == null) css_urls = [];\n",
       "    if (js_urls == null) js_urls = [];\n",
       "\n",
       "    root._bokeh_onload_callbacks.push(callback);\n",
       "    if (root._bokeh_is_loading > 0) {\n",
       "      console.debug(\"Bokeh: BokehJS is being loaded, scheduling callback at\", now());\n",
       "      return null;\n",
       "    }\n",
       "    if (js_urls == null || js_urls.length === 0) {\n",
       "      run_callbacks();\n",
       "      return null;\n",
       "    }\n",
       "    console.debug(\"Bokeh: BokehJS not loaded, scheduling load and callback at\", now());\n",
       "    root._bokeh_is_loading = css_urls.length + js_urls.length;\n",
       "\n",
       "    function on_load() {\n",
       "      root._bokeh_is_loading--;\n",
       "      if (root._bokeh_is_loading === 0) {\n",
       "        console.debug(\"Bokeh: all BokehJS libraries/stylesheets loaded\");\n",
       "        run_callbacks()\n",
       "      }\n",
       "    }\n",
       "\n",
       "    function on_error() {\n",
       "      console.error(\"failed to load \" + url);\n",
       "    }\n",
       "\n",
       "    for (var i = 0; i < css_urls.length; i++) {\n",
       "      var url = css_urls[i];\n",
       "      const element = document.createElement(\"link\");\n",
       "      element.onload = on_load;\n",
       "      element.onerror = on_error;\n",
       "      element.rel = \"stylesheet\";\n",
       "      element.type = \"text/css\";\n",
       "      element.href = url;\n",
       "      console.debug(\"Bokeh: injecting link tag for BokehJS stylesheet: \", url);\n",
       "      document.body.appendChild(element);\n",
       "    }\n",
       "\n",
       "    const hashes = {\"https://cdn.bokeh.org/bokeh/release/bokeh-2.2.3.min.js\": \"T2yuo9Oe71Cz/I4X9Ac5+gpEa5a8PpJCDlqKYO0CfAuEszu1JrXLl8YugMqYe3sM\", \"https://cdn.bokeh.org/bokeh/release/bokeh-widgets-2.2.3.min.js\": \"98GDGJ0kOMCUMUePhksaQ/GYgB3+NH9h996V88sh3aOiUNX3N+fLXAtry6xctSZ6\", \"https://cdn.bokeh.org/bokeh/release/bokeh-tables-2.2.3.min.js\": \"89bArO+nlbP3sgakeHjCo1JYxYR5wufVgA3IbUvDY+K7w4zyxJqssu7wVnfeKCq8\"};\n",
       "\n",
       "    for (var i = 0; i < js_urls.length; i++) {\n",
       "      var url = js_urls[i];\n",
       "      var element = document.createElement('script');\n",
       "      element.onload = on_load;\n",
       "      element.onerror = on_error;\n",
       "      element.async = false;\n",
       "      element.src = url;\n",
       "      if (url in hashes) {\n",
       "        element.crossOrigin = \"anonymous\";\n",
       "        element.integrity = \"sha384-\" + hashes[url];\n",
       "      }\n",
       "      console.debug(\"Bokeh: injecting script tag for BokehJS library: \", url);\n",
       "      document.head.appendChild(element);\n",
       "    }\n",
       "  };\n",
       "\n",
       "  function inject_raw_css(css) {\n",
       "    const element = document.createElement(\"style\");\n",
       "    element.appendChild(document.createTextNode(css));\n",
       "    document.body.appendChild(element);\n",
       "  }\n",
       "\n",
       "  \n",
       "  var js_urls = [\"https://cdn.bokeh.org/bokeh/release/bokeh-2.2.3.min.js\", \"https://cdn.bokeh.org/bokeh/release/bokeh-widgets-2.2.3.min.js\", \"https://cdn.bokeh.org/bokeh/release/bokeh-tables-2.2.3.min.js\"];\n",
       "  var css_urls = [];\n",
       "  \n",
       "\n",
       "  var inline_js = [\n",
       "    function(Bokeh) {\n",
       "      Bokeh.set_log_level(\"info\");\n",
       "    },\n",
       "    function(Bokeh) {\n",
       "    \n",
       "    \n",
       "    }\n",
       "  ];\n",
       "\n",
       "  function run_inline_js() {\n",
       "    \n",
       "    if (root.Bokeh !== undefined || force === true) {\n",
       "      \n",
       "    for (var i = 0; i < inline_js.length; i++) {\n",
       "      inline_js[i].call(root, root.Bokeh);\n",
       "    }\n",
       "    if (force === true) {\n",
       "        display_loaded();\n",
       "      }} else if (Date.now() < root._bokeh_timeout) {\n",
       "      setTimeout(run_inline_js, 100);\n",
       "    } else if (!root._bokeh_failed_load) {\n",
       "      console.log(\"Bokeh: BokehJS failed to load within specified timeout.\");\n",
       "      root._bokeh_failed_load = true;\n",
       "    } else if (force !== true) {\n",
       "      var cell = $(document.getElementById(\"1001\")).parents('.cell').data().cell;\n",
       "      cell.output_area.append_execute_result(NB_LOAD_WARNING)\n",
       "    }\n",
       "\n",
       "  }\n",
       "\n",
       "  if (root._bokeh_is_loading === 0) {\n",
       "    console.debug(\"Bokeh: BokehJS loaded, going straight to plotting\");\n",
       "    run_inline_js();\n",
       "  } else {\n",
       "    load_libs(css_urls, js_urls, function() {\n",
       "      console.debug(\"Bokeh: BokehJS plotting callback run at\", now());\n",
       "      run_inline_js();\n",
       "    });\n",
       "  }\n",
       "}(window));"
      ],
      "application/vnd.bokehjs_load.v0+json": "\n(function(root) {\n  function now() {\n    return new Date();\n  }\n\n  var force = true;\n\n  if (typeof root._bokeh_onload_callbacks === \"undefined\" || force === true) {\n    root._bokeh_onload_callbacks = [];\n    root._bokeh_is_loading = undefined;\n  }\n\n  \n\n  \n  if (typeof (root._bokeh_timeout) === \"undefined\" || force === true) {\n    root._bokeh_timeout = Date.now() + 5000;\n    root._bokeh_failed_load = false;\n  }\n\n  var NB_LOAD_WARNING = {'data': {'text/html':\n     \"<div style='background-color: #fdd'>\\n\"+\n     \"<p>\\n\"+\n     \"BokehJS does not appear to have successfully loaded. If loading BokehJS from CDN, this \\n\"+\n     \"may be due to a slow or bad network connection. Possible fixes:\\n\"+\n     \"</p>\\n\"+\n     \"<ul>\\n\"+\n     \"<li>re-rerun `output_notebook()` to attempt to load from CDN again, or</li>\\n\"+\n     \"<li>use INLINE resources instead, as so:</li>\\n\"+\n     \"</ul>\\n\"+\n     \"<code>\\n\"+\n     \"from bokeh.resources import INLINE\\n\"+\n     \"output_notebook(resources=INLINE)\\n\"+\n     \"</code>\\n\"+\n     \"</div>\"}};\n\n  function display_loaded() {\n    var el = document.getElementById(\"1001\");\n    if (el != null) {\n      el.textContent = \"BokehJS is loading...\";\n    }\n    if (root.Bokeh !== undefined) {\n      if (el != null) {\n        el.textContent = \"BokehJS \" + root.Bokeh.version + \" successfully loaded.\";\n      }\n    } else if (Date.now() < root._bokeh_timeout) {\n      setTimeout(display_loaded, 100)\n    }\n  }\n\n\n  function run_callbacks() {\n    try {\n      root._bokeh_onload_callbacks.forEach(function(callback) {\n        if (callback != null)\n          callback();\n      });\n    } finally {\n      delete root._bokeh_onload_callbacks\n    }\n    console.debug(\"Bokeh: all callbacks have finished\");\n  }\n\n  function load_libs(css_urls, js_urls, callback) {\n    if (css_urls == null) css_urls = [];\n    if (js_urls == null) js_urls = [];\n\n    root._bokeh_onload_callbacks.push(callback);\n    if (root._bokeh_is_loading > 0) {\n      console.debug(\"Bokeh: BokehJS is being loaded, scheduling callback at\", now());\n      return null;\n    }\n    if (js_urls == null || js_urls.length === 0) {\n      run_callbacks();\n      return null;\n    }\n    console.debug(\"Bokeh: BokehJS not loaded, scheduling load and callback at\", now());\n    root._bokeh_is_loading = css_urls.length + js_urls.length;\n\n    function on_load() {\n      root._bokeh_is_loading--;\n      if (root._bokeh_is_loading === 0) {\n        console.debug(\"Bokeh: all BokehJS libraries/stylesheets loaded\");\n        run_callbacks()\n      }\n    }\n\n    function on_error() {\n      console.error(\"failed to load \" + url);\n    }\n\n    for (var i = 0; i < css_urls.length; i++) {\n      var url = css_urls[i];\n      const element = document.createElement(\"link\");\n      element.onload = on_load;\n      element.onerror = on_error;\n      element.rel = \"stylesheet\";\n      element.type = \"text/css\";\n      element.href = url;\n      console.debug(\"Bokeh: injecting link tag for BokehJS stylesheet: \", url);\n      document.body.appendChild(element);\n    }\n\n    const hashes = {\"https://cdn.bokeh.org/bokeh/release/bokeh-2.2.3.min.js\": \"T2yuo9Oe71Cz/I4X9Ac5+gpEa5a8PpJCDlqKYO0CfAuEszu1JrXLl8YugMqYe3sM\", \"https://cdn.bokeh.org/bokeh/release/bokeh-widgets-2.2.3.min.js\": \"98GDGJ0kOMCUMUePhksaQ/GYgB3+NH9h996V88sh3aOiUNX3N+fLXAtry6xctSZ6\", \"https://cdn.bokeh.org/bokeh/release/bokeh-tables-2.2.3.min.js\": \"89bArO+nlbP3sgakeHjCo1JYxYR5wufVgA3IbUvDY+K7w4zyxJqssu7wVnfeKCq8\"};\n\n    for (var i = 0; i < js_urls.length; i++) {\n      var url = js_urls[i];\n      var element = document.createElement('script');\n      element.onload = on_load;\n      element.onerror = on_error;\n      element.async = false;\n      element.src = url;\n      if (url in hashes) {\n        element.crossOrigin = \"anonymous\";\n        element.integrity = \"sha384-\" + hashes[url];\n      }\n      console.debug(\"Bokeh: injecting script tag for BokehJS library: \", url);\n      document.head.appendChild(element);\n    }\n  };\n\n  function inject_raw_css(css) {\n    const element = document.createElement(\"style\");\n    element.appendChild(document.createTextNode(css));\n    document.body.appendChild(element);\n  }\n\n  \n  var js_urls = [\"https://cdn.bokeh.org/bokeh/release/bokeh-2.2.3.min.js\", \"https://cdn.bokeh.org/bokeh/release/bokeh-widgets-2.2.3.min.js\", \"https://cdn.bokeh.org/bokeh/release/bokeh-tables-2.2.3.min.js\"];\n  var css_urls = [];\n  \n\n  var inline_js = [\n    function(Bokeh) {\n      Bokeh.set_log_level(\"info\");\n    },\n    function(Bokeh) {\n    \n    \n    }\n  ];\n\n  function run_inline_js() {\n    \n    if (root.Bokeh !== undefined || force === true) {\n      \n    for (var i = 0; i < inline_js.length; i++) {\n      inline_js[i].call(root, root.Bokeh);\n    }\n    if (force === true) {\n        display_loaded();\n      }} else if (Date.now() < root._bokeh_timeout) {\n      setTimeout(run_inline_js, 100);\n    } else if (!root._bokeh_failed_load) {\n      console.log(\"Bokeh: BokehJS failed to load within specified timeout.\");\n      root._bokeh_failed_load = true;\n    } else if (force !== true) {\n      var cell = $(document.getElementById(\"1001\")).parents('.cell').data().cell;\n      cell.output_area.append_execute_result(NB_LOAD_WARNING)\n    }\n\n  }\n\n  if (root._bokeh_is_loading === 0) {\n    console.debug(\"Bokeh: BokehJS loaded, going straight to plotting\");\n    run_inline_js();\n  } else {\n    load_libs(css_urls, js_urls, function() {\n      console.debug(\"Bokeh: BokehJS plotting callback run at\", now());\n      run_inline_js();\n    });\n  }\n}(window));"
     },
     "metadata": {},
     "output_type": "display_data"
    }
   ],
   "source": [
    "import pandas as pd\n",
    "import numpy as np\n",
    "import matplotlib\n",
    "import matplotlib.pyplot as plt\n",
    "import datetime\n",
    "\n",
    "import yfinance as yf\n",
    "from talib import abstract\n",
    "\n",
    "from backtesting import Strategy, Backtest\n",
    "from backtesting.lib import crossover"
   ]
  },
  {
   "cell_type": "code",
   "execution_count": 2,
   "metadata": {},
   "outputs": [],
   "source": [
    "# directly import strategies\n",
    "SMA = abstract.SMA\n",
    "EMA = abstract.EMA\n",
    "MACD = abstract.MACD\n",
    "RSI = abstract.RSI\n",
    "STOCH = abstract.STOCH\n",
    "STOCHRSI = abstract.STOCHRSI"
   ]
  },
  {
   "cell_type": "markdown",
   "metadata": {},
   "source": [
    "## Getting Data from Yahoo Example\n",
    "Additional info: https://pypi.org/project/yfinance/"
   ]
  },
  {
   "cell_type": "code",
   "execution_count": 3,
   "metadata": {},
   "outputs": [
    {
     "data": {
      "text/html": [
       "<div>\n",
       "<style scoped>\n",
       "    .dataframe tbody tr th:only-of-type {\n",
       "        vertical-align: middle;\n",
       "    }\n",
       "\n",
       "    .dataframe tbody tr th {\n",
       "        vertical-align: top;\n",
       "    }\n",
       "\n",
       "    .dataframe thead th {\n",
       "        text-align: right;\n",
       "    }\n",
       "</style>\n",
       "<table border=\"1\" class=\"dataframe\">\n",
       "  <thead>\n",
       "    <tr style=\"text-align: right;\">\n",
       "      <th></th>\n",
       "      <th>Open</th>\n",
       "      <th>High</th>\n",
       "      <th>Low</th>\n",
       "      <th>Close</th>\n",
       "      <th>Volume</th>\n",
       "      <th>Dividends</th>\n",
       "      <th>Stock Splits</th>\n",
       "    </tr>\n",
       "    <tr>\n",
       "      <th>Date</th>\n",
       "      <th></th>\n",
       "      <th></th>\n",
       "      <th></th>\n",
       "      <th></th>\n",
       "      <th></th>\n",
       "      <th></th>\n",
       "      <th></th>\n",
       "    </tr>\n",
       "  </thead>\n",
       "  <tbody>\n",
       "    <tr>\n",
       "      <th>2018-02-26</th>\n",
       "      <td>2757.370117</td>\n",
       "      <td>2780.639893</td>\n",
       "      <td>2753.780029</td>\n",
       "      <td>2779.600098</td>\n",
       "      <td>3424650000</td>\n",
       "      <td>0</td>\n",
       "      <td>0</td>\n",
       "    </tr>\n",
       "    <tr>\n",
       "      <th>2018-02-27</th>\n",
       "      <td>2780.449951</td>\n",
       "      <td>2789.149902</td>\n",
       "      <td>2744.219971</td>\n",
       "      <td>2744.280029</td>\n",
       "      <td>3745080000</td>\n",
       "      <td>0</td>\n",
       "      <td>0</td>\n",
       "    </tr>\n",
       "    <tr>\n",
       "      <th>2018-02-28</th>\n",
       "      <td>2753.780029</td>\n",
       "      <td>2761.520020</td>\n",
       "      <td>2713.540039</td>\n",
       "      <td>2713.830078</td>\n",
       "      <td>4230660000</td>\n",
       "      <td>0</td>\n",
       "      <td>0</td>\n",
       "    </tr>\n",
       "    <tr>\n",
       "      <th>2018-03-01</th>\n",
       "      <td>2715.219971</td>\n",
       "      <td>2730.889893</td>\n",
       "      <td>2659.649902</td>\n",
       "      <td>2677.669922</td>\n",
       "      <td>4503970000</td>\n",
       "      <td>0</td>\n",
       "      <td>0</td>\n",
       "    </tr>\n",
       "    <tr>\n",
       "      <th>2018-03-02</th>\n",
       "      <td>2658.889893</td>\n",
       "      <td>2696.250000</td>\n",
       "      <td>2647.320068</td>\n",
       "      <td>2691.250000</td>\n",
       "      <td>3882450000</td>\n",
       "      <td>0</td>\n",
       "      <td>0</td>\n",
       "    </tr>\n",
       "    <tr>\n",
       "      <th>...</th>\n",
       "      <td>...</td>\n",
       "      <td>...</td>\n",
       "      <td>...</td>\n",
       "      <td>...</td>\n",
       "      <td>...</td>\n",
       "      <td>...</td>\n",
       "      <td>...</td>\n",
       "    </tr>\n",
       "    <tr>\n",
       "      <th>2021-02-17</th>\n",
       "      <td>3918.500000</td>\n",
       "      <td>3933.610107</td>\n",
       "      <td>3900.429932</td>\n",
       "      <td>3931.330078</td>\n",
       "      <td>4718280000</td>\n",
       "      <td>0</td>\n",
       "      <td>0</td>\n",
       "    </tr>\n",
       "    <tr>\n",
       "      <th>2021-02-18</th>\n",
       "      <td>3915.860107</td>\n",
       "      <td>3921.979980</td>\n",
       "      <td>3885.030029</td>\n",
       "      <td>3913.969971</td>\n",
       "      <td>4773430000</td>\n",
       "      <td>0</td>\n",
       "      <td>0</td>\n",
       "    </tr>\n",
       "    <tr>\n",
       "      <th>2021-02-19</th>\n",
       "      <td>3921.159912</td>\n",
       "      <td>3930.409912</td>\n",
       "      <td>3903.070068</td>\n",
       "      <td>3906.709961</td>\n",
       "      <td>4823940000</td>\n",
       "      <td>0</td>\n",
       "      <td>0</td>\n",
       "    </tr>\n",
       "    <tr>\n",
       "      <th>2021-02-22</th>\n",
       "      <td>3885.550049</td>\n",
       "      <td>3902.919922</td>\n",
       "      <td>3874.709961</td>\n",
       "      <td>3876.500000</td>\n",
       "      <td>5870190000</td>\n",
       "      <td>0</td>\n",
       "      <td>0</td>\n",
       "    </tr>\n",
       "    <tr>\n",
       "      <th>2021-02-23</th>\n",
       "      <td>3857.070068</td>\n",
       "      <td>3895.979980</td>\n",
       "      <td>3805.590088</td>\n",
       "      <td>3881.370117</td>\n",
       "      <td>6280650000</td>\n",
       "      <td>0</td>\n",
       "      <td>0</td>\n",
       "    </tr>\n",
       "  </tbody>\n",
       "</table>\n",
       "<p>754 rows × 7 columns</p>\n",
       "</div>"
      ],
      "text/plain": [
       "                   Open         High          Low        Close      Volume  \\\n",
       "Date                                                                         \n",
       "2018-02-26  2757.370117  2780.639893  2753.780029  2779.600098  3424650000   \n",
       "2018-02-27  2780.449951  2789.149902  2744.219971  2744.280029  3745080000   \n",
       "2018-02-28  2753.780029  2761.520020  2713.540039  2713.830078  4230660000   \n",
       "2018-03-01  2715.219971  2730.889893  2659.649902  2677.669922  4503970000   \n",
       "2018-03-02  2658.889893  2696.250000  2647.320068  2691.250000  3882450000   \n",
       "...                 ...          ...          ...          ...         ...   \n",
       "2021-02-17  3918.500000  3933.610107  3900.429932  3931.330078  4718280000   \n",
       "2021-02-18  3915.860107  3921.979980  3885.030029  3913.969971  4773430000   \n",
       "2021-02-19  3921.159912  3930.409912  3903.070068  3906.709961  4823940000   \n",
       "2021-02-22  3885.550049  3902.919922  3874.709961  3876.500000  5870190000   \n",
       "2021-02-23  3857.070068  3895.979980  3805.590088  3881.370117  6280650000   \n",
       "\n",
       "            Dividends  Stock Splits  \n",
       "Date                                 \n",
       "2018-02-26          0             0  \n",
       "2018-02-27          0             0  \n",
       "2018-02-28          0             0  \n",
       "2018-03-01          0             0  \n",
       "2018-03-02          0             0  \n",
       "...               ...           ...  \n",
       "2021-02-17          0             0  \n",
       "2021-02-18          0             0  \n",
       "2021-02-19          0             0  \n",
       "2021-02-22          0             0  \n",
       "2021-02-23          0             0  \n",
       "\n",
       "[754 rows x 7 columns]"
      ]
     },
     "execution_count": 3,
     "metadata": {},
     "output_type": "execute_result"
    }
   ],
   "source": [
    "# valid periods: 1d,5d,1mo,3mo,6mo,1y,2y,3y,5y,10y,ytd,max\n",
    "# can also use specify: data = yf.download(\"SPY AAPL\", start=\"2017-01-01\", end=\"2017-04-30\")\n",
    "# S&P500 index: ^GSPC\n",
    "stock = yf.Ticker(\"^GSPC\")\n",
    "\n",
    "# one way to get data for period of interest\n",
    "df = stock.history(period=\"3y\")\n",
    "df\n",
    "\n",
    "# Other potential fields of interest\n",
    "# stock.info\n",
    "# stock.major_holders\n",
    "# stock.recommendations\n",
    "# stock.options"
   ]
  },
  {
   "cell_type": "markdown",
   "metadata": {},
   "source": [
    "## EDA"
   ]
  },
  {
   "cell_type": "code",
   "execution_count": 4,
   "metadata": {},
   "outputs": [
    {
     "data": {
      "text/plain": [
       "[<matplotlib.lines.Line2D at 0x2439f425f08>]"
      ]
     },
     "execution_count": 4,
     "metadata": {},
     "output_type": "execute_result"
    },
    {
     "data": {
      "image/png": "[encoded data removed]",
      "text/plain": [
       "<Figure size 432x288 with 1 Axes>"
      ]
     },
     "metadata": {
      "needs_background": "light"
     },
     "output_type": "display_data"
    }
   ],
   "source": [
    "# Simple stock chart based on API data\n",
    "plt.plot(df.Close)"
   ]
  },
  {
   "cell_type": "markdown",
   "metadata": {},
   "source": [
    "### Adding Returns Data"
   ]
  },
  {
   "cell_type": "code",
   "execution_count": 5,
   "metadata": {},
   "outputs": [
    {
     "ename": "SyntaxError",
     "evalue": "invalid syntax (<ipython-input-5-1283b5d8f1ce>, line 6)",
     "output_type": "error",
     "traceback": [
      "\u001b[1;36m  File \u001b[1;32m\"<ipython-input-5-1283b5d8f1ce>\"\u001b[1;36m, line \u001b[1;32m6\u001b[0m\n\u001b[1;33m    df[\"N5D_Return\"] = (df[\"Close\"] - df[\"Close\"].shift(-5)) * -1+\u001b[0m\n\u001b[1;37m                                                                  ^\u001b[0m\n\u001b[1;31mSyntaxError\u001b[0m\u001b[1;31m:\u001b[0m invalid syntax\n"
     ]
    }
   ],
   "source": [
    "# Daily return based on Close price\n",
    "df[\"Return\"] = df[\"Close\"] - df[\"Close\"].shift(1)\n",
    "df[\"Return%\"] = df[\"Return\"] / df[\"Close\"]\n",
    "\n",
    "# Next 5 day return based on Close price\n",
    "df[\"N5D_Return\"] = (df[\"Close\"] - df[\"Close\"].shift(-5)) * -1+\n",
    "df[\"N5D_Return%\"] = df[\"N5D_Return\"] / df[\"Close\"]\n",
    "\n",
    "df.head(10)"
   ]
  },
  {
   "cell_type": "markdown",
   "metadata": {},
   "source": [
    "### Adding Common Technical Levels/Signals to the Data"
   ]
  },
  {
   "cell_type": "code",
   "execution_count": null,
   "metadata": {},
   "outputs": [],
   "source": [
    "# Add simple moving averages (SMAs)\n",
    "df[\"SMA3\"] = SMA(df.Close, 3)\n",
    "df[\"SMA5\"] = SMA(df.Close, 5)\n",
    "df[\"SMA10\"] = SMA(df.Close, 10)\n",
    "df[\"SMA15\"] = SMA(df.Close, 15)\n",
    "df[\"SMA20\"] = SMA(df.Close, 20)\n",
    "df[\"SMA30\"] = SMA(df.Close, 30)\n",
    "df[\"SMA50\"] = SMA(df.Close, 50)\n",
    "\n",
    "# Add exponential moving averages (EMAs)\n",
    "# More info: https://www.investopedia.com/terms/e/ema.asp\n",
    "df[\"EMA3\"] = EMA(df.Close, 3)\n",
    "df[\"EMA5\"] = EMA(df.Close, 5)\n",
    "df[\"EMA10\"] = EMA(df.Close, 10)\n",
    "df[\"EMA15\"] = EMA(df.Close, 15)\n",
    "df[\"EMA20\"] = EMA(df.Close, 20)\n",
    "df[\"EMA30\"] = EMA(df.Close, 30)\n",
    "df[\"EMA50\"] = EMA(df.Close, 50)\n",
    "\n",
    "# Add pivot point (PP) and classical support and resistance pivot points\n",
    "# More info: https://www.investopedia.com/terms/p/pivotpoint.asp\n",
    "df[\"PP\"] = (df.High + df.Low + df.Close) / 3\n",
    "df[\"S1C\"] = df.PP * 2 - df.High\n",
    "df[\"S2C\"] = df.PP - (df.High - df.Low)\n",
    "df[\"S3C\"] = df.Low - 2 * (df.High - df.PP)\n",
    "df[\"R1C\"] = df.PP * 2 - df.Low \n",
    "df[\"R2C\"] = df.PP + (df.High - df.Low)\n",
    "df[\"R3C\"] = df.High + 2 * (df.PP - df.Low)\n",
    "\n",
    "# Add Fibonacci support and resistance pivot points\n",
    "# More info: https://www.interactivebrokers.com/en/software/tws/usersguidebook/technicalanalytics/fibonaccipivotpoints.htm\n",
    "df[\"S1F\"] = df.PP - 0.382 * (df.High - df.Low)\n",
    "df[\"S2F\"] = df.PP - 0.618 * (df.High - df.Low)\n",
    "df[\"S3F\"] = df.PP - 1.0 * (df.High - df.Low)\n",
    "df[\"R1F\"] = df.PP + 0.382 * (df.High - df.Low)\n",
    "df[\"R2F\"] = df.PP + 0.618 * (df.High - df.Low)\n",
    "df[\"R3F\"] = df.PP + 1.0 * (df.High - df.Low)\n",
    "\n",
    "df"
   ]
  },
  {
   "cell_type": "markdown",
   "metadata": {},
   "source": [
    "### Adding Other Trading Signals to the Data"
   ]
  },
  {
   "cell_type": "code",
   "execution_count": null,
   "metadata": {},
   "outputs": [],
   "source": [
    "# Add SMA Crossing Signal\n",
    "sma_fast = SMA(df.Close, 3)\n",
    "sma_slow = SMA(df.Close, 15)\n",
    "sma_signal = pd.Series(sma_fast > sma_slow).astype(int).diff().fillna(0)\n",
    "df[\"SMA_Signal\"] = sma_signal.values\n",
    "\n",
    "# Add MACD Signal\n",
    "macd, macdsignal, macdhist = MACD(df.Close, fastperiod=12, slowperiod=26, signalperiod=9)\n",
    "macd_signal = pd.Series(macd > macdsignal).astype(int).diff().fillna(0)\n",
    "df[\"MACD_Signal\"] = macd_signal.values\n",
    "\n",
    "# Add RSI Level and Signal\n",
    "real = RSI(df.Close, timeperiod=14)\n",
    "df[\"RSI\"] = real\n",
    "overbought = 70\n",
    "oversold = 30\n",
    "buy_signal = pd.Series(real <= oversold).astype(int)\n",
    "sell_signal = pd.Series(real >= overbought).astype(int) * -1\n",
    "rsi_signal = buy_signal + sell_signal\n",
    "df[\"RSI_Signal\"] = rsi_signal.values\n",
    "\n",
    "# Add Stochastic Oscillator levels\n",
    "slowk, slowd = STOCH(df.High, df.Low, df.Close, \n",
    "                     fastk_period=5, slowk_period=3, slowk_matype=0, slowd_period=3, slowd_matype=0)\n",
    "overbought = 80\n",
    "oversold = 20\n",
    "buy_signal = pd.Series(slowk <= oversold).astype(int) + pd.Series(slowd <= oversold).astype(int)\n",
    "sell_signal = pd.Series(slowk >= overbought).astype(int) * -1 + pd.Series(slowd >= overbought).astype(int) * -1\n",
    "stoch_signal = buy_signal + sell_signal\n",
    "df[\"Slow_K\"] = slowk\n",
    "df[\"Slow_D\"] = slowd\n",
    "df[\"Stoch_Osci\"] = stoch_signal.values\n",
    "\n",
    "# Add Stochastic RSI levels\n",
    "fastk, fastd = STOCHRSI(df.Close, timeperiod=14, fastk_period=5, fastd_period=3, fastd_matype=0)\n",
    "overbought = 80\n",
    "oversold = 20\n",
    "buy_signal = pd.Series(fastk <= oversold).astype(int) + pd.Series(fastd <= oversold).astype(int)\n",
    "sell_signal = pd.Series(fastk >= overbought).astype(int) * -1 + pd.Series(fastd >= overbought).astype(int) * -1\n",
    "stoch_signal = buy_signal + sell_signal\n",
    "df[\"Fast_K\"] = fastk\n",
    "df[\"Fast_D\"] = fastd\n",
    "df[\"Stoch_RSI\"] = stoch_signal.values\n",
    "\n",
    "print(df.shape)\n",
    "df.describe()"
   ]
  },
  {
   "cell_type": "code",
   "execution_count": null,
   "metadata": {},
   "outputs": [],
   "source": [
    "df.head()"
   ]
  },
  {
   "cell_type": "code",
   "execution_count": null,
   "metadata": {},
   "outputs": [],
   "source": [
    "df.tail()"
   ]
  },
  {
   "cell_type": "code",
   "execution_count": null,
   "metadata": {},
   "outputs": [],
   "source": [
    "df.to_csv(\"example_data.csv\")"
   ]
  },
  {
   "cell_type": "markdown",
   "metadata": {},
   "source": [
    "### Returns and Signal Visualizations"
   ]
  },
  {
   "cell_type": "code",
   "execution_count": null,
   "metadata": {},
   "outputs": [],
   "source": [
    "plt.hist(df[\"Return%\"])"
   ]
  },
  {
   "cell_type": "code",
   "execution_count": null,
   "metadata": {},
   "outputs": [],
   "source": [
    "plt.plot(df[\"Return%\"])"
   ]
  },
  {
   "cell_type": "code",
   "execution_count": null,
   "metadata": {},
   "outputs": [],
   "source": [
    "plt.hist(df[\"N5D_Return%\"])"
   ]
  },
  {
   "cell_type": "code",
   "execution_count": null,
   "metadata": {},
   "outputs": [],
   "source": [
    "plt.plot(df[\"N5D_Return%\"])"
   ]
  },
  {
   "cell_type": "code",
   "execution_count": null,
   "metadata": {},
   "outputs": [],
   "source": [
    "# Take a look at an example signal plot\n",
    "plt.plot(df.SMA_Signal)"
   ]
  },
  {
   "cell_type": "code",
   "execution_count": null,
   "metadata": {},
   "outputs": [],
   "source": [
    "# Take a look at an example signal plot\n",
    "plt.plot(df.MACD_Signal)"
   ]
  },
  {
   "cell_type": "code",
   "execution_count": null,
   "metadata": {},
   "outputs": [],
   "source": [
    "plt.plot(df.RSI)"
   ]
  },
  {
   "cell_type": "code",
   "execution_count": null,
   "metadata": {},
   "outputs": [],
   "source": [
    "plt.plot(df.RSI_Signal)"
   ]
  },
  {
   "cell_type": "code",
   "execution_count": null,
   "metadata": {},
   "outputs": [],
   "source": []
  },
  {
   "cell_type": "code",
   "execution_count": null,
   "metadata": {},
   "outputs": [],
   "source": [
    "plt.scatter(df.SMA_Signal, df[\"N5D_Return%\"])"
   ]
  },
  {
   "cell_type": "code",
   "execution_count": null,
   "metadata": {},
   "outputs": [],
   "source": [
    "plt.scatter(df.MACD_Signal, df[\"N5D_Return%\"])"
   ]
  },
  {
   "cell_type": "code",
   "execution_count": null,
   "metadata": {},
   "outputs": [],
   "source": [
    "plt.scatter(df.RSI, df[\"N5D_Return%\"])"
   ]
  },
  {
   "cell_type": "markdown",
   "metadata": {},
   "source": [
    "## Trading Signal-Based Strategies\n",
    "More info: https://mrjbq7.github.io/ta-lib/func_groups/momentum_indicators.html"
   ]
  },
  {
   "cell_type": "markdown",
   "metadata": {},
   "source": [
    "### Buy and Hold"
   ]
  },
  {
   "cell_type": "code",
   "execution_count": null,
   "metadata": {},
   "outputs": [],
   "source": [
    "class BuyAndHold(Strategy):\n",
    "    # This strategy actually starts at day 2 of the time period because of the next() method\n",
    "    def init(self):\n",
    "        next\n",
    "    def next(self):\n",
    "        self.buy()"
   ]
  },
  {
   "cell_type": "markdown",
   "metadata": {},
   "source": [
    "### SMA Cross"
   ]
  },
  {
   "cell_type": "code",
   "execution_count": null,
   "metadata": {},
   "outputs": [],
   "source": [
    "class SmaCross(Strategy):\n",
    "    # Define parameters of the strategy\n",
    "    fast = 3\n",
    "    slow = 15\n",
    "    long_only = 1\n",
    "    \n",
    "    def init(self):\n",
    "        # Compute moving averages\n",
    "        self.fast_sma = self.I(SMA, self.data.Close, self.fast)\n",
    "        self.slow_sma = self.I(SMA, self.data.Close, self.slow)\n",
    "            \n",
    "    def next(self):\n",
    "        # If fast SMA crosses above slow SMA\n",
    "        if crossover(self.fast_sma, self.slow_sma):\n",
    "            if self.long_only == 0:\n",
    "                self.position.close()\n",
    "            self.buy()\n",
    "\n",
    "        # Else, if fast SMA crosses below slow SMA\n",
    "        elif crossover(self.slow_sma, self.fast_sma):\n",
    "            self.position.close()\n",
    "            if self.long_only == 0:\n",
    "                self.sell()"
   ]
  },
  {
   "cell_type": "markdown",
   "metadata": {},
   "source": [
    "### MACD\n",
    "\n",
    "More info: https://www.investopedia.com/terms/m/macd.asp"
   ]
  },
  {
   "cell_type": "code",
   "execution_count": null,
   "metadata": {},
   "outputs": [],
   "source": [
    "class MacdSignal(Strategy): \n",
    "    # Define parameters of the strategy\n",
    "    fastperiod = 12\n",
    "    slowperiod = 26\n",
    "    signalperiod = 9\n",
    "    long_only = 1\n",
    "    \n",
    "    def init(self):\n",
    "        # Compute MACD\n",
    "        self.macd, self.macdsignal, self.macdhist = self.I(\n",
    "             MACD, self.data.Close, self.fastperiod, self.slowperiod, self.signalperiod)\n",
    "        \n",
    "    def next(self):\n",
    "        # If MACD crosses above signal line\n",
    "        if crossover(self.macd, self.macdsignal):\n",
    "            if self.long_only == 0:\n",
    "                self.position.close()\n",
    "            self.buy()\n",
    "\n",
    "        # Else, if MACD crosses below signal line\n",
    "        elif crossover(self.macdsignal, self.macd):\n",
    "            self.position.close()\n",
    "            if self.long_only == 0:\n",
    "                self.sell()"
   ]
  },
  {
   "cell_type": "markdown",
   "metadata": {},
   "source": [
    "### RSI\n",
    "More info: https://www.investopedia.com/terms/r/rsi.asp"
   ]
  },
  {
   "cell_type": "code",
   "execution_count": null,
   "metadata": {},
   "outputs": [],
   "source": [
    "class RsiSignal(Strategy): \n",
    "    # Define parameters of the strategy\n",
    "    timeperiod = 14\n",
    "    overbought = 70\n",
    "    oversold = 30\n",
    "    long_only = 1\n",
    "    \n",
    "    def init(self):\n",
    "        # Compute RSI\n",
    "        self.real = self.I(RSI, self.data.Close, self.timeperiod)\n",
    "        \n",
    "    def next(self):\n",
    "        # If RSI enters oversold territory\n",
    "        if self.real <= self.oversold:\n",
    "            if self.long_only == 0:\n",
    "                self.position.close()\n",
    "            self.buy()\n",
    "        \n",
    "        # If RSI enters overbought territory\n",
    "        elif self.real >= self.overbought:\n",
    "            self.position.close()\n",
    "            if self.long_only == 0:\n",
    "                self.sell()"
   ]
  },
  {
   "cell_type": "markdown",
   "metadata": {},
   "source": [
    "### Stochastic Oscillator\n",
    "More info: https://www.investopedia.com/terms/s/stochasticoscillator.asp"
   ]
  },
  {
   "cell_type": "code",
   "execution_count": null,
   "metadata": {},
   "outputs": [],
   "source": [
    "class StochOsci(Strategy): \n",
    "    # Define parameters of the strategy\n",
    "    fastk_period = 14\n",
    "    slowk_period = 3\n",
    "    slowk_matype = 0\n",
    "    slowd_period = 3\n",
    "    slowd_matype = 0\n",
    "    overbought = 80\n",
    "    oversold = 20\n",
    "    long_only = 1\n",
    "    \n",
    "    def init(self):\n",
    "        # Compute K and D lines\n",
    "        self.slowk, self.slowd = self.I(STOCH, self.data.High, self.data.Low, self.data.Close, \n",
    "                                        self.fastk_period, self.slowk_period, self.slowk_matype, \n",
    "                                        self.slowd_period, self.slowd_matype)\n",
    "        \n",
    "    def next(self):\n",
    "        # If K and D enter oversold territory\n",
    "        if self.slowk <= self.oversold and self.slowd < self.oversold:\n",
    "            if self.long_only == 0:\n",
    "                self.position.close()\n",
    "            self.buy()\n",
    "        \n",
    "        # If K and D enter overbought territory\n",
    "        elif self.slowk >= self.overbought and self.slowd > self.overbought:\n",
    "            self.position.close()\n",
    "            if self.long_only == 0:\n",
    "                self.sell()"
   ]
  },
  {
   "cell_type": "markdown",
   "metadata": {},
   "source": [
    "### Stochastic RSI\n",
    "More info: https://www.investopedia.com/terms/s/stochrsi.asp"
   ]
  },
  {
   "cell_type": "code",
   "execution_count": null,
   "metadata": {},
   "outputs": [],
   "source": [
    "class StochRsi(Strategy): \n",
    "    # Define parameters of the strategy\n",
    "    timeperiod = 14\n",
    "    fastk_period = 14\n",
    "    fastd_period = 3\n",
    "    fastd_matype = 0\n",
    "    overbought = 80\n",
    "    oversold = 20\n",
    "    long_only = 1\n",
    "    \n",
    "    def init(self):\n",
    "        # Compute K and D lines\n",
    "        self.fastk, self.fastd = self.I(STOCHRSI, self.data.Close, self.timeperiod,\n",
    "                                        self.fastk_period, self.fastd_period, self.fastd_matype)\n",
    "        \n",
    "    def next(self):\n",
    "        # If K and D enter oversold territory\n",
    "        if self.fastk < self.oversold and self.fastd < self.oversold:\n",
    "            if self.long_only == 0:\n",
    "                self.position.close()\n",
    "            self.buy()\n",
    "        \n",
    "        # If K and D enter overbought territory\n",
    "        elif self.fastk > self.overbought and self.fastd > self.overbought:\n",
    "            self.position.close()\n",
    "            if self.long_only == 0:\n",
    "                self.sell()"
   ]
  },
  {
   "cell_type": "markdown",
   "metadata": {},
   "source": [
    "## Backtesting Strategies\n",
    "Additional info: https://kernc.github.io/backtesting.py/doc/examples/Quick%20Start%20User%20Guide.html"
   ]
  },
  {
   "cell_type": "code",
   "execution_count": null,
   "metadata": {},
   "outputs": [],
   "source": [
    "# Specify data timeframe and strategy to test\n",
    "# Get data from Yahoo\n",
    "# valid periods: 1d,5d,1mo,3mo,6mo,1y,2y,3y,5y,10y,ytd,max\n",
    "# can also use specify: data = yf.download(\"SPY AAPL\", start=\"2017-01-01\", end=\"2017-04-30\")\n",
    "# S&P500 index: ^GSPC\n",
    "data = yf.download(\"SPY\", period=\"1y\")\n",
    "strategy = BuyAndHold\n",
    "\n",
    "# Run backtesting\n",
    "bt = Backtest(data, strategy, cash=100_000, commission=0)\n",
    "stats = bt.run()\n",
    "\n",
    "# Display stats and plot results\n",
    "print(stats)\n",
    "bt.plot()"
   ]
  },
  {
   "cell_type": "code",
   "execution_count": null,
   "metadata": {},
   "outputs": [],
   "source": [
    "# Contains individual trade data\n",
    "stats['_trades']"
   ]
  },
  {
   "cell_type": "code",
   "execution_count": null,
   "metadata": {},
   "outputs": [],
   "source": [
    "# Contains equity/drawdown curves. DrawdownDuration is only defined at ends of DD periods.\n",
    "stats['_equity_curve']"
   ]
  },
  {
   "cell_type": "markdown",
   "metadata": {},
   "source": [
    "Memo: other examples: https://kernc.github.io/backtesting.py/doc/examples/Trading%20with%20Machine%20Learning.html"
   ]
  },
  {
   "cell_type": "markdown",
   "metadata": {},
   "source": [
    "### Backtesting Strategy Reliability On Multiple Years"
   ]
  },
  {
   "cell_type": "code",
   "execution_count": null,
   "metadata": {},
   "outputs": [],
   "source": [
    "# valid periods: 1d,5d,1mo,3mo,6mo,1y,2y,3y,5y,10y,ytd,max\n",
    "# can also use specify: data = yf.download(\"SPY AAPL\", start=\"2017-01-01\", end=\"2017-04-30\")\n",
    "recent_periods = [\"6mo\", \"1y\"]\n",
    "year_periods = [(\"2015-12-31\", \"2016-12-31\"), (\"2016-12-31\", \"2017-12-31\"),\n",
    "               (\"2017-12-31\", \"2018-12-31\"), (\"2018-12-31\", \"2019-12-31\"), \n",
    "               (\"2019-12-31\", \"2020-12-31\")]\n",
    "\n",
    "strategy = SmaCross\n",
    "\n",
    "def Backtest_Strategy(ticker, strategy, period):\n",
    "    \n",
    "    # Download data depending on type specification\n",
    "    if type(period) == str:\n",
    "        data = yf.download(ticker, period=period)\n",
    "    else:\n",
    "        data = yf.download(ticker, start=period[0], end=period[1]\n",
    "    \n",
    "    # Run backtesting\n",
    "    bt = Backtest(data, strategy, cash=100_000, commission=0)\n",
    "    stats = bt.run()\n",
    "    \n",
    "    strategy_overview[\"\"]\n",
    "\n",
    "\n",
    "##### WORKING ON THIS #####\n",
    "stats[\"Sharpe Ratio\"]"
   ]
  },
  {
   "cell_type": "code",
   "execution_count": null,
   "metadata": {},
   "outputs": [],
   "source": [
    "today = datetime.date.today()\n",
    "print(today)"
   ]
  },
  {
   "cell_type": "code",
   "execution_count": null,
   "metadata": {},
   "outputs": [],
   "source": [
    "period = (\"2016-12-31\", \"2017-12-31\")\n",
    "period[0]"
   ]
  }
 ],
 "metadata": {
  "kernelspec": {
   "display_name": "Python 3",
   "language": "python",
   "name": "python3"
  },
  "language_info": {
   "codemirror_mode": {
    "name": "ipython",
    "version": 3
   },
   "file_extension": ".py",
   "mimetype": "text/x-python",
   "name": "python",
   "nbconvert_exporter": "python",
   "pygments_lexer": "ipython3",
   "version": "3.7.9"
  }
 },
 "nbformat": 4,
 "nbformat_minor": 4
}
