{
 "cells": [
  {
   "cell_type": "code",
   "execution_count": 20,
   "id": "compatible-vegetarian",
   "metadata": {},
   "outputs": [],
   "source": [
    "import pandas as pd\n",
    "import numpy as np\n",
    "import matplotlib\n",
    "import matplotlib.pyplot as plt\n",
    "import datetime\n",
    "\n",
    "import yfinance as yf\n",
    "from talib import abstract\n",
    "\n",
    "from backtesting import Strategy, Backtest\n",
    "from backtesting.lib import crossover\n",
    "\n",
    "# SK-learn libraries for data processing and learning\n",
    "from sklearn.preprocessing import MinMaxScaler\n",
    "from sklearn.preprocessing import StandardScaler\n",
    "from sklearn.model_selection import train_test_split\n",
    "from sklearn.linear_model import LinearRegression\n",
    "from sklearn.linear_model import LogisticRegression\n",
    "from sklearn.naive_bayes import MultinomialNB\n",
    "\n",
    "# SK-learn libraries for evaluation.\n",
    "from sklearn.metrics import confusion_matrix\n",
    "from sklearn import metrics\n",
    "from sklearn.metrics import classification_report\n",
    "from sklearn.metrics import roc_auc_score\n",
    "from sklearn.metrics import roc_curve"
   ]
  },
  {
   "cell_type": "markdown",
   "id": "transparent-chaos",
   "metadata": {},
   "source": [
    "## Get example data from Generated CSV File"
   ]
  },
  {
   "cell_type": "code",
   "execution_count": 2,
   "id": "economic-float",
   "metadata": {},
   "outputs": [
    {
     "name": "stdout",
     "output_type": "stream",
     "text": [
      "Index(['Date', 'Open', 'High', 'Low', 'Close', 'Volume', 'Dividends',\n",
      "       'Stock Splits', 'Return', 'Return%', 'L5D_Return', 'L5D_Return%',\n",
      "       'N5D_Return', 'N5D_Return%', 'N5D_Return_Delayed',\n",
      "       'N5D_Return_Delayed%', '52Wk_High', '52Wk_Low', '%52Wk_High',\n",
      "       '%52Wk_Low', 'Open%PriorClose', 'Close%Open', 'Close%High', 'Close%Low',\n",
      "       'Div%Close', '52Wk_Avg_Volume', '%52Wk_Avg_Volume', 'SMA3', 'SMA5',\n",
      "       'SMA10', 'SMA15', 'SMA20', 'SMA30', 'SMA50', 'SMA3%', 'SMA5%', 'SMA10%',\n",
      "       'SMA15%', 'SMA20%', 'SMA30%', 'SMA50%', 'EMA3', 'EMA5', 'EMA10',\n",
      "       'EMA15', 'EMA20', 'EMA30', 'EMA50', 'EMA3%', 'EMA5%', 'EMA10%',\n",
      "       'EMA15%', 'EMA20%', 'EMA30%', 'EMA50%', 'PP', 'S1C', 'S2C', 'S3C',\n",
      "       'R1C', 'R2C', 'R3C', 'PP%', 'S1C%', 'S2C%', 'S3C%', 'R1C%', 'R2C%',\n",
      "       'R3C%', 'S1F', 'S2F', 'S3F', 'R1F', 'R2F', 'R3F', 'S1F%', 'S2F%',\n",
      "       'S3F%', 'R1F%', 'R2F%', 'R3F%', 'SMA_Signal', 'MACD_Signal', 'RSI',\n",
      "       'RSI_Signal', 'Slow_K', 'Slow_D', 'Stoch_Osci', 'Fast_K', 'Fast_D',\n",
      "       'Stoch_RSI', 'Labels'],\n",
      "      dtype='object')\n"
     ]
    },
    {
     "data": {
      "text/plain": [
       "(3771, 92)"
      ]
     },
     "execution_count": 2,
     "metadata": {},
     "output_type": "execute_result"
    }
   ],
   "source": [
    "# Get signal data written to csv to start\n",
    "df = pd.read_csv(\"example_data.csv\")\n",
    "print(df.columns)\n",
    "df.shape"
   ]
  },
  {
   "cell_type": "code",
   "execution_count": 3,
   "id": "practical-currency",
   "metadata": {},
   "outputs": [],
   "source": [
    "# Adjusting Buy and Sell labels based on return, using the following metrics and thresholds\n",
    "return_metric = df[\"N5D_Return_Delayed%\"]\n",
    "buy_threshold = 0.005\n",
    "sell_threshold = -0.005\n",
    "\n",
    "buy_signal = pd.Series(return_metric >= buy_threshold).astype(int)\n",
    "sell_signal = pd.Series(return_metric <= sell_threshold).astype(int) * -1\n",
    "labels = buy_signal + sell_signal\n",
    "df[\"Labels\"] = labels.values\n",
    "\n",
    "# Drop NA rows where metrics cannot be computed (beginning and end of the dataframe)\n",
    "# Drops about a year plus a few days of data\n",
    "df.dropna(axis=0, how='any', inplace=True)"
   ]
  },
  {
   "cell_type": "code",
   "execution_count": 4,
   "id": "empirical-professional",
   "metadata": {},
   "outputs": [
    {
     "data": {
      "text/plain": [
       "(3771, 47)"
      ]
     },
     "execution_count": 4,
     "metadata": {},
     "output_type": "execute_result"
    }
   ],
   "source": [
    "# Get labels and features data\n",
    "N5D = df[\"N5D_Return_Delayed%\"]\n",
    "labels = df[\"Labels\"]\n",
    "\n",
    "# Only use standardized features  \n",
    "data = df[['Stock Splits', 'Return%', 'L5D_Return%', \\\n",
    "           '%52Wk_High','%52Wk_Low', 'Open%PriorClose', \\\n",
    "           'Close%Open', 'Close%High', 'Close%Low','Div%Close', \\\n",
    "           'SMA3%', 'SMA5%', 'SMA10%', 'SMA15%', 'SMA20%', 'SMA30%', 'SMA50%', \\\n",
    "           'EMA3%', 'EMA5%', 'EMA10%', 'EMA15%', 'EMA20%', 'EMA30%', 'EMA50%', \\\n",
    "           'PP%', 'S1C%', 'S2C%','S3C%', 'R1C%', 'R2C%', 'R3C%', \\\n",
    "           'S1F%', 'S2F%', 'S3F%', 'R1F%', 'R2F%', 'R3F%', \\\n",
    "           'SMA_Signal', 'MACD_Signal', 'RSI', 'RSI_Signal', 'Slow_K', 'Slow_D', \\\n",
    "           'Stoch_Osci', 'Fast_K', 'Fast_D', 'Stoch_RSI']]\n",
    "\n",
    "data.shape"
   ]
  },
  {
   "cell_type": "code",
   "execution_count": 5,
   "id": "elementary-aerospace",
   "metadata": {},
   "outputs": [
    {
     "data": {
      "text/plain": [
       "(array([  1.,   0.,   1.,   0.,   4.,   0.,   1.,   1.,   1.,   2.,   4.,\n",
       "          6.,   8.,  12.,  18.,  23.,  59.,  70., 151., 220., 384., 694.,\n",
       "        866., 649., 295., 139.,  77.,  30.,  18.,  18.,   3.,   3.,   1.,\n",
       "          2.,   6.,   2.,   0.,   0.,   1.,   1.]),\n",
       " array([-8.21363697, -7.841296  , -7.46895504, -7.09661407, -6.7242731 ,\n",
       "        -6.35193214, -5.97959117, -5.6072502 , -5.23490924, -4.86256827,\n",
       "        -4.4902273 , -4.11788634, -3.74554537, -3.3732044 , -3.00086344,\n",
       "        -2.62852247, -2.2561815 , -1.88384054, -1.51149957, -1.1391586 ,\n",
       "        -0.76681764, -0.39447667, -0.0221357 ,  0.35020526,  0.72254623,\n",
       "         1.0948872 ,  1.46722816,  1.83956913,  2.2119101 ,  2.58425106,\n",
       "         2.95659203,  3.328933  ,  3.70127396,  4.07361493,  4.4459559 ,\n",
       "         4.81829686,  5.19063783,  5.5629788 ,  5.93531976,  6.30766073,\n",
       "         6.6800017 ]),\n",
       " <BarContainer object of 40 artists>)"
      ]
     },
     "execution_count": 5,
     "metadata": {},
     "output_type": "execute_result"
    },
    {
     "data": {
      "image/png": "[encoded data removed]",
      "text/plain": [
       "<Figure size 432x288 with 1 Axes>"
      ]
     },
     "metadata": {
      "needs_background": "light"
     },
     "output_type": "display_data"
    }
   ],
   "source": [
    "norm_N5D=(N5D-N5D.mean())/N5D.std()\n",
    "plt.hist(norm_N5D, bins=40)"
   ]
  },
  {
   "cell_type": "code",
   "execution_count": 6,
   "id": "systematic-substitute",
   "metadata": {},
   "outputs": [
    {
     "name": "stdout",
     "output_type": "stream",
     "text": [
      "train_data: (3016, 47)\n",
      "train_labels: (3016,)\n",
      "test_data: (755, 47)\n",
      "test_labels: (755,)\n"
     ]
    }
   ],
   "source": [
    "# Splitting training data to train and dev data\n",
    "train_data, test_data, train_labels, test_labels = train_test_split(\n",
    "    data, labels, test_size=0.2, shuffle=False)\n",
    "\n",
    "## Take a look at the data sets\n",
    "print(\"train_data:\", train_data.shape)\n",
    "print(\"train_labels:\", train_labels.shape)\n",
    "print(\"test_data:\", test_data.shape)\n",
    "print(\"test_labels:\", test_labels.shape)"
   ]
  },
  {
   "cell_type": "code",
   "execution_count": 7,
   "id": "resident-produce",
   "metadata": {},
   "outputs": [
    {
     "data": {
      "text/plain": [
       "(array([220.,   0.,   0.,   0.,   0., 143.,   0.,   0.,   0., 392.]),\n",
       " array([-1. , -0.8, -0.6, -0.4, -0.2,  0. ,  0.2,  0.4,  0.6,  0.8,  1. ]),\n",
       " <BarContainer object of 10 artists>)"
      ]
     },
     "execution_count": 7,
     "metadata": {},
     "output_type": "execute_result"
    },
    {
     "data": {
      "image/png": "[encoded data removed]",
      "text/plain": [
       "<Figure size 432x288 with 1 Axes>"
      ]
     },
     "metadata": {
      "needs_background": "light"
     },
     "output_type": "display_data"
    }
   ],
   "source": [
    "plt.hist(test_labels)"
   ]
  },
  {
   "cell_type": "markdown",
   "id": "instructional-decade",
   "metadata": {},
   "source": [
    "## Logistic Regression Model"
   ]
  },
  {
   "cell_type": "code",
   "execution_count": 8,
   "id": "fitted-malpractice",
   "metadata": {},
   "outputs": [
    {
     "name": "stdout",
     "output_type": "stream",
     "text": [
      "Logistic Regression Model:\n",
      "\n",
      "    L2 c    accuracy        f1\n",
      "------------------------------\n",
      "     0.1      0.5113    0.3615\n",
      "       1      0.5166    0.3767\n",
      "      10      0.5139    0.4006\n",
      "     100      0.5152    0.4055\n",
      "     500      0.5113    0.4059\n",
      "    1000      0.5152    0.4075\n",
      "    2500      0.5139    0.4048\n",
      "    5000      0.5166    0.4079\n",
      "    7000      0.5152    0.4069\n",
      "    8000      0.5192    0.4098\n",
      "    9000      0.5166    0.4076\n",
      "   10000      0.5166    0.4077\n",
      "   20000      0.5152    0.4071\n",
      "\n",
      "Best f1 score of 0.4098 at C=8000\n"
     ]
    }
   ],
   "source": [
    "## Logistic Regression model, feature select using L2 regularization\n",
    "print(\"Logistic Regression Model:\\n\")\n",
    "print(\"{:>8}  {:>10}{:>10}\".format(\"L2 c\", \"accuracy\", \"f1\"))\n",
    "print(\"-\" * 30)\n",
    "\n",
    "# Produce Logistic Regression models with various C values\n",
    "c_values = [0.1, 1, 10, 100, 500, 1000, 2500, 5000, 7000, 8000, 9000, 10000, 20000]\n",
    "best_c, best_f1 = 0, 0\n",
    "\n",
    "for c in c_values:\n",
    "    lr_model = LogisticRegression(C=c, solver=\"liblinear\")\n",
    "    lr_model.fit(train_data, train_labels)\n",
    "    accuracy = lr_model.score(test_data, test_labels)\n",
    "    f1 = metrics.f1_score(test_labels, lr_model.predict(test_data), average='weighted')\n",
    "    print(\"{:>8}  {:10.4f}{:10.4f}\".format(c, accuracy, f1))\n",
    "    if f1 > best_f1:\n",
    "        best_c = c\n",
    "        best_f1 = f1 \n",
    "\n",
    "print(\"\\nBest f1 score of {:.4f} at C={}\".format(best_f1, best_c))"
   ]
  },
  {
   "cell_type": "code",
   "execution_count": 9,
   "id": "backed-doctor",
   "metadata": {},
   "outputs": [
    {
     "data": {
      "text/plain": [
       "LogisticRegression(C=9000, solver='liblinear')"
      ]
     },
     "execution_count": 9,
     "metadata": {},
     "output_type": "execute_result"
    }
   ],
   "source": [
    "# Get the best model results\n",
    "lr_model = LogisticRegression(C=9000, solver=\"liblinear\")\n",
    "lr_model.fit(train_data, train_labels)"
   ]
  },
  {
   "cell_type": "markdown",
   "id": "parliamentary-bride",
   "metadata": {},
   "source": [
    "### Take a look at the classification report"
   ]
  },
  {
   "cell_type": "code",
   "execution_count": 10,
   "id": "increasing-reply",
   "metadata": {},
   "outputs": [
    {
     "name": "stdout",
     "output_type": "stream",
     "text": [
      "              precision    recall  f1-score   support\n",
      "\n",
      "        Sell       0.50      0.04      0.07       220\n",
      "        Hold       0.35      0.14      0.20       143\n",
      "         Buy       0.53      0.92      0.67       392\n",
      "\n",
      "    accuracy                           0.52       755\n",
      "   macro avg       0.46      0.37      0.31       755\n",
      "weighted avg       0.49      0.52      0.41       755\n",
      "\n"
     ]
    }
   ],
   "source": [
    "# First look at classification report\n",
    "pred_labels = lr_model.predict(test_data)\n",
    "score=lr_model.score(test_data, test_labels)\n",
    "target_names = ['Sell', 'Hold', 'Buy']\n",
    "\n",
    "print(classification_report(test_labels, pred_labels, target_names = target_names) )"
   ]
  },
  {
   "cell_type": "code",
   "execution_count": 11,
   "id": "coated-qatar",
   "metadata": {},
   "outputs": [
    {
     "data": {
      "text/plain": [
       "(array([ 16.,   0.,   0.,   0.,   0.,  57.,   0.,   0.,   0., 682.]),\n",
       " array([-1. , -0.8, -0.6, -0.4, -0.2,  0. ,  0.2,  0.4,  0.6,  0.8,  1. ]),\n",
       " <BarContainer object of 10 artists>)"
      ]
     },
     "execution_count": 11,
     "metadata": {},
     "output_type": "execute_result"
    },
    {
     "data": {
      "image/png": "[encoded data removed]",
      "text/plain": [
       "<Figure size 432x288 with 1 Axes>"
      ]
     },
     "metadata": {
      "needs_background": "light"
     },
     "output_type": "display_data"
    }
   ],
   "source": [
    "plt.hist(pred_labels)"
   ]
  },
  {
   "cell_type": "code",
   "execution_count": 12,
   "id": "banned-following",
   "metadata": {},
   "outputs": [
    {
     "name": "stdout",
     "output_type": "stream",
     "text": [
      "[[  8  15 197]\n",
      " [  0  20 123]\n",
      " [  8  22 362]]\n"
     ]
    }
   ],
   "source": [
    "print(confusion_matrix(test_labels, pred_labels))"
   ]
  },
  {
   "cell_type": "markdown",
   "id": "ranking-glance",
   "metadata": {},
   "source": [
    "### Examine feature coefficients of best model with L2 regularization"
   ]
  },
  {
   "cell_type": "code",
   "execution_count": 13,
   "id": "protecting-choir",
   "metadata": {
    "scrolled": false
   },
   "outputs": [
    {
     "name": "stdout",
     "output_type": "stream",
     "text": [
      "Features from the Logistic Regression Model with Weights:\n",
      "\n",
      "            Features         Sell Weight         Hold Weight          Buy Weight\n",
      "--------------------------------------------------------------------------------\n",
      "              SMA30%              0.1672             -4.4593              5.9876\n",
      "              SMA10%             -0.0229             -1.1291              4.1645\n",
      "              SMA15%              0.0315             -0.9905              2.6821\n",
      "     Open%PriorClose              0.4265             -4.6140              0.8338\n",
      "              EMA20%              0.5703             -1.7186              0.7688\n",
      "              EMA15%              0.4534             -1.0121              0.6845\n",
      "           %52Wk_Low              0.1367             -0.5092              0.3835\n",
      "              EMA50%              1.1732             -3.2657              0.2723\n",
      "              EMA30%              0.9313             -2.9289              0.2352\n",
      "              EMA10%              0.4222             -0.2622              0.2083\n",
      "          RSI_Signal             -0.2104              0.0825              0.1675\n",
      "                S3C%              2.4572             -4.0386              0.0562\n",
      "          Stoch_Osci              0.0641             -0.1024              0.0203\n",
      "         MACD_Signal             -0.0074             -0.0042              0.0077\n",
      "              Fast_D             -0.0023             -0.0025              0.0049\n",
      "              Fast_K             -0.0034              0.0031              0.0000\n",
      "        Stock Splits              0.0000              0.0000              0.0000\n",
      "              Slow_D             -0.0110              0.0134             -0.0005\n",
      "                 RSI             -0.0316              0.0436             -0.0047\n",
      "           Stoch_RSI             -0.0827              0.1149             -0.0083\n",
      "              Slow_K              0.0166             -0.0046             -0.0113\n",
      "          %52Wk_High             -1.1063              3.0808             -0.1678\n",
      "          SMA_Signal              0.0388              0.2177             -0.1801\n",
      "          Close%High             -0.2585              0.3315             -0.3470\n",
      "                S1C%              0.9171             -0.9755             -0.3584\n",
      "              SMA50%              1.7303             -4.9468             -0.4011\n",
      "           Close%Low              1.2603             -2.6061             -0.4152\n",
      "                R1C%             -0.5842              2.3483             -0.6199\n",
      "                R3C%             -2.0413              5.8593             -0.8346\n",
      "                S2C%              1.8520             -1.6601             -0.8594\n",
      "                S3F%              1.8520             -1.6601             -0.8594\n",
      "                S2F%              1.2617             -0.5572             -0.9176\n",
      "          Close%Open              0.0327              4.0314             -0.9238\n",
      "                S1F%              0.9000              0.1485             -0.9461\n",
      "                 PP%              0.3198              1.3258             -0.9845\n",
      "               EMA5%              0.4581              0.7608             -1.0076\n",
      "                R1F%             -0.2539              2.5422             -1.0177\n",
      "                R2F%             -0.6049              3.3112             -1.0374\n",
      "                R3F%             -1.1676              4.5811             -1.0703\n",
      "                R2C%             -1.1676              4.5811             -1.0703\n",
      "               EMA3%              0.3727              1.2503             -1.3779\n",
      "           Div%Close              0.2176              0.2045             -1.5457\n",
      "              SMA20%              0.7775             -0.6657             -2.2402\n",
      "             Return%              0.4400              5.7160             -2.2798\n",
      "               SMA5%              0.6046              1.3360             -2.3046\n",
      "               SMA3%              0.6776              1.3341             -2.6863\n",
      "         L5D_Return%              2.1182             -2.4016             -3.2355\n"
     ]
    }
   ],
   "source": [
    "## Get the top features from the model\n",
    "indices, features, sell_weights, hold_weights, buy_weights = [], [], [], [], []\n",
    "indices.extend(np.argsort(-lr_model.coef_[2]))\n",
    "\n",
    "#for i in range(len(train_data.columns)):\n",
    "for i in indices:\n",
    "    features.append(train_data.columns[i])\n",
    "    sell_weights.append(lr_model.coef_[0][i])\n",
    "    hold_weights.append(lr_model.coef_[1][i])\n",
    "    buy_weights.append(lr_model.coef_[2][i])\n",
    "    \n",
    "## Set up table to print results\n",
    "print(\"Features from the Logistic Regression Model with Weights:\\n\")\n",
    "print(\"{:>20}{:>20}{:>20}{:>20}\".format(\"Features\", \"Sell Weight\", \"Hold Weight\", \"Buy Weight\"))\n",
    "print(\"-\" * 80)\n",
    "\n",
    "## Print the features along with weights\n",
    "for i in range(int(len(features))):\n",
    "        print(\"{:>20}{:20.4f}{:20.4f}{:20.4f}\"\n",
    "              .format(features[i], sell_weights[i], hold_weights[i], buy_weights[i]))"
   ]
  },
  {
   "cell_type": "markdown",
   "id": "lesser-nudist",
   "metadata": {},
   "source": [
    "### Additional feature selection using both L1 and L2 regularization"
   ]
  },
  {
   "cell_type": "code",
   "execution_count": 14,
   "id": "supposed-upset",
   "metadata": {},
   "outputs": [
    {
     "name": "stdout",
     "output_type": "stream",
     "text": [
      "Logistic Regression Model with L1 and L2 Regularization:\n",
      "\n",
      "     L1 C value   feature size       accuracy             f1\n",
      "------------------------------------------------------------\n",
      "            0.1             11         0.5139         0.3676\n",
      "            0.2             11         0.5139         0.3676\n",
      "            0.5             15         0.5166         0.3728\n",
      "              1             16         0.5152         0.3722\n",
      "              2             23         0.5126         0.4084\n",
      "              5             35         0.5166         0.4083\n",
      "             10             38         0.5139         0.4064\n",
      "             20             43         0.5152         0.4071\n",
      "             50             45         0.5152         0.4056\n",
      "            100             46         0.5179         0.4087\n",
      "            200             45         0.5192         0.4105\n",
      "            500             46         0.5179         0.4087\n",
      "\n",
      "Best f1 score of 0.4105 at L1 C=200\n"
     ]
    }
   ],
   "source": [
    "## Improved Logistic Regression Model: using preprocessed training and dev data\n",
    "np.random.seed(0) ## keep for comparison purposes\n",
    "\n",
    "## Print result table headers\n",
    "print(\"Logistic Regression Model with L1 and L2 Regularization:\\n\")\n",
    "print(\"{:>15}{:>15}{:>15}{:>15}\".format(\"L1 C value\", \"feature size\", \"accuracy\", \"f1\"))\n",
    "print(\"-\" * 60)\n",
    "\n",
    "## Produce Logistic Regression models with various C values for L1 regularization\n",
    "c_values = c_values = [0.1, 0.2, 0.5, 1, 2, 5, 10, 20, 50, 100, 200, 500]\n",
    "best_c, best_f1 = 0, 0\n",
    "\n",
    "for c in c_values:\n",
    "    ## Feature selection model with L1 regularization, test different C strengths\n",
    "    lrm = LogisticRegression(C=c, solver=\"liblinear\", penalty=\"l1\", tol=0.015)\n",
    "    lrm.fit(train_data, train_labels)\n",
    "\n",
    "    ## Get non-zero features\n",
    "    nz_features = []\n",
    "    for i in range(len(train_data.columns)):\n",
    "        if abs(lrm.coef_[0][i]) > 0 or abs(lrm.coef_[2][i]) > 0:\n",
    "            nz_features.append(train_data.columns[i])\n",
    "    \n",
    "    ## New model with L2 regularization\n",
    "    new_train_data = train_data[nz_features]\n",
    "    new_test_data = test_data[nz_features]\n",
    "\n",
    "    lrm = LogisticRegression(C=8000, solver=\"liblinear\", penalty=\"l2\")\n",
    "    lrm.fit(new_train_data, train_labels)\n",
    "    accuracy = lrm.score(new_test_data, test_labels)\n",
    "    f1 = metrics.f1_score(test_labels, lrm.predict(new_test_data), average='weighted')\n",
    "    print(\"{:>15}{:>15}{:>15.4f}{:>15.4f}\".format(c, len(nz_features), accuracy, f1))\n",
    "    if f1 > best_f1:\n",
    "        best_c = c\n",
    "        best_f1 = f1\n",
    "\n",
    "print(\"\\nBest f1 score of {:.4f} at L1 C={}\".format(best_f1, best_c))"
   ]
  },
  {
   "cell_type": "code",
   "execution_count": 15,
   "id": "operating-botswana",
   "metadata": {},
   "outputs": [
    {
     "name": "stdout",
     "output_type": "stream",
     "text": [
      "Features from the Logistic Regression Model with Weights:\n",
      "\n",
      "            Features         Sell Weight         Hold Weight          Buy Weight\n",
      "--------------------------------------------------------------------------------\n",
      "              SMA50%              1.8964             -9.4903              3.4561\n",
      "     Open%PriorClose              0.5020             -2.9230              0.6677\n",
      "           %52Wk_Low              0.2089             -0.7597              0.3255\n",
      "          RSI_Signal             -0.2205              0.0760              0.1664\n",
      "          Stoch_Osci              0.0590             -0.1019              0.0154\n",
      "              Fast_D             -0.0035             -0.0059              0.0068\n",
      "              Slow_D             -0.0128              0.0130              0.0026\n",
      "              Fast_K             -0.0018              0.0058             -0.0020\n",
      "                 RSI             -0.0287              0.0433             -0.0074\n",
      "              Slow_K              0.0190             -0.0067             -0.0120\n",
      "           Stoch_RSI             -0.0960              0.1272             -0.0121\n",
      "          Close%High              0.1345              1.0043             -0.0969\n",
      "          SMA_Signal              0.0384              0.2081             -0.1676\n",
      "          %52Wk_High             -1.9761              4.9311             -0.4466\n",
      "           Close%Low              1.4208             -3.7752             -0.7960\n"
     ]
    }
   ],
   "source": [
    "# Select model result, start with L1 regularization\n",
    "lrm = LogisticRegression(C=2, solver=\"liblinear\", penalty=\"l1\", tol=0.015)\n",
    "lrm.fit(train_data, train_labels)\n",
    "\n",
    "## Get non-zero features\n",
    "nz_features = []\n",
    "for i in range(len(train_data.columns)):\n",
    "    if abs(lrm.coef_[0][i]) > 0 and abs(lrm.coef_[2][i]) > 0:\n",
    "        nz_features.append(train_data.columns[i])\n",
    "    \n",
    "## New model with L2 regularization\n",
    "new_train_data = train_data[nz_features]\n",
    "new_test_data = test_data[nz_features]\n",
    "\n",
    "lrm = LogisticRegression(C=8000, solver=\"liblinear\", penalty=\"l2\")\n",
    "lrm.fit(new_train_data, train_labels)\n",
    "accuracy = lrm.score(new_test_data, test_labels)\n",
    "f1 = metrics.f1_score(test_labels, lrm.predict(new_test_data), average='weighted')\n",
    "lr_model = lrm\n",
    "\n",
    "## Get the top features from the model\n",
    "indices, features, sell_weights, hold_weights, buy_weights = [], [], [], [], []\n",
    "indices.extend(np.argsort(-lr_model.coef_[2]))\n",
    "\n",
    "#for i in range(len(train_data.columns)):\n",
    "for i in indices:\n",
    "    features.append(new_train_data.columns[i])\n",
    "    sell_weights.append(lr_model.coef_[0][i])\n",
    "    hold_weights.append(lr_model.coef_[1][i])\n",
    "    buy_weights.append(lr_model.coef_[2][i])\n",
    "    \n",
    "## Set up table to print results\n",
    "print(\"Features from the Logistic Regression Model with Weights:\\n\")\n",
    "print(\"{:>20}{:>20}{:>20}{:>20}\".format(\"Features\", \"Sell Weight\", \"Hold Weight\", \"Buy Weight\"))\n",
    "print(\"-\" * 80)\n",
    "\n",
    "## Print the features along with weights\n",
    "for i in range(int(len(features))):\n",
    "        print(\"{:>20}{:20.4f}{:20.4f}{:20.4f}\"\n",
    "              .format(features[i], sell_weights[i], hold_weights[i], buy_weights[i]))"
   ]
  },
  {
   "cell_type": "code",
   "execution_count": 16,
   "id": "detailed-count",
   "metadata": {},
   "outputs": [
    {
     "name": "stdout",
     "output_type": "stream",
     "text": [
      "              precision    recall  f1-score   support\n",
      "\n",
      "        Sell       0.40      0.01      0.02       220\n",
      "        Hold       0.30      0.09      0.14       143\n",
      "         Buy       0.53      0.95      0.68       392\n",
      "\n",
      "    accuracy                           0.51       755\n",
      "   macro avg       0.41      0.35      0.28       755\n",
      "weighted avg       0.45      0.51      0.38       755\n",
      "\n"
     ]
    }
   ],
   "source": [
    "# Look at classification report\n",
    "pred_labels = lr_model.predict(new_test_data)\n",
    "score=lr_model.score(new_test_data, test_labels)\n",
    "target_names = ['Sell', 'Hold', 'Buy']\n",
    "\n",
    "print(classification_report(test_labels, pred_labels, target_names = target_names) )"
   ]
  },
  {
   "cell_type": "code",
   "execution_count": 17,
   "id": "aware-beaver",
   "metadata": {},
   "outputs": [
    {
     "data": {
      "text/plain": [
       "(array([  5.,   0.,   0.,   0.,   0.,  43.,   0.,   0.,   0., 707.]),\n",
       " array([-1. , -0.8, -0.6, -0.4, -0.2,  0. ,  0.2,  0.4,  0.6,  0.8,  1. ]),\n",
       " <BarContainer object of 10 artists>)"
      ]
     },
     "execution_count": 17,
     "metadata": {},
     "output_type": "execute_result"
    },
    {
     "data": {
      "image/png": "[encoded data removed]",
      "text/plain": [
       "<Figure size 432x288 with 1 Axes>"
      ]
     },
     "metadata": {
      "needs_background": "light"
     },
     "output_type": "display_data"
    }
   ],
   "source": [
    "plt.hist(pred_labels)"
   ]
  },
  {
   "cell_type": "code",
   "execution_count": 18,
   "id": "indie-moldova",
   "metadata": {},
   "outputs": [
    {
     "name": "stdout",
     "output_type": "stream",
     "text": [
      "[[  2  14 204]\n",
      " [  0  13 130]\n",
      " [  3  16 373]]\n"
     ]
    }
   ],
   "source": [
    "print(confusion_matrix(test_labels, pred_labels))"
   ]
  },
  {
   "cell_type": "code",
   "execution_count": null,
   "id": "detected-sterling",
   "metadata": {},
   "outputs": [],
   "source": []
  }
 ],
 "metadata": {
  "kernelspec": {
   "display_name": "Python 3",
   "language": "python",
   "name": "python3"
  },
  "language_info": {
   "codemirror_mode": {
    "name": "ipython",
    "version": 3
   },
   "file_extension": ".py",
   "mimetype": "text/x-python",
   "name": "python",
   "nbconvert_exporter": "python",
   "pygments_lexer": "ipython3",
   "version": "3.7.9"
  }
 },
 "nbformat": 4,
 "nbformat_minor": 5
}
