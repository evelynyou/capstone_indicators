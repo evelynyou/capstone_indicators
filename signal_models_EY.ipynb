{
 "cells": [
  {
   "cell_type": "code",
   "execution_count": 1,
   "id": "compatible-vegetarian",
   "metadata": {},
   "outputs": [
    {
     "name": "stderr",
     "output_type": "stream",
     "text": [
      "C:\\ProgramData\\Anaconda3\\lib\\site-packages\\backtesting\\_plotting.py:45: UserWarning: Jupyter Notebook detected. Setting Bokeh output to notebook. This may not work in Jupyter clients without JavaScript support (e.g. PyCharm, Spyder IDE). Reset with `backtesting.set_bokeh_output(notebook=False)`.\n",
      "  warnings.warn('Jupyter Notebook detected. '\n"
     ]
    },
    {
     "data": {
      "text/html": [
       "\n",
       "    <div class=\"bk-root\">\n",
       "        <a href=\"https://bokeh.org\" target=\"_blank\" class=\"bk-logo bk-logo-small bk-logo-notebook\"></a>\n",
       "        <span id=\"1001\">Loading BokehJS ...</span>\n",
       "    </div>"
      ]
     },
     "metadata": {},
     "output_type": "display_data"
    },
    {
     "data": {
      "application/javascript": [
       "\n",
       "(function(root) {\n",
       "  function now() {\n",
       "    return new Date();\n",
       "  }\n",
       "\n",
       "  var force = true;\n",
       "\n",
       "  if (typeof root._bokeh_onload_callbacks === \"undefined\" || force === true) {\n",
       "    root._bokeh_onload_callbacks = [];\n",
       "    root._bokeh_is_loading = undefined;\n",
       "  }\n",
       "\n",
       "  var JS_MIME_TYPE = 'application/javascript';\n",
       "  var HTML_MIME_TYPE = 'text/html';\n",
       "  var EXEC_MIME_TYPE = 'application/vnd.bokehjs_exec.v0+json';\n",
       "  var CLASS_NAME = 'output_bokeh rendered_html';\n",
       "\n",
       "  /**\n",
       "   * Render data to the DOM node\n",
       "   */\n",
       "  function render(props, node) {\n",
       "    var script = document.createElement(\"script\");\n",
       "    node.appendChild(script);\n",
       "  }\n",
       "\n",
       "  /**\n",
       "   * Handle when an output is cleared or removed\n",
       "   */\n",
       "  function handleClearOutput(event, handle) {\n",
       "    var cell = handle.cell;\n",
       "\n",
       "    var id = cell.output_area._bokeh_element_id;\n",
       "    var server_id = cell.output_area._bokeh_server_id;\n",
       "    // Clean up Bokeh references\n",
       "    if (id != null && id in Bokeh.index) {\n",
       "      Bokeh.index[id].model.document.clear();\n",
       "      delete Bokeh.index[id];\n",
       "    }\n",
       "\n",
       "    if (server_id !== undefined) {\n",
       "      // Clean up Bokeh references\n",
       "      var cmd = \"from bokeh.io.state import curstate; print(curstate().uuid_to_server['\" + server_id + \"'].get_sessions()[0].document.roots[0]._id)\";\n",
       "      cell.notebook.kernel.execute(cmd, {\n",
       "        iopub: {\n",
       "          output: function(msg) {\n",
       "            var id = msg.content.text.trim();\n",
       "            if (id in Bokeh.index) {\n",
       "              Bokeh.index[id].model.document.clear();\n",
       "              delete Bokeh.index[id];\n",
       "            }\n",
       "          }\n",
       "        }\n",
       "      });\n",
       "      // Destroy server and session\n",
       "      var cmd = \"import bokeh.io.notebook as ion; ion.destroy_server('\" + server_id + \"')\";\n",
       "      cell.notebook.kernel.execute(cmd);\n",
       "    }\n",
       "  }\n",
       "\n",
       "  /**\n",
       "   * Handle when a new output is added\n",
       "   */\n",
       "  function handleAddOutput(event, handle) {\n",
       "    var output_area = handle.output_area;\n",
       "    var output = handle.output;\n",
       "\n",
       "    // limit handleAddOutput to display_data with EXEC_MIME_TYPE content only\n",
       "    if ((output.output_type != \"display_data\") || (!output.data.hasOwnProperty(EXEC_MIME_TYPE))) {\n",
       "      return\n",
       "    }\n",
       "\n",
       "    var toinsert = output_area.element.find(\".\" + CLASS_NAME.split(' ')[0]);\n",
       "\n",
       "    if (output.metadata[EXEC_MIME_TYPE][\"id\"] !== undefined) {\n",
       "      toinsert[toinsert.length - 1].firstChild.textContent = output.data[JS_MIME_TYPE];\n",
       "      // store reference to embed id on output_area\n",
       "      output_area._bokeh_element_id = output.metadata[EXEC_MIME_TYPE][\"id\"];\n",
       "    }\n",
       "    if (output.metadata[EXEC_MIME_TYPE][\"server_id\"] !== undefined) {\n",
       "      var bk_div = document.createElement(\"div\");\n",
       "      bk_div.innerHTML = output.data[HTML_MIME_TYPE];\n",
       "      var script_attrs = bk_div.children[0].attributes;\n",
       "      for (var i = 0; i < script_attrs.length; i++) {\n",
       "        toinsert[toinsert.length - 1].firstChild.setAttribute(script_attrs[i].name, script_attrs[i].value);\n",
       "        toinsert[toinsert.length - 1].firstChild.textContent = bk_div.children[0].textContent\n",
       "      }\n",
       "      // store reference to server id on output_area\n",
       "      output_area._bokeh_server_id = output.metadata[EXEC_MIME_TYPE][\"server_id\"];\n",
       "    }\n",
       "  }\n",
       "\n",
       "  function register_renderer(events, OutputArea) {\n",
       "\n",
       "    function append_mime(data, metadata, element) {\n",
       "      // create a DOM node to render to\n",
       "      var toinsert = this.create_output_subarea(\n",
       "        metadata,\n",
       "        CLASS_NAME,\n",
       "        EXEC_MIME_TYPE\n",
       "      );\n",
       "      this.keyboard_manager.register_events(toinsert);\n",
       "      // Render to node\n",
       "      var props = {data: data, metadata: metadata[EXEC_MIME_TYPE]};\n",
       "      render(props, toinsert[toinsert.length - 1]);\n",
       "      element.append(toinsert);\n",
       "      return toinsert\n",
       "    }\n",
       "\n",
       "    /* Handle when an output is cleared or removed */\n",
       "    events.on('clear_output.CodeCell', handleClearOutput);\n",
       "    events.on('delete.Cell', handleClearOutput);\n",
       "\n",
       "    /* Handle when a new output is added */\n",
       "    events.on('output_added.OutputArea', handleAddOutput);\n",
       "\n",
       "    /**\n",
       "     * Register the mime type and append_mime function with output_area\n",
       "     */\n",
       "    OutputArea.prototype.register_mime_type(EXEC_MIME_TYPE, append_mime, {\n",
       "      /* Is output safe? */\n",
       "      safe: true,\n",
       "      /* Index of renderer in `output_area.display_order` */\n",
       "      index: 0\n",
       "    });\n",
       "  }\n",
       "\n",
       "  // register the mime type if in Jupyter Notebook environment and previously unregistered\n",
       "  if (root.Jupyter !== undefined) {\n",
       "    var events = require('base/js/events');\n",
       "    var OutputArea = require('notebook/js/outputarea').OutputArea;\n",
       "\n",
       "    if (OutputArea.prototype.mime_types().indexOf(EXEC_MIME_TYPE) == -1) {\n",
       "      register_renderer(events, OutputArea);\n",
       "    }\n",
       "  }\n",
       "\n",
       "  \n",
       "  if (typeof (root._bokeh_timeout) === \"undefined\" || force === true) {\n",
       "    root._bokeh_timeout = Date.now() + 5000;\n",
       "    root._bokeh_failed_load = false;\n",
       "  }\n",
       "\n",
       "  var NB_LOAD_WARNING = {'data': {'text/html':\n",
       "     \"<div style='background-color: #fdd'>\\n\"+\n",
       "     \"<p>\\n\"+\n",
       "     \"BokehJS does not appear to have successfully loaded. If loading BokehJS from CDN, this \\n\"+\n",
       "     \"may be due to a slow or bad network connection. Possible fixes:\\n\"+\n",
       "     \"</p>\\n\"+\n",
       "     \"<ul>\\n\"+\n",
       "     \"<li>re-rerun `output_notebook()` to attempt to load from CDN again, or</li>\\n\"+\n",
       "     \"<li>use INLINE resources instead, as so:</li>\\n\"+\n",
       "     \"</ul>\\n\"+\n",
       "     \"<code>\\n\"+\n",
       "     \"from bokeh.resources import INLINE\\n\"+\n",
       "     \"output_notebook(resources=INLINE)\\n\"+\n",
       "     \"</code>\\n\"+\n",
       "     \"</div>\"}};\n",
       "\n",
       "  function display_loaded() {\n",
       "    var el = document.getElementById(\"1001\");\n",
       "    if (el != null) {\n",
       "      el.textContent = \"BokehJS is loading...\";\n",
       "    }\n",
       "    if (root.Bokeh !== undefined) {\n",
       "      if (el != null) {\n",
       "        el.textContent = \"BokehJS \" + root.Bokeh.version + \" successfully loaded.\";\n",
       "      }\n",
       "    } else if (Date.now() < root._bokeh_timeout) {\n",
       "      setTimeout(display_loaded, 100)\n",
       "    }\n",
       "  }\n",
       "\n",
       "\n",
       "  function run_callbacks() {\n",
       "    try {\n",
       "      root._bokeh_onload_callbacks.forEach(function(callback) {\n",
       "        if (callback != null)\n",
       "          callback();\n",
       "      });\n",
       "    } finally {\n",
       "      delete root._bokeh_onload_callbacks\n",
       "    }\n",
       "    console.debug(\"Bokeh: all callbacks have finished\");\n",
       "  }\n",
       "\n",
       "  function load_libs(css_urls, js_urls, callback) {\n",
       "    if (css_urls == null) css_urls = [];\n",
       "    if (js_urls == null) js_urls = [];\n",
       "\n",
       "    root._bokeh_onload_callbacks.push(callback);\n",
       "    if (root._bokeh_is_loading > 0) {\n",
       "      console.debug(\"Bokeh: BokehJS is being loaded, scheduling callback at\", now());\n",
       "      return null;\n",
       "    }\n",
       "    if (js_urls == null || js_urls.length === 0) {\n",
       "      run_callbacks();\n",
       "      return null;\n",
       "    }\n",
       "    console.debug(\"Bokeh: BokehJS not loaded, scheduling load and callback at\", now());\n",
       "    root._bokeh_is_loading = css_urls.length + js_urls.length;\n",
       "\n",
       "    function on_load() {\n",
       "      root._bokeh_is_loading--;\n",
       "      if (root._bokeh_is_loading === 0) {\n",
       "        console.debug(\"Bokeh: all BokehJS libraries/stylesheets loaded\");\n",
       "        run_callbacks()\n",
       "      }\n",
       "    }\n",
       "\n",
       "    function on_error() {\n",
       "      console.error(\"failed to load \" + url);\n",
       "    }\n",
       "\n",
       "    for (var i = 0; i < css_urls.length; i++) {\n",
       "      var url = css_urls[i];\n",
       "      const element = document.createElement(\"link\");\n",
       "      element.onload = on_load;\n",
       "      element.onerror = on_error;\n",
       "      element.rel = \"stylesheet\";\n",
       "      element.type = \"text/css\";\n",
       "      element.href = url;\n",
       "      console.debug(\"Bokeh: injecting link tag for BokehJS stylesheet: \", url);\n",
       "      document.body.appendChild(element);\n",
       "    }\n",
       "\n",
       "    const hashes = {\"https://cdn.bokeh.org/bokeh/release/bokeh-2.2.3.min.js\": \"T2yuo9Oe71Cz/I4X9Ac5+gpEa5a8PpJCDlqKYO0CfAuEszu1JrXLl8YugMqYe3sM\", \"https://cdn.bokeh.org/bokeh/release/bokeh-widgets-2.2.3.min.js\": \"98GDGJ0kOMCUMUePhksaQ/GYgB3+NH9h996V88sh3aOiUNX3N+fLXAtry6xctSZ6\", \"https://cdn.bokeh.org/bokeh/release/bokeh-tables-2.2.3.min.js\": \"89bArO+nlbP3sgakeHjCo1JYxYR5wufVgA3IbUvDY+K7w4zyxJqssu7wVnfeKCq8\"};\n",
       "\n",
       "    for (var i = 0; i < js_urls.length; i++) {\n",
       "      var url = js_urls[i];\n",
       "      var element = document.createElement('script');\n",
       "      element.onload = on_load;\n",
       "      element.onerror = on_error;\n",
       "      element.async = false;\n",
       "      element.src = url;\n",
       "      if (url in hashes) {\n",
       "        element.crossOrigin = \"anonymous\";\n",
       "        element.integrity = \"sha384-\" + hashes[url];\n",
       "      }\n",
       "      console.debug(\"Bokeh: injecting script tag for BokehJS library: \", url);\n",
       "      document.head.appendChild(element);\n",
       "    }\n",
       "  };\n",
       "\n",
       "  function inject_raw_css(css) {\n",
       "    const element = document.createElement(\"style\");\n",
       "    element.appendChild(document.createTextNode(css));\n",
       "    document.body.appendChild(element);\n",
       "  }\n",
       "\n",
       "  \n",
       "  var js_urls = [\"https://cdn.bokeh.org/bokeh/release/bokeh-2.2.3.min.js\", \"https://cdn.bokeh.org/bokeh/release/bokeh-widgets-2.2.3.min.js\", \"https://cdn.bokeh.org/bokeh/release/bokeh-tables-2.2.3.min.js\"];\n",
       "  var css_urls = [];\n",
       "  \n",
       "\n",
       "  var inline_js = [\n",
       "    function(Bokeh) {\n",
       "      Bokeh.set_log_level(\"info\");\n",
       "    },\n",
       "    function(Bokeh) {\n",
       "    \n",
       "    \n",
       "    }\n",
       "  ];\n",
       "\n",
       "  function run_inline_js() {\n",
       "    \n",
       "    if (root.Bokeh !== undefined || force === true) {\n",
       "      \n",
       "    for (var i = 0; i < inline_js.length; i++) {\n",
       "      inline_js[i].call(root, root.Bokeh);\n",
       "    }\n",
       "    if (force === true) {\n",
       "        display_loaded();\n",
       "      }} else if (Date.now() < root._bokeh_timeout) {\n",
       "      setTimeout(run_inline_js, 100);\n",
       "    } else if (!root._bokeh_failed_load) {\n",
       "      console.log(\"Bokeh: BokehJS failed to load within specified timeout.\");\n",
       "      root._bokeh_failed_load = true;\n",
       "    } else if (force !== true) {\n",
       "      var cell = $(document.getElementById(\"1001\")).parents('.cell').data().cell;\n",
       "      cell.output_area.append_execute_result(NB_LOAD_WARNING)\n",
       "    }\n",
       "\n",
       "  }\n",
       "\n",
       "  if (root._bokeh_is_loading === 0) {\n",
       "    console.debug(\"Bokeh: BokehJS loaded, going straight to plotting\");\n",
       "    run_inline_js();\n",
       "  } else {\n",
       "    load_libs(css_urls, js_urls, function() {\n",
       "      console.debug(\"Bokeh: BokehJS plotting callback run at\", now());\n",
       "      run_inline_js();\n",
       "    });\n",
       "  }\n",
       "}(window));"
      ],
      "application/vnd.bokehjs_load.v0+json": "\n(function(root) {\n  function now() {\n    return new Date();\n  }\n\n  var force = true;\n\n  if (typeof root._bokeh_onload_callbacks === \"undefined\" || force === true) {\n    root._bokeh_onload_callbacks = [];\n    root._bokeh_is_loading = undefined;\n  }\n\n  \n\n  \n  if (typeof (root._bokeh_timeout) === \"undefined\" || force === true) {\n    root._bokeh_timeout = Date.now() + 5000;\n    root._bokeh_failed_load = false;\n  }\n\n  var NB_LOAD_WARNING = {'data': {'text/html':\n     \"<div style='background-color: #fdd'>\\n\"+\n     \"<p>\\n\"+\n     \"BokehJS does not appear to have successfully loaded. If loading BokehJS from CDN, this \\n\"+\n     \"may be due to a slow or bad network connection. Possible fixes:\\n\"+\n     \"</p>\\n\"+\n     \"<ul>\\n\"+\n     \"<li>re-rerun `output_notebook()` to attempt to load from CDN again, or</li>\\n\"+\n     \"<li>use INLINE resources instead, as so:</li>\\n\"+\n     \"</ul>\\n\"+\n     \"<code>\\n\"+\n     \"from bokeh.resources import INLINE\\n\"+\n     \"output_notebook(resources=INLINE)\\n\"+\n     \"</code>\\n\"+\n     \"</div>\"}};\n\n  function display_loaded() {\n    var el = document.getElementById(\"1001\");\n    if (el != null) {\n      el.textContent = \"BokehJS is loading...\";\n    }\n    if (root.Bokeh !== undefined) {\n      if (el != null) {\n        el.textContent = \"BokehJS \" + root.Bokeh.version + \" successfully loaded.\";\n      }\n    } else if (Date.now() < root._bokeh_timeout) {\n      setTimeout(display_loaded, 100)\n    }\n  }\n\n\n  function run_callbacks() {\n    try {\n      root._bokeh_onload_callbacks.forEach(function(callback) {\n        if (callback != null)\n          callback();\n      });\n    } finally {\n      delete root._bokeh_onload_callbacks\n    }\n    console.debug(\"Bokeh: all callbacks have finished\");\n  }\n\n  function load_libs(css_urls, js_urls, callback) {\n    if (css_urls == null) css_urls = [];\n    if (js_urls == null) js_urls = [];\n\n    root._bokeh_onload_callbacks.push(callback);\n    if (root._bokeh_is_loading > 0) {\n      console.debug(\"Bokeh: BokehJS is being loaded, scheduling callback at\", now());\n      return null;\n    }\n    if (js_urls == null || js_urls.length === 0) {\n      run_callbacks();\n      return null;\n    }\n    console.debug(\"Bokeh: BokehJS not loaded, scheduling load and callback at\", now());\n    root._bokeh_is_loading = css_urls.length + js_urls.length;\n\n    function on_load() {\n      root._bokeh_is_loading--;\n      if (root._bokeh_is_loading === 0) {\n        console.debug(\"Bokeh: all BokehJS libraries/stylesheets loaded\");\n        run_callbacks()\n      }\n    }\n\n    function on_error() {\n      console.error(\"failed to load \" + url);\n    }\n\n    for (var i = 0; i < css_urls.length; i++) {\n      var url = css_urls[i];\n      const element = document.createElement(\"link\");\n      element.onload = on_load;\n      element.onerror = on_error;\n      element.rel = \"stylesheet\";\n      element.type = \"text/css\";\n      element.href = url;\n      console.debug(\"Bokeh: injecting link tag for BokehJS stylesheet: \", url);\n      document.body.appendChild(element);\n    }\n\n    const hashes = {\"https://cdn.bokeh.org/bokeh/release/bokeh-2.2.3.min.js\": \"T2yuo9Oe71Cz/I4X9Ac5+gpEa5a8PpJCDlqKYO0CfAuEszu1JrXLl8YugMqYe3sM\", \"https://cdn.bokeh.org/bokeh/release/bokeh-widgets-2.2.3.min.js\": \"98GDGJ0kOMCUMUePhksaQ/GYgB3+NH9h996V88sh3aOiUNX3N+fLXAtry6xctSZ6\", \"https://cdn.bokeh.org/bokeh/release/bokeh-tables-2.2.3.min.js\": \"89bArO+nlbP3sgakeHjCo1JYxYR5wufVgA3IbUvDY+K7w4zyxJqssu7wVnfeKCq8\"};\n\n    for (var i = 0; i < js_urls.length; i++) {\n      var url = js_urls[i];\n      var element = document.createElement('script');\n      element.onload = on_load;\n      element.onerror = on_error;\n      element.async = false;\n      element.src = url;\n      if (url in hashes) {\n        element.crossOrigin = \"anonymous\";\n        element.integrity = \"sha384-\" + hashes[url];\n      }\n      console.debug(\"Bokeh: injecting script tag for BokehJS library: \", url);\n      document.head.appendChild(element);\n    }\n  };\n\n  function inject_raw_css(css) {\n    const element = document.createElement(\"style\");\n    element.appendChild(document.createTextNode(css));\n    document.body.appendChild(element);\n  }\n\n  \n  var js_urls = [\"https://cdn.bokeh.org/bokeh/release/bokeh-2.2.3.min.js\", \"https://cdn.bokeh.org/bokeh/release/bokeh-widgets-2.2.3.min.js\", \"https://cdn.bokeh.org/bokeh/release/bokeh-tables-2.2.3.min.js\"];\n  var css_urls = [];\n  \n\n  var inline_js = [\n    function(Bokeh) {\n      Bokeh.set_log_level(\"info\");\n    },\n    function(Bokeh) {\n    \n    \n    }\n  ];\n\n  function run_inline_js() {\n    \n    if (root.Bokeh !== undefined || force === true) {\n      \n    for (var i = 0; i < inline_js.length; i++) {\n      inline_js[i].call(root, root.Bokeh);\n    }\n    if (force === true) {\n        display_loaded();\n      }} else if (Date.now() < root._bokeh_timeout) {\n      setTimeout(run_inline_js, 100);\n    } else if (!root._bokeh_failed_load) {\n      console.log(\"Bokeh: BokehJS failed to load within specified timeout.\");\n      root._bokeh_failed_load = true;\n    } else if (force !== true) {\n      var cell = $(document.getElementById(\"1001\")).parents('.cell').data().cell;\n      cell.output_area.append_execute_result(NB_LOAD_WARNING)\n    }\n\n  }\n\n  if (root._bokeh_is_loading === 0) {\n    console.debug(\"Bokeh: BokehJS loaded, going straight to plotting\");\n    run_inline_js();\n  } else {\n    load_libs(css_urls, js_urls, function() {\n      console.debug(\"Bokeh: BokehJS plotting callback run at\", now());\n      run_inline_js();\n    });\n  }\n}(window));"
     },
     "metadata": {},
     "output_type": "display_data"
    }
   ],
   "source": [
    "import pandas as pd\n",
    "import numpy as np\n",
    "import matplotlib\n",
    "import matplotlib.pyplot as plt\n",
    "import datetime\n",
    "\n",
    "import yfinance as yf\n",
    "from talib import abstract\n",
    "\n",
    "from backtesting import Strategy, Backtest\n",
    "from backtesting.lib import crossover\n",
    "\n",
    "# SK-learn libraries for data processing and learning\n",
    "from sklearn.preprocessing import MinMaxScaler\n",
    "from sklearn.preprocessing import StandardScaler\n",
    "from sklearn.model_selection import train_test_split\n",
    "from sklearn.linear_model import LinearRegression\n",
    "from sklearn.linear_model import LogisticRegression\n",
    "from sklearn.naive_bayes import MultinomialNB\n",
    "\n",
    "# SK-learn libraries for evaluation.\n",
    "from sklearn.metrics import confusion_matrix\n",
    "from sklearn import metrics\n",
    "from sklearn.metrics import classification_report\n",
    "from sklearn.metrics import roc_auc_score\n",
    "from sklearn.metrics import roc_curve"
   ]
  },
  {
   "cell_type": "markdown",
   "id": "transparent-chaos",
   "metadata": {},
   "source": [
    "## Get example data from Generated CSV File"
   ]
  },
  {
   "cell_type": "code",
   "execution_count": 2,
   "id": "economic-float",
   "metadata": {},
   "outputs": [
    {
     "name": "stdout",
     "output_type": "stream",
     "text": [
      "Index(['Date', 'Open', 'High', 'Low', 'Close', 'Volume', 'Dividends',\n",
      "       'Stock Splits', 'Return', 'Return%', 'L5D_Return', 'L5D_Return%',\n",
      "       'N5D_Return', 'N5D_Return%', 'N5D_Return_Delayed',\n",
      "       'N5D_Return_Delayed%', '52Wk_High', '52Wk_Low', '%52Wk_High',\n",
      "       '%52Wk_Low', 'Open%PriorClose', 'Close%Open', 'Close%High', 'Close%Low',\n",
      "       'Div%Close', '52Wk_Avg_Volume', '%52Wk_Avg_Volume', 'SMA3', 'SMA5',\n",
      "       'SMA10', 'SMA15', 'SMA20', 'SMA30', 'SMA50', 'SMA3%', 'SMA5%', 'SMA10%',\n",
      "       'SMA15%', 'SMA20%', 'SMA30%', 'SMA50%', 'EMA3', 'EMA5', 'EMA10',\n",
      "       'EMA15', 'EMA20', 'EMA30', 'EMA50', 'EMA3%', 'EMA5%', 'EMA10%',\n",
      "       'EMA15%', 'EMA20%', 'EMA30%', 'EMA50%', 'PP', 'S1C', 'S2C', 'S3C',\n",
      "       'R1C', 'R2C', 'R3C', 'PP%', 'S1C%', 'S2C%', 'S3C%', 'R1C%', 'R2C%',\n",
      "       'R3C%', 'S1F', 'S2F', 'S3F', 'R1F', 'R2F', 'R3F', 'S1F%', 'S2F%',\n",
      "       'S3F%', 'R1F%', 'R2F%', 'R3F%', 'SMA_Signal', 'MACD_Signal', 'RSI',\n",
      "       'RSI_Signal', 'Slow_K', 'Slow_D', 'Stoch_Osci', 'Fast_K', 'Fast_D',\n",
      "       'Stoch_RSI', 'Labels'],\n",
      "      dtype='object')\n"
     ]
    },
    {
     "data": {
      "text/plain": [
       "(3771, 92)"
      ]
     },
     "execution_count": 2,
     "metadata": {},
     "output_type": "execute_result"
    }
   ],
   "source": [
    "# Get signal data written to csv to start\n",
    "df = pd.read_csv(\"example_data.csv\")\n",
    "print(df.columns)\n",
    "df.shape"
   ]
  },
  {
   "cell_type": "code",
   "execution_count": 3,
   "id": "practical-currency",
   "metadata": {},
   "outputs": [],
   "source": [
    "# Adjusting Buy and Sell labels based on return, using the following metrics and thresholds\n",
    "return_metric = df[\"N5D_Return_Delayed%\"]\n",
    "buy_threshold = 0.01\n",
    "sell_threshold = -0.002\n",
    "\n",
    "buy_signal = pd.Series(return_metric >= buy_threshold).astype(int)\n",
    "sell_signal = pd.Series(return_metric <= sell_threshold).astype(int) * -1\n",
    "labels = buy_signal + sell_signal\n",
    "df[\"Labels\"] = labels.values\n",
    "\n",
    "# Drop NA rows where metrics cannot be computed (beginning and end of the dataframe)\n",
    "# Drops about a year plus a few days of data\n",
    "df.dropna(axis=0, how='any', inplace=True)"
   ]
  },
  {
   "cell_type": "code",
   "execution_count": 4,
   "id": "empirical-professional",
   "metadata": {},
   "outputs": [
    {
     "data": {
      "text/plain": [
       "(3771, 47)"
      ]
     },
     "execution_count": 4,
     "metadata": {},
     "output_type": "execute_result"
    }
   ],
   "source": [
    "# Get labels and features data\n",
    "N5D = df[\"N5D_Return_Delayed%\"]\n",
    "labels = df[\"Labels\"]\n",
    "\n",
    "# Only use standardized features  \n",
    "data = df[['Stock Splits', 'Return%', 'L5D_Return%', \\\n",
    "           '%52Wk_High','%52Wk_Low', 'Open%PriorClose', \\\n",
    "           'Close%Open', 'Close%High', 'Close%Low','Div%Close', \\\n",
    "           'SMA3%', 'SMA5%', 'SMA10%', 'SMA15%', 'SMA20%', 'SMA30%', 'SMA50%', \\\n",
    "           'EMA3%', 'EMA5%', 'EMA10%', 'EMA15%', 'EMA20%', 'EMA30%', 'EMA50%', \\\n",
    "           'PP%', 'S1C%', 'S2C%','S3C%', 'R1C%', 'R2C%', 'R3C%', \\\n",
    "           'S1F%', 'S2F%', 'S3F%', 'R1F%', 'R2F%', 'R3F%', \\\n",
    "           'SMA_Signal', 'MACD_Signal', 'RSI', 'RSI_Signal', 'Slow_K', 'Slow_D', \\\n",
    "           'Stoch_Osci', 'Fast_K', 'Fast_D', 'Stoch_RSI']]\n",
    "\n",
    "data.shape"
   ]
  },
  {
   "cell_type": "code",
   "execution_count": 5,
   "id": "derived-purse",
   "metadata": {},
   "outputs": [
    {
     "data": {
      "text/html": [
       "<div>\n",
       "<style scoped>\n",
       "    .dataframe tbody tr th:only-of-type {\n",
       "        vertical-align: middle;\n",
       "    }\n",
       "\n",
       "    .dataframe tbody tr th {\n",
       "        vertical-align: top;\n",
       "    }\n",
       "\n",
       "    .dataframe thead th {\n",
       "        text-align: right;\n",
       "    }\n",
       "</style>\n",
       "<table border=\"1\" class=\"dataframe\">\n",
       "  <thead>\n",
       "    <tr style=\"text-align: right;\">\n",
       "      <th></th>\n",
       "      <th>Stock Splits</th>\n",
       "      <th>Return%</th>\n",
       "      <th>L5D_Return%</th>\n",
       "      <th>%52Wk_High</th>\n",
       "      <th>%52Wk_Low</th>\n",
       "      <th>Open%PriorClose</th>\n",
       "      <th>Close%Open</th>\n",
       "      <th>Close%High</th>\n",
       "      <th>Close%Low</th>\n",
       "      <th>Div%Close</th>\n",
       "      <th>...</th>\n",
       "      <th>SMA_Signal</th>\n",
       "      <th>MACD_Signal</th>\n",
       "      <th>RSI</th>\n",
       "      <th>RSI_Signal</th>\n",
       "      <th>Slow_K</th>\n",
       "      <th>Slow_D</th>\n",
       "      <th>Stoch_Osci</th>\n",
       "      <th>Fast_K</th>\n",
       "      <th>Fast_D</th>\n",
       "      <th>Stoch_RSI</th>\n",
       "    </tr>\n",
       "  </thead>\n",
       "  <tbody>\n",
       "    <tr>\n",
       "      <th>0</th>\n",
       "      <td>0.0</td>\n",
       "      <td>0.464667</td>\n",
       "      <td>0.506946</td>\n",
       "      <td>0.998649</td>\n",
       "      <td>0.194435</td>\n",
       "      <td>0.647550</td>\n",
       "      <td>0.565440</td>\n",
       "      <td>0.990599</td>\n",
       "      <td>0.053421</td>\n",
       "      <td>0.0</td>\n",
       "      <td>...</td>\n",
       "      <td>0.5</td>\n",
       "      <td>0.5</td>\n",
       "      <td>0.588185</td>\n",
       "      <td>0.5</td>\n",
       "      <td>0.776817</td>\n",
       "      <td>0.835848</td>\n",
       "      <td>0.25</td>\n",
       "      <td>0.788096</td>\n",
       "      <td>0.712073</td>\n",
       "      <td>0.50</td>\n",
       "    </tr>\n",
       "    <tr>\n",
       "      <th>1</th>\n",
       "      <td>0.0</td>\n",
       "      <td>0.429445</td>\n",
       "      <td>0.510506</td>\n",
       "      <td>0.998498</td>\n",
       "      <td>0.194321</td>\n",
       "      <td>0.608233</td>\n",
       "      <td>0.551178</td>\n",
       "      <td>0.995298</td>\n",
       "      <td>0.046013</td>\n",
       "      <td>0.0</td>\n",
       "      <td>...</td>\n",
       "      <td>0.5</td>\n",
       "      <td>0.5</td>\n",
       "      <td>0.587183</td>\n",
       "      <td>0.5</td>\n",
       "      <td>0.769025</td>\n",
       "      <td>0.793326</td>\n",
       "      <td>0.50</td>\n",
       "      <td>0.782240</td>\n",
       "      <td>0.642401</td>\n",
       "      <td>0.50</td>\n",
       "    </tr>\n",
       "    <tr>\n",
       "      <th>2</th>\n",
       "      <td>0.0</td>\n",
       "      <td>0.411535</td>\n",
       "      <td>0.492158</td>\n",
       "      <td>0.989496</td>\n",
       "      <td>0.187500</td>\n",
       "      <td>0.597979</td>\n",
       "      <td>0.534259</td>\n",
       "      <td>0.897842</td>\n",
       "      <td>0.006747</td>\n",
       "      <td>0.0</td>\n",
       "      <td>...</td>\n",
       "      <td>0.5</td>\n",
       "      <td>0.5</td>\n",
       "      <td>0.527521</td>\n",
       "      <td>0.5</td>\n",
       "      <td>0.794718</td>\n",
       "      <td>0.789188</td>\n",
       "      <td>0.50</td>\n",
       "      <td>0.485123</td>\n",
       "      <td>0.685153</td>\n",
       "      <td>0.50</td>\n",
       "    </tr>\n",
       "    <tr>\n",
       "      <th>3</th>\n",
       "      <td>0.0</td>\n",
       "      <td>0.411755</td>\n",
       "      <td>0.479550</td>\n",
       "      <td>0.980644</td>\n",
       "      <td>0.180793</td>\n",
       "      <td>0.647947</td>\n",
       "      <td>0.485844</td>\n",
       "      <td>0.920696</td>\n",
       "      <td>0.019749</td>\n",
       "      <td>0.0</td>\n",
       "      <td>...</td>\n",
       "      <td>0.5</td>\n",
       "      <td>0.0</td>\n",
       "      <td>0.473070</td>\n",
       "      <td>0.5</td>\n",
       "      <td>0.678236</td>\n",
       "      <td>0.755769</td>\n",
       "      <td>0.50</td>\n",
       "      <td>0.000000</td>\n",
       "      <td>0.422454</td>\n",
       "      <td>0.75</td>\n",
       "    </tr>\n",
       "    <tr>\n",
       "      <th>4</th>\n",
       "      <td>0.0</td>\n",
       "      <td>0.423623</td>\n",
       "      <td>0.499800</td>\n",
       "      <td>0.977644</td>\n",
       "      <td>0.178519</td>\n",
       "      <td>0.615561</td>\n",
       "      <td>0.535208</td>\n",
       "      <td>0.992872</td>\n",
       "      <td>0.035302</td>\n",
       "      <td>0.0</td>\n",
       "      <td>...</td>\n",
       "      <td>0.0</td>\n",
       "      <td>0.5</td>\n",
       "      <td>0.455073</td>\n",
       "      <td>0.5</td>\n",
       "      <td>0.478450</td>\n",
       "      <td>0.657266</td>\n",
       "      <td>0.50</td>\n",
       "      <td>0.000000</td>\n",
       "      <td>0.161708</td>\n",
       "      <td>1.00</td>\n",
       "    </tr>\n",
       "    <tr>\n",
       "      <th>...</th>\n",
       "      <td>...</td>\n",
       "      <td>...</td>\n",
       "      <td>...</td>\n",
       "      <td>...</td>\n",
       "      <td>...</td>\n",
       "      <td>...</td>\n",
       "      <td>...</td>\n",
       "      <td>...</td>\n",
       "      <td>...</td>\n",
       "      <td>...</td>\n",
       "      <td>...</td>\n",
       "      <td>...</td>\n",
       "      <td>...</td>\n",
       "      <td>...</td>\n",
       "      <td>...</td>\n",
       "      <td>...</td>\n",
       "      <td>...</td>\n",
       "      <td>...</td>\n",
       "      <td>...</td>\n",
       "      <td>...</td>\n",
       "      <td>...</td>\n",
       "    </tr>\n",
       "    <tr>\n",
       "      <th>3766</th>\n",
       "      <td>0.0</td>\n",
       "      <td>0.426350</td>\n",
       "      <td>0.516666</td>\n",
       "      <td>0.998318</td>\n",
       "      <td>0.998029</td>\n",
       "      <td>0.650422</td>\n",
       "      <td>0.505289</td>\n",
       "      <td>0.951879</td>\n",
       "      <td>0.015517</td>\n",
       "      <td>0.0</td>\n",
       "      <td>...</td>\n",
       "      <td>0.5</td>\n",
       "      <td>0.5</td>\n",
       "      <td>0.700468</td>\n",
       "      <td>0.5</td>\n",
       "      <td>0.950792</td>\n",
       "      <td>0.956235</td>\n",
       "      <td>0.00</td>\n",
       "      <td>0.970542</td>\n",
       "      <td>0.960626</td>\n",
       "      <td>0.00</td>\n",
       "    </tr>\n",
       "    <tr>\n",
       "      <th>3767</th>\n",
       "      <td>0.0</td>\n",
       "      <td>0.430652</td>\n",
       "      <td>0.518962</td>\n",
       "      <td>0.998763</td>\n",
       "      <td>0.998551</td>\n",
       "      <td>0.601245</td>\n",
       "      <td>0.559888</td>\n",
       "      <td>0.993026</td>\n",
       "      <td>0.062016</td>\n",
       "      <td>0.0</td>\n",
       "      <td>...</td>\n",
       "      <td>0.5</td>\n",
       "      <td>0.5</td>\n",
       "      <td>0.701899</td>\n",
       "      <td>0.5</td>\n",
       "      <td>0.949669</td>\n",
       "      <td>0.960093</td>\n",
       "      <td>0.00</td>\n",
       "      <td>0.974791</td>\n",
       "      <td>0.981778</td>\n",
       "      <td>0.00</td>\n",
       "    </tr>\n",
       "    <tr>\n",
       "      <th>3768</th>\n",
       "      <td>0.0</td>\n",
       "      <td>0.413036</td>\n",
       "      <td>0.509158</td>\n",
       "      <td>0.990501</td>\n",
       "      <td>0.988869</td>\n",
       "      <td>0.587111</td>\n",
       "      <td>0.547238</td>\n",
       "      <td>0.979275</td>\n",
       "      <td>0.060642</td>\n",
       "      <td>0.0</td>\n",
       "      <td>...</td>\n",
       "      <td>0.5</td>\n",
       "      <td>0.5</td>\n",
       "      <td>0.649175</td>\n",
       "      <td>0.5</td>\n",
       "      <td>0.908410</td>\n",
       "      <td>0.947941</td>\n",
       "      <td>0.00</td>\n",
       "      <td>0.818285</td>\n",
       "      <td>0.921206</td>\n",
       "      <td>0.00</td>\n",
       "    </tr>\n",
       "    <tr>\n",
       "      <th>3769</th>\n",
       "      <td>0.0</td>\n",
       "      <td>0.422815</td>\n",
       "      <td>0.500532</td>\n",
       "      <td>0.987088</td>\n",
       "      <td>0.984869</td>\n",
       "      <td>0.650985</td>\n",
       "      <td>0.499454</td>\n",
       "      <td>0.939252</td>\n",
       "      <td>0.009723</td>\n",
       "      <td>0.0</td>\n",
       "      <td>...</td>\n",
       "      <td>0.5</td>\n",
       "      <td>0.5</td>\n",
       "      <td>0.627568</td>\n",
       "      <td>0.5</td>\n",
       "      <td>0.874156</td>\n",
       "      <td>0.921963</td>\n",
       "      <td>0.00</td>\n",
       "      <td>0.631143</td>\n",
       "      <td>0.808073</td>\n",
       "      <td>0.25</td>\n",
       "    </tr>\n",
       "    <tr>\n",
       "      <th>3770</th>\n",
       "      <td>0.0</td>\n",
       "      <td>0.399542</td>\n",
       "      <td>0.468520</td>\n",
       "      <td>0.972246</td>\n",
       "      <td>0.967476</td>\n",
       "      <td>0.584222</td>\n",
       "      <td>0.529678</td>\n",
       "      <td>0.932574</td>\n",
       "      <td>0.005917</td>\n",
       "      <td>0.0</td>\n",
       "      <td>...</td>\n",
       "      <td>0.5</td>\n",
       "      <td>0.0</td>\n",
       "      <td>0.538960</td>\n",
       "      <td>0.5</td>\n",
       "      <td>0.762714</td>\n",
       "      <td>0.858586</td>\n",
       "      <td>0.25</td>\n",
       "      <td>0.000000</td>\n",
       "      <td>0.483143</td>\n",
       "      <td>0.75</td>\n",
       "    </tr>\n",
       "  </tbody>\n",
       "</table>\n",
       "<p>3771 rows × 47 columns</p>\n",
       "</div>"
      ],
      "text/plain": [
       "      Stock Splits   Return%  L5D_Return%  %52Wk_High  %52Wk_Low  \\\n",
       "0              0.0  0.464667     0.506946    0.998649   0.194435   \n",
       "1              0.0  0.429445     0.510506    0.998498   0.194321   \n",
       "2              0.0  0.411535     0.492158    0.989496   0.187500   \n",
       "3              0.0  0.411755     0.479550    0.980644   0.180793   \n",
       "4              0.0  0.423623     0.499800    0.977644   0.178519   \n",
       "...            ...       ...          ...         ...        ...   \n",
       "3766           0.0  0.426350     0.516666    0.998318   0.998029   \n",
       "3767           0.0  0.430652     0.518962    0.998763   0.998551   \n",
       "3768           0.0  0.413036     0.509158    0.990501   0.988869   \n",
       "3769           0.0  0.422815     0.500532    0.987088   0.984869   \n",
       "3770           0.0  0.399542     0.468520    0.972246   0.967476   \n",
       "\n",
       "      Open%PriorClose  Close%Open  Close%High  Close%Low  Div%Close  ...  \\\n",
       "0            0.647550    0.565440    0.990599   0.053421        0.0  ...   \n",
       "1            0.608233    0.551178    0.995298   0.046013        0.0  ...   \n",
       "2            0.597979    0.534259    0.897842   0.006747        0.0  ...   \n",
       "3            0.647947    0.485844    0.920696   0.019749        0.0  ...   \n",
       "4            0.615561    0.535208    0.992872   0.035302        0.0  ...   \n",
       "...               ...         ...         ...        ...        ...  ...   \n",
       "3766         0.650422    0.505289    0.951879   0.015517        0.0  ...   \n",
       "3767         0.601245    0.559888    0.993026   0.062016        0.0  ...   \n",
       "3768         0.587111    0.547238    0.979275   0.060642        0.0  ...   \n",
       "3769         0.650985    0.499454    0.939252   0.009723        0.0  ...   \n",
       "3770         0.584222    0.529678    0.932574   0.005917        0.0  ...   \n",
       "\n",
       "      SMA_Signal  MACD_Signal       RSI  RSI_Signal    Slow_K    Slow_D  \\\n",
       "0            0.5          0.5  0.588185         0.5  0.776817  0.835848   \n",
       "1            0.5          0.5  0.587183         0.5  0.769025  0.793326   \n",
       "2            0.5          0.5  0.527521         0.5  0.794718  0.789188   \n",
       "3            0.5          0.0  0.473070         0.5  0.678236  0.755769   \n",
       "4            0.0          0.5  0.455073         0.5  0.478450  0.657266   \n",
       "...          ...          ...       ...         ...       ...       ...   \n",
       "3766         0.5          0.5  0.700468         0.5  0.950792  0.956235   \n",
       "3767         0.5          0.5  0.701899         0.5  0.949669  0.960093   \n",
       "3768         0.5          0.5  0.649175         0.5  0.908410  0.947941   \n",
       "3769         0.5          0.5  0.627568         0.5  0.874156  0.921963   \n",
       "3770         0.5          0.0  0.538960         0.5  0.762714  0.858586   \n",
       "\n",
       "      Stoch_Osci    Fast_K    Fast_D  Stoch_RSI  \n",
       "0           0.25  0.788096  0.712073       0.50  \n",
       "1           0.50  0.782240  0.642401       0.50  \n",
       "2           0.50  0.485123  0.685153       0.50  \n",
       "3           0.50  0.000000  0.422454       0.75  \n",
       "4           0.50  0.000000  0.161708       1.00  \n",
       "...          ...       ...       ...        ...  \n",
       "3766        0.00  0.970542  0.960626       0.00  \n",
       "3767        0.00  0.974791  0.981778       0.00  \n",
       "3768        0.00  0.818285  0.921206       0.00  \n",
       "3769        0.00  0.631143  0.808073       0.25  \n",
       "3770        0.25  0.000000  0.483143       0.75  \n",
       "\n",
       "[3771 rows x 47 columns]"
      ]
     },
     "execution_count": 5,
     "metadata": {},
     "output_type": "execute_result"
    }
   ],
   "source": [
    "# Scale all features between 0 and 1\n",
    "norm = MinMaxScaler().fit(data)\n",
    "norm_data = pd.DataFrame(norm.transform(data), columns=data.columns)\n",
    "\n",
    "norm_data"
   ]
  },
  {
   "cell_type": "code",
   "execution_count": 6,
   "id": "egyptian-variety",
   "metadata": {},
   "outputs": [
    {
     "data": {
      "text/plain": [
       "(array([1.000e+00, 0.000e+00, 1.000e+00, 1.000e+00, 2.000e+00, 0.000e+00,\n",
       "        1.000e+00, 1.000e+00, 8.000e+00, 3.000e+01, 8.200e+01, 3.790e+02,\n",
       "        2.293e+03, 8.310e+02, 9.800e+01, 2.600e+01, 7.000e+00, 5.000e+00,\n",
       "        2.000e+00, 3.000e+00]),\n",
       " array([0.  , 0.05, 0.1 , 0.15, 0.2 , 0.25, 0.3 , 0.35, 0.4 , 0.45, 0.5 ,\n",
       "        0.55, 0.6 , 0.65, 0.7 , 0.75, 0.8 , 0.85, 0.9 , 0.95, 1.  ]),\n",
       " <BarContainer object of 20 artists>)"
      ]
     },
     "execution_count": 6,
     "metadata": {},
     "output_type": "execute_result"
    },
    {
     "data": {
      "image/png": "[encoded data removed]",
      "text/plain": [
       "<Figure size 432x288 with 1 Axes>"
      ]
     },
     "metadata": {
      "needs_background": "light"
     },
     "output_type": "display_data"
    }
   ],
   "source": [
    "plt.hist(norm_data[\"Open%PriorClose\"], bins=20)"
   ]
  },
  {
   "cell_type": "code",
   "execution_count": 7,
   "id": "ethical-norwegian",
   "metadata": {},
   "outputs": [
    {
     "data": {
      "text/plain": [
       "(array([1362.,    0.,    0.,    0.,    0., 1138.,    0.,    0.,    0.,\n",
       "        1271.]),\n",
       " array([-1. , -0.8, -0.6, -0.4, -0.2,  0. ,  0.2,  0.4,  0.6,  0.8,  1. ]),\n",
       " <BarContainer object of 10 artists>)"
      ]
     },
     "execution_count": 7,
     "metadata": {},
     "output_type": "execute_result"
    },
    {
     "data": {
      "image/png": "[encoded data removed]",
      "text/plain": [
       "<Figure size 432x288 with 1 Axes>"
      ]
     },
     "metadata": {
      "needs_background": "light"
     },
     "output_type": "display_data"
    }
   ],
   "source": [
    "plt.hist(labels)"
   ]
  },
  {
   "cell_type": "code",
   "execution_count": 8,
   "id": "elementary-aerospace",
   "metadata": {},
   "outputs": [
    {
     "data": {
      "text/plain": [
       "(array([  1.,   0.,   1.,   0.,   4.,   0.,   1.,   1.,   1.,   2.,   4.,\n",
       "          6.,   8.,  12.,  18.,  23.,  59.,  70., 151., 220., 384., 694.,\n",
       "        866., 649., 295., 139.,  77.,  30.,  18.,  18.,   3.,   3.,   1.,\n",
       "          2.,   6.,   2.,   0.,   0.,   1.,   1.]),\n",
       " array([-8.21363697, -7.841296  , -7.46895504, -7.09661407, -6.7242731 ,\n",
       "        -6.35193214, -5.97959117, -5.6072502 , -5.23490924, -4.86256827,\n",
       "        -4.4902273 , -4.11788634, -3.74554537, -3.3732044 , -3.00086344,\n",
       "        -2.62852247, -2.2561815 , -1.88384054, -1.51149957, -1.1391586 ,\n",
       "        -0.76681764, -0.39447667, -0.0221357 ,  0.35020526,  0.72254623,\n",
       "         1.0948872 ,  1.46722816,  1.83956913,  2.2119101 ,  2.58425106,\n",
       "         2.95659203,  3.328933  ,  3.70127396,  4.07361493,  4.4459559 ,\n",
       "         4.81829686,  5.19063783,  5.5629788 ,  5.93531976,  6.30766073,\n",
       "         6.6800017 ]),\n",
       " <BarContainer object of 40 artists>)"
      ]
     },
     "execution_count": 8,
     "metadata": {},
     "output_type": "execute_result"
    },
    {
     "data": {
      "image/png": "[encoded data removed]",
      "text/plain": [
       "<Figure size 432x288 with 1 Axes>"
      ]
     },
     "metadata": {
      "needs_background": "light"
     },
     "output_type": "display_data"
    }
   ],
   "source": [
    "norm_N5D=(N5D-N5D.mean())/N5D.std()\n",
    "plt.hist(norm_N5D, bins=40)"
   ]
  },
  {
   "cell_type": "code",
   "execution_count": 9,
   "id": "systematic-substitute",
   "metadata": {},
   "outputs": [
    {
     "name": "stdout",
     "output_type": "stream",
     "text": [
      "train_data: (3016, 47)\n",
      "train_labels: (3016,)\n",
      "test_data: (755, 47)\n",
      "test_labels: (755,)\n"
     ]
    }
   ],
   "source": [
    "# Splitting training data to train and test data\n",
    "train_data, test_data, train_labels, test_labels = train_test_split(\n",
    "    norm_data, labels, test_size=0.2, shuffle=False)\n",
    "\n",
    "## Take a look at the data sets\n",
    "print(\"train_data:\", train_data.shape)\n",
    "print(\"train_labels:\", train_labels.shape)\n",
    "print(\"test_data:\", test_data.shape)\n",
    "print(\"test_labels:\", test_labels.shape)"
   ]
  },
  {
   "cell_type": "code",
   "execution_count": 10,
   "id": "resident-produce",
   "metadata": {},
   "outputs": [
    {
     "data": {
      "text/plain": [
       "(array([258.,   0.,   0.,   0.,   0., 215.,   0.,   0.,   0., 282.]),\n",
       " array([-1. , -0.8, -0.6, -0.4, -0.2,  0. ,  0.2,  0.4,  0.6,  0.8,  1. ]),\n",
       " <BarContainer object of 10 artists>)"
      ]
     },
     "execution_count": 10,
     "metadata": {},
     "output_type": "execute_result"
    },
    {
     "data": {
      "image/png": "[encoded data removed]",
      "text/plain": [
       "<Figure size 432x288 with 1 Axes>"
      ]
     },
     "metadata": {
      "needs_background": "light"
     },
     "output_type": "display_data"
    }
   ],
   "source": [
    "plt.hist(test_labels)"
   ]
  },
  {
   "cell_type": "markdown",
   "id": "instructional-decade",
   "metadata": {},
   "source": [
    "## Logistic Regression Model"
   ]
  },
  {
   "cell_type": "code",
   "execution_count": 11,
   "id": "fitted-malpractice",
   "metadata": {},
   "outputs": [
    {
     "name": "stdout",
     "output_type": "stream",
     "text": [
      "Logistic Regression Model:\n",
      "\n",
      "    L2 c    accuracy        f1\n",
      "------------------------------\n",
      "    0.01      0.3762    0.3562\n",
      "     0.1      0.3934    0.3904\n",
      "       1      0.4252    0.4233\n",
      "      10      0.4212    0.4195\n",
      "     100      0.4212    0.4192\n",
      "     500      0.4212    0.4195\n",
      "    1000      0.4225    0.4209\n",
      "    2500      0.4225    0.4220\n",
      "    5000      0.4185    0.4181\n",
      "    7000      0.4185    0.4183\n",
      "    8000      0.4185    0.4182\n",
      "    9000      0.4159    0.4157\n",
      "   10000      0.4159    0.4156\n",
      "   20000      0.4106    0.4104\n",
      "\n",
      "Best f1 score of 0.4233 at C=1\n"
     ]
    }
   ],
   "source": [
    "## Logistic Regression model, feature select using L2 regularization\n",
    "print(\"Logistic Regression Model:\\n\")\n",
    "print(\"{:>8}  {:>10}{:>10}\".format(\"L2 c\", \"accuracy\", \"f1\"))\n",
    "print(\"-\" * 30)\n",
    "\n",
    "# Produce Logistic Regression models with various C values\n",
    "c_values = [0.01, 0.1, 1, 10, 100, 500, 1000, 2500, 5000, 7000, 8000, 9000, 10000, 20000]\n",
    "best_c, best_f1 = 0, 0\n",
    "\n",
    "for c in c_values:\n",
    "    lr_model = LogisticRegression(C=c, solver=\"liblinear\")\n",
    "    lr_model.fit(train_data, train_labels)\n",
    "    accuracy = lr_model.score(test_data, test_labels)\n",
    "    f1 = metrics.f1_score(test_labels, lr_model.predict(test_data), average='weighted')\n",
    "    print(\"{:>8}  {:10.4f}{:10.4f}\".format(c, accuracy, f1))\n",
    "    if f1 > best_f1:\n",
    "        best_c = c\n",
    "        best_f1 = f1 \n",
    "\n",
    "print(\"\\nBest f1 score of {:.4f} at C={}\".format(best_f1, best_c))\n",
    "c_l2 = best_c"
   ]
  },
  {
   "cell_type": "code",
   "execution_count": 12,
   "id": "backed-doctor",
   "metadata": {},
   "outputs": [
    {
     "data": {
      "text/plain": [
       "LogisticRegression(C=1, solver='liblinear')"
      ]
     },
     "execution_count": 12,
     "metadata": {},
     "output_type": "execute_result"
    }
   ],
   "source": [
    "# Get the best model results\n",
    "lr_model = LogisticRegression(C=c_l2, solver=\"liblinear\")\n",
    "lr_model.fit(train_data, train_labels)"
   ]
  },
  {
   "cell_type": "markdown",
   "id": "parliamentary-bride",
   "metadata": {},
   "source": [
    "### Take a look at the classification report"
   ]
  },
  {
   "cell_type": "code",
   "execution_count": 13,
   "id": "increasing-reply",
   "metadata": {},
   "outputs": [
    {
     "name": "stdout",
     "output_type": "stream",
     "text": [
      "              precision    recall  f1-score   support\n",
      "\n",
      "        Sell       0.38      0.38      0.38       258\n",
      "        Hold       0.42      0.54      0.47       215\n",
      "         Buy       0.48      0.38      0.43       282\n",
      "\n",
      "    accuracy                           0.43       755\n",
      "   macro avg       0.43      0.43      0.43       755\n",
      "weighted avg       0.43      0.43      0.42       755\n",
      "\n"
     ]
    }
   ],
   "source": [
    "# First look at classification report\n",
    "pred_labels = lr_model.predict(test_data)\n",
    "score=lr_model.score(test_data, test_labels)\n",
    "target_names = ['Sell', 'Hold', 'Buy']\n",
    "\n",
    "print(classification_report(test_labels, pred_labels, target_names = target_names) )"
   ]
  },
  {
   "cell_type": "code",
   "execution_count": 14,
   "id": "coated-qatar",
   "metadata": {
    "scrolled": true
   },
   "outputs": [
    {
     "data": {
      "text/plain": [
       "(array([256.,   0.,   0.,   0.,   0., 276.,   0.,   0.,   0., 223.]),\n",
       " array([-1. , -0.8, -0.6, -0.4, -0.2,  0. ,  0.2,  0.4,  0.6,  0.8,  1. ]),\n",
       " <BarContainer object of 10 artists>)"
      ]
     },
     "execution_count": 14,
     "metadata": {},
     "output_type": "execute_result"
    },
    {
     "data": {
      "image/png": "[encoded data removed]",
      "text/plain": [
       "<Figure size 432x288 with 1 Axes>"
      ]
     },
     "metadata": {
      "needs_background": "light"
     },
     "output_type": "display_data"
    }
   ],
   "source": [
    "plt.hist(pred_labels)"
   ]
  },
  {
   "cell_type": "code",
   "execution_count": 15,
   "id": "banned-following",
   "metadata": {},
   "outputs": [
    {
     "name": "stdout",
     "output_type": "stream",
     "text": [
      "[[ 97  85  76]\n",
      " [ 60 116  39]\n",
      " [ 99  75 108]]\n"
     ]
    }
   ],
   "source": [
    "print(confusion_matrix(test_labels, pred_labels))"
   ]
  },
  {
   "cell_type": "markdown",
   "id": "ranking-glance",
   "metadata": {},
   "source": [
    "### Examine feature coefficients of best model with L2 regularization"
   ]
  },
  {
   "cell_type": "code",
   "execution_count": 16,
   "id": "protecting-choir",
   "metadata": {
    "scrolled": false
   },
   "outputs": [
    {
     "name": "stdout",
     "output_type": "stream",
     "text": [
      "Features from the Logistic Regression Model with Weights:\n",
      "\n",
      "            Features         Sell Weight         Hold Weight          Buy Weight\n",
      "--------------------------------------------------------------------------------\n",
      "              SMA30%             -0.3312             -0.5591              0.9556\n",
      "              Fast_D             -0.5848             -0.3466              0.7710\n",
      "           %52Wk_Low             -0.0131             -0.6789              0.6450\n",
      "              SMA15%             -0.2795             -0.1558              0.4613\n",
      "              SMA20%             -0.1415             -0.1660              0.3922\n",
      "              EMA20%             -0.0054             -0.3235              0.3770\n",
      "          RSI_Signal             -0.1737             -0.1770              0.3715\n",
      "              SMA10%             -0.0077             -0.3044              0.3115\n",
      "              EMA30%              0.1583             -0.4351              0.3107\n",
      "              EMA15%             -0.0239             -0.2235              0.3084\n",
      "     Open%PriorClose             -0.1397             -0.7605              0.2810\n",
      "           Stoch_RSI             -0.4110              0.0056              0.2296\n",
      "              EMA50%              0.3040             -0.3878              0.1421\n",
      "              EMA10%              0.0527             -0.1062              0.1124\n",
      "              SMA50%              0.4604             -0.5569              0.0448\n",
      "          SMA_Signal              0.0819             -0.1988              0.0340\n",
      "                S1C%              0.2074             -0.7031              0.0062\n",
      "                S3C%              0.0568             -0.9812              0.0049\n",
      "        Stock Splits              0.0000              0.0000              0.0000\n",
      "              Fast_K             -0.0032              0.0505             -0.0296\n",
      "                S3F%              0.1636             -0.6265             -0.0336\n",
      "                S2C%              0.1636             -0.6265             -0.0336\n",
      "                S2F%              0.2256             -0.3958             -0.0470\n",
      "             Return%             -0.2865              0.5132             -0.0479\n",
      "          Stoch_Osci              0.2863             -0.3939             -0.0527\n",
      "                S1F%              0.2736             -0.1017             -0.0740\n",
      "                R1C%             -0.0863              0.0098             -0.0746\n",
      "                 PP%              0.2184              0.0075             -0.0775\n",
      "                R2F%             -0.0334              0.0441             -0.0783\n",
      "          Close%High              0.0744              0.0515             -0.0819\n",
      "                R1F%              0.0668              0.0181             -0.0835\n",
      "                R3F%             -0.1390              0.0953             -0.0876\n",
      "                R2C%             -0.1390              0.0953             -0.0876\n",
      "           Close%Low              0.2664              0.0006             -0.0960\n",
      "         MACD_Signal              0.1946             -0.2178             -0.1069\n",
      "                R3C%             -0.2909              0.1596             -0.1248\n",
      "          Close%Open             -0.3203              0.7197             -0.2742\n",
      "               EMA5%              0.1853              0.1662             -0.2832\n",
      "         L5D_Return%              0.8553             -0.6894             -0.3159\n",
      "               EMA3%              0.0860              0.3857             -0.3846\n",
      "               SMA3%              0.0405              0.3853             -0.3881\n",
      "              Slow_D             -0.0016              0.3682             -0.4134\n",
      "               SMA5%              0.2800              0.4058             -0.6788\n",
      "          %52Wk_High             -0.3581              1.7075             -0.7422\n",
      "           Div%Close              0.8359             -0.1142             -0.8737\n",
      "              Slow_K              0.6072              0.4033             -1.0403\n",
      "                 RSI             -0.9098              1.8081             -1.2930\n"
     ]
    }
   ],
   "source": [
    "## Get the top features from the model\n",
    "indices, features, sell_weights, hold_weights, buy_weights = [], [], [], [], []\n",
    "indices.extend(np.argsort(-lr_model.coef_[2]))\n",
    "\n",
    "for i in indices:\n",
    "    features.append(train_data.columns[i])\n",
    "    sell_weights.append(lr_model.coef_[0][i])\n",
    "    hold_weights.append(lr_model.coef_[1][i])\n",
    "    buy_weights.append(lr_model.coef_[2][i])\n",
    "    \n",
    "## Set up table to print results\n",
    "print(\"Features from the Logistic Regression Model with Weights:\\n\")\n",
    "print(\"{:>20}{:>20}{:>20}{:>20}\".format(\"Features\", \"Sell Weight\", \"Hold Weight\", \"Buy Weight\"))\n",
    "print(\"-\" * 80)\n",
    "\n",
    "## Print the features along with weights\n",
    "for i in range(int(len(features))):\n",
    "        print(\"{:>20}{:20.4f}{:20.4f}{:20.4f}\"\n",
    "              .format(features[i], sell_weights[i], hold_weights[i], buy_weights[i]))"
   ]
  },
  {
   "cell_type": "markdown",
   "id": "lesser-nudist",
   "metadata": {},
   "source": [
    "### Additional feature selection using both L1 and L2 regularization"
   ]
  },
  {
   "cell_type": "code",
   "execution_count": 17,
   "id": "supposed-upset",
   "metadata": {},
   "outputs": [
    {
     "name": "stdout",
     "output_type": "stream",
     "text": [
      "Logistic Regression Model with L1 and L2 Regularization:\n",
      "\n",
      "     L1 C value   feature size       accuracy             f1\n",
      "------------------------------------------------------------\n",
      "           0.01              5         0.3828         0.3723\n",
      "            0.1             12         0.4146         0.4041\n",
      "            0.2             23         0.4119         0.4031\n",
      "            0.5             34         0.4265         0.4248\n",
      "              1             45         0.4291         0.4281\n",
      "              2             43         0.4305         0.4295\n",
      "              5             45         0.4291         0.4281\n",
      "             10             46         0.4305         0.4295\n",
      "             20             46         0.4305         0.4295\n",
      "             50             46         0.4305         0.4295\n",
      "            100             46         0.4305         0.4295\n",
      "            200             46         0.4305         0.4295\n",
      "            500             46         0.4305         0.4295\n",
      "\n",
      "Best f1 score of 0.4295 at L1 C=2\n"
     ]
    }
   ],
   "source": [
    "## Improved Logistic Regression Model: using preprocessed training and dev data\n",
    "np.random.seed(0) ## keep for comparison purposes\n",
    "\n",
    "## Print result table headers\n",
    "print(\"Logistic Regression Model with L1 and L2 Regularization:\\n\")\n",
    "print(\"{:>15}{:>15}{:>15}{:>15}\".format(\"L1 C value\", \"feature size\", \"accuracy\", \"f1\"))\n",
    "print(\"-\" * 60)\n",
    "\n",
    "## Produce Logistic Regression models with various C values for L1 regularization\n",
    "c_values = c_values = [0.01, 0.1, 0.2, 0.5, 1, 2, 5, 10, 20, 50, 100, 200, 500]\n",
    "best_c, best_f1 = 0, 0\n",
    "\n",
    "for c in c_values:\n",
    "    ## Feature selection model with L1 regularization, test different C strengths\n",
    "    lrm = LogisticRegression(C=c, solver=\"liblinear\", penalty=\"l1\", tol=0.015)\n",
    "    lrm.fit(train_data, train_labels)\n",
    "\n",
    "    ## Get non-zero features\n",
    "    nz_features = []\n",
    "    for i in range(len(features)):\n",
    "        if abs(lrm.coef_[0][i]) > 0 or abs(lrm.coef_[2][i]) > 0:\n",
    "            nz_features.append(features[i])\n",
    "    \n",
    "    ## New model with L2 regularization\n",
    "    new_train_data = train_data[nz_features]\n",
    "    new_test_data = test_data[nz_features]\n",
    "\n",
    "    lrm = LogisticRegression(C=10, solver=\"liblinear\", penalty=\"l2\")\n",
    "    lrm.fit(new_train_data, train_labels)\n",
    "    accuracy = lrm.score(new_test_data, test_labels)\n",
    "    f1 = metrics.f1_score(test_labels, lrm.predict(new_test_data), average='weighted')\n",
    "    print(\"{:>15}{:>15}{:>15.4f}{:>15.4f}\".format(c, len(nz_features), accuracy, f1))\n",
    "    if f1 > best_f1:\n",
    "        best_c = c\n",
    "        best_f1 = f1\n",
    "\n",
    "print(\"\\nBest f1 score of {:.4f} at L1 C={}\".format(best_f1, best_c))\n",
    "c_l1 = best_c"
   ]
  },
  {
   "cell_type": "code",
   "execution_count": 18,
   "id": "operating-botswana",
   "metadata": {},
   "outputs": [
    {
     "name": "stdout",
     "output_type": "stream",
     "text": [
      "Features from the Logistic Regression Model with Weights:\n",
      "\n",
      "            Features         Sell Weight         Hold Weight          Buy Weight\n",
      "--------------------------------------------------------------------------------\n",
      "              SMA30%             -0.3281             -0.5687              0.9523\n",
      "              Fast_D             -0.5615             -0.4520              0.7694\n",
      "           %52Wk_Low             -0.0121             -0.6827              0.6464\n",
      "              SMA15%             -0.2765             -0.1936              0.4599\n",
      "              SMA20%             -0.1510             -0.1866              0.3919\n",
      "              EMA20%             -0.0127             -0.3335              0.3764\n",
      "          RSI_Signal             -0.1613             -0.1982              0.3713\n",
      "              EMA30%              0.1447             -0.4250              0.3109\n",
      "              SMA10%             -0.0052             -0.3273              0.3107\n",
      "              EMA15%             -0.0301             -0.2385              0.3077\n",
      "     Open%PriorClose             -0.0828             -0.9478              0.2756\n",
      "           Stoch_RSI             -0.3876             -0.0821              0.2254\n",
      "              EMA50%              0.2817             -0.3349              0.1441\n",
      "              EMA10%              0.0491             -0.1314              0.1116\n",
      "              SMA50%              0.4505             -0.5413              0.0460\n",
      "          SMA_Signal              0.0867             -0.2117              0.0351\n",
      "              Fast_K             -0.0053              0.0684             -0.0315\n",
      "          Stoch_Osci              0.2958             -0.4506             -0.0551\n",
      "             Return%             -0.2234              0.3468             -0.0638\n",
      "                R1C%             -0.2215              0.3629             -0.0843\n",
      "                R2C%             -0.2822              0.4896             -0.0970\n",
      "                R2F%             -0.0943              0.2444             -0.1012\n",
      "         MACD_Signal              0.2032             -0.2395             -0.1091\n",
      "                R3C%             -0.5496              0.8265             -0.1146\n",
      "          Close%High              0.1344             -0.0092             -0.1253\n",
      "                 PP%              0.4430             -0.4478             -0.1303\n",
      "           Close%Low              0.6269             -0.7627             -0.1549\n",
      "               EMA5%              0.1920              0.1150             -0.2856\n",
      "          Close%Open             -0.1760              0.3161             -0.3060\n",
      "         L5D_Return%              0.8596             -0.7004             -0.3152\n",
      "               EMA3%              0.1089              0.2950             -0.3905\n",
      "               SMA3%              0.0657              0.2783             -0.3939\n",
      "              Slow_D              0.0145              0.2975             -0.4173\n",
      "               SMA5%              0.2850              0.3675             -0.6784\n",
      "          %52Wk_High             -0.3824              1.8349             -0.7430\n",
      "           Div%Close              0.8316             -0.0946             -0.8715\n",
      "              Slow_K              0.6012              0.4628             -1.0383\n",
      "                 RSI             -0.8969              1.8467             -1.2941\n"
     ]
    }
   ],
   "source": [
    "# Select model result, start with L1 regularization\n",
    "lrm = LogisticRegression(C=c_l1, solver=\"liblinear\", penalty=\"l1\", tol=0.015)\n",
    "lrm.fit(train_data, train_labels)\n",
    "\n",
    "## Get non-zero features\n",
    "nz_features = []\n",
    "for i in range(len(train_data.columns)):\n",
    "    if abs(lrm.coef_[0][i]) > 0 and abs(lrm.coef_[2][i]) > 0:\n",
    "        nz_features.append(train_data.columns[i])\n",
    "    \n",
    "## New model with L2 regularization\n",
    "new_train_data = train_data[nz_features]\n",
    "new_test_data = test_data[nz_features]\n",
    "\n",
    "lrm = LogisticRegression(C=c_l2, solver=\"liblinear\", penalty=\"l2\")\n",
    "lrm.fit(new_train_data, train_labels)\n",
    "accuracy = lrm.score(new_test_data, test_labels)\n",
    "f1 = metrics.f1_score(test_labels, lrm.predict(new_test_data), average='weighted')\n",
    "lr_model = lrm\n",
    "\n",
    "## Get the top features from the model\n",
    "indices, features, sell_weights, hold_weights, buy_weights = [], [], [], [], []\n",
    "indices.extend(np.argsort(-lr_model.coef_[2]))\n",
    "\n",
    "for i in indices:\n",
    "    features.append(new_train_data.columns[i])\n",
    "    sell_weights.append(lr_model.coef_[0][i])\n",
    "    hold_weights.append(lr_model.coef_[1][i])\n",
    "    buy_weights.append(lr_model.coef_[2][i])\n",
    "    \n",
    "## Set up table to print results\n",
    "print(\"Features from the Logistic Regression Model with Weights:\\n\")\n",
    "print(\"{:>20}{:>20}{:>20}{:>20}\".format(\"Features\", \"Sell Weight\", \"Hold Weight\", \"Buy Weight\"))\n",
    "print(\"-\" * 80)\n",
    "\n",
    "## Print the features along with weights\n",
    "for i in range(int(len(features))):\n",
    "        print(\"{:>20}{:20.4f}{:20.4f}{:20.4f}\"\n",
    "              .format(features[i], sell_weights[i], hold_weights[i], buy_weights[i]))"
   ]
  },
  {
   "cell_type": "code",
   "execution_count": 19,
   "id": "detailed-count",
   "metadata": {},
   "outputs": [
    {
     "name": "stdout",
     "output_type": "stream",
     "text": [
      "              precision    recall  f1-score   support\n",
      "\n",
      "        Sell       0.37      0.37      0.37       258\n",
      "        Hold       0.42      0.53      0.47       215\n",
      "         Buy       0.48      0.38      0.42       282\n",
      "\n",
      "    accuracy                           0.42       755\n",
      "   macro avg       0.42      0.43      0.42       755\n",
      "weighted avg       0.43      0.42      0.42       755\n",
      "\n"
     ]
    }
   ],
   "source": [
    "# Look at classification report\n",
    "pred_labels = lr_model.predict(new_test_data)\n",
    "score=lr_model.score(new_test_data, test_labels)\n",
    "target_names = ['Sell', 'Hold', 'Buy']\n",
    "\n",
    "print(classification_report(test_labels, pred_labels, target_names = target_names) )"
   ]
  },
  {
   "cell_type": "code",
   "execution_count": 20,
   "id": "aware-beaver",
   "metadata": {},
   "outputs": [
    {
     "data": {
      "text/plain": [
       "(array([258.,   0.,   0.,   0.,   0., 275.,   0.,   0.,   0., 222.]),\n",
       " array([-1. , -0.8, -0.6, -0.4, -0.2,  0. ,  0.2,  0.4,  0.6,  0.8,  1. ]),\n",
       " <BarContainer object of 10 artists>)"
      ]
     },
     "execution_count": 20,
     "metadata": {},
     "output_type": "execute_result"
    },
    {
     "data": {
      "image/png": "[encoded data removed]",
      "text/plain": [
       "<Figure size 432x288 with 1 Axes>"
      ]
     },
     "metadata": {
      "needs_background": "light"
     },
     "output_type": "display_data"
    }
   ],
   "source": [
    "plt.hist(pred_labels)"
   ]
  },
  {
   "cell_type": "code",
   "execution_count": 21,
   "id": "indie-moldova",
   "metadata": {},
   "outputs": [
    {
     "name": "stdout",
     "output_type": "stream",
     "text": [
      "[[ 96  86  76]\n",
      " [ 61 115  39]\n",
      " [101  74 107]]\n"
     ]
    }
   ],
   "source": [
    "print(confusion_matrix(test_labels, pred_labels))"
   ]
  },
  {
   "cell_type": "code",
   "execution_count": null,
   "id": "detected-sterling",
   "metadata": {},
   "outputs": [],
   "source": []
  }
 ],
 "metadata": {
  "kernelspec": {
   "display_name": "Python 3",
   "language": "python",
   "name": "python3"
  },
  "language_info": {
   "codemirror_mode": {
    "name": "ipython",
    "version": 3
   },
   "file_extension": ".py",
   "mimetype": "text/x-python",
   "name": "python",
   "nbconvert_exporter": "python",
   "pygments_lexer": "ipython3",
   "version": "3.7.9"
  }
 },
 "nbformat": 4,
 "nbformat_minor": 5
}
