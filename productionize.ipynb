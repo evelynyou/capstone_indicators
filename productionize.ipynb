{
 "cells": [
  {
   "cell_type": "code",
   "execution_count": 16,
   "metadata": {},
   "outputs": [],
   "source": [
    "import pandas as pd\n",
    "import numpy as np\n",
    "import seaborn as sns\n",
    "import matplotlib\n",
    "import matplotlib.pyplot as plt\n",
    "\n",
    "import yfinance as yf\n",
    "\n",
    "from backtesting import Strategy, Backtest\n",
    "from backtesting.lib import crossover\n",
    "from skopt.plots import plot_objective"
   ]
  },
  {
   "cell_type": "markdown",
   "metadata": {},
   "source": [
    "## Backtesting Strategies\n",
    "Additional info: https://kernc.github.io/backtesting.py/doc/examples/Quick%20Start%20User%20Guide.html"
   ]
  },
  {
   "cell_type": "code",
   "execution_count": 17,
   "metadata": {},
   "outputs": [],
   "source": [
    "import inspect\n",
    "import strats, get_data, backtest\n",
    "from typing import Tuple"
   ]
  },
  {
   "cell_type": "code",
   "execution_count": 18,
   "metadata": {},
   "outputs": [],
   "source": [
    "stock_obj = get_data.yFinData(\"SPY\")\n",
    "try:\n",
    "    ydata = stock_obj.get_ohlcv()\n",
    "except:\n",
    "    print('Uable to download data.')"
   ]
  },
  {
   "cell_type": "code",
   "execution_count": 29,
   "metadata": {},
   "outputs": [
    {
     "data": {
      "text/html": [
       "<div>\n",
       "<style scoped>\n",
       "    .dataframe tbody tr th:only-of-type {\n",
       "        vertical-align: middle;\n",
       "    }\n",
       "\n",
       "    .dataframe tbody tr th {\n",
       "        vertical-align: top;\n",
       "    }\n",
       "\n",
       "    .dataframe thead th {\n",
       "        text-align: right;\n",
       "    }\n",
       "</style>\n",
       "<table border=\"1\" class=\"dataframe\">\n",
       "  <thead>\n",
       "    <tr style=\"text-align: right;\">\n",
       "      <th></th>\n",
       "      <th>Open</th>\n",
       "      <th>High</th>\n",
       "      <th>Low</th>\n",
       "      <th>Close</th>\n",
       "      <th>Volume</th>\n",
       "      <th>Dividends</th>\n",
       "      <th>Stock Splits</th>\n",
       "    </tr>\n",
       "    <tr>\n",
       "      <th>Date</th>\n",
       "      <th></th>\n",
       "      <th></th>\n",
       "      <th></th>\n",
       "      <th></th>\n",
       "      <th></th>\n",
       "      <th></th>\n",
       "      <th></th>\n",
       "    </tr>\n",
       "  </thead>\n",
       "  <tbody>\n",
       "    <tr>\n",
       "      <th>2011-02-25</th>\n",
       "      <td>107.749712</td>\n",
       "      <td>108.511867</td>\n",
       "      <td>107.684150</td>\n",
       "      <td>108.446304</td>\n",
       "      <td>141686900</td>\n",
       "      <td>0.0</td>\n",
       "      <td>0</td>\n",
       "    </tr>\n",
       "    <tr>\n",
       "      <th>2011-02-28</th>\n",
       "      <td>108.847888</td>\n",
       "      <td>109.257645</td>\n",
       "      <td>108.487300</td>\n",
       "      <td>109.118317</td>\n",
       "      <td>141585500</td>\n",
       "      <td>0.0</td>\n",
       "      <td>0</td>\n",
       "    </tr>\n",
       "    <tr>\n",
       "      <th>2011-03-01</th>\n",
       "      <td>109.462526</td>\n",
       "      <td>109.560863</td>\n",
       "      <td>107.266221</td>\n",
       "      <td>107.298996</td>\n",
       "      <td>258565500</td>\n",
       "      <td>0.0</td>\n",
       "      <td>0</td>\n",
       "    </tr>\n",
       "    <tr>\n",
       "      <th>2011-03-02</th>\n",
       "      <td>107.151460</td>\n",
       "      <td>108.028346</td>\n",
       "      <td>106.823660</td>\n",
       "      <td>107.528442</td>\n",
       "      <td>200277400</td>\n",
       "      <td>0.0</td>\n",
       "      <td>0</td>\n",
       "    </tr>\n",
       "    <tr>\n",
       "      <th>2011-03-03</th>\n",
       "      <td>108.503653</td>\n",
       "      <td>109.503461</td>\n",
       "      <td>108.495462</td>\n",
       "      <td>109.380539</td>\n",
       "      <td>176480100</td>\n",
       "      <td>0.0</td>\n",
       "      <td>0</td>\n",
       "    </tr>\n",
       "    <tr>\n",
       "      <th>...</th>\n",
       "      <td>...</td>\n",
       "      <td>...</td>\n",
       "      <td>...</td>\n",
       "      <td>...</td>\n",
       "      <td>...</td>\n",
       "      <td>...</td>\n",
       "      <td>...</td>\n",
       "    </tr>\n",
       "    <tr>\n",
       "      <th>2020-02-25</th>\n",
       "      <td>318.001369</td>\n",
       "      <td>318.659070</td>\n",
       "      <td>305.975943</td>\n",
       "      <td>306.918335</td>\n",
       "      <td>218913200</td>\n",
       "      <td>0.0</td>\n",
       "      <td>0</td>\n",
       "    </tr>\n",
       "    <tr>\n",
       "      <th>2020-02-26</th>\n",
       "      <td>308.420321</td>\n",
       "      <td>312.278268</td>\n",
       "      <td>305.004137</td>\n",
       "      <td>305.789459</td>\n",
       "      <td>194773800</td>\n",
       "      <td>0.0</td>\n",
       "      <td>0</td>\n",
       "    </tr>\n",
       "    <tr>\n",
       "      <th>2020-02-27</th>\n",
       "      <td>299.860178</td>\n",
       "      <td>305.848357</td>\n",
       "      <td>292.055939</td>\n",
       "      <td>292.055939</td>\n",
       "      <td>284353500</td>\n",
       "      <td>0.0</td>\n",
       "      <td>0</td>\n",
       "    </tr>\n",
       "    <tr>\n",
       "      <th>2020-02-28</th>\n",
       "      <td>283.407423</td>\n",
       "      <td>292.428950</td>\n",
       "      <td>280.305350</td>\n",
       "      <td>290.828827</td>\n",
       "      <td>385764000</td>\n",
       "      <td>0.0</td>\n",
       "      <td>0</td>\n",
       "    </tr>\n",
       "    <tr>\n",
       "      <th>2020-03-02</th>\n",
       "      <td>292.743037</td>\n",
       "      <td>303.492308</td>\n",
       "      <td>289.061785</td>\n",
       "      <td>303.423584</td>\n",
       "      <td>238703600</td>\n",
       "      <td>0.0</td>\n",
       "      <td>0</td>\n",
       "    </tr>\n",
       "  </tbody>\n",
       "</table>\n",
       "<p>2268 rows × 7 columns</p>\n",
       "</div>"
      ],
      "text/plain": [
       "                  Open        High         Low       Close     Volume  \\\n",
       "Date                                                                    \n",
       "2011-02-25  107.749712  108.511867  107.684150  108.446304  141686900   \n",
       "2011-02-28  108.847888  109.257645  108.487300  109.118317  141585500   \n",
       "2011-03-01  109.462526  109.560863  107.266221  107.298996  258565500   \n",
       "2011-03-02  107.151460  108.028346  106.823660  107.528442  200277400   \n",
       "2011-03-03  108.503653  109.503461  108.495462  109.380539  176480100   \n",
       "...                ...         ...         ...         ...        ...   \n",
       "2020-02-25  318.001369  318.659070  305.975943  306.918335  218913200   \n",
       "2020-02-26  308.420321  312.278268  305.004137  305.789459  194773800   \n",
       "2020-02-27  299.860178  305.848357  292.055939  292.055939  284353500   \n",
       "2020-02-28  283.407423  292.428950  280.305350  290.828827  385764000   \n",
       "2020-03-02  292.743037  303.492308  289.061785  303.423584  238703600   \n",
       "\n",
       "            Dividends  Stock Splits  \n",
       "Date                                 \n",
       "2011-02-25        0.0             0  \n",
       "2011-02-28        0.0             0  \n",
       "2011-03-01        0.0             0  \n",
       "2011-03-02        0.0             0  \n",
       "2011-03-03        0.0             0  \n",
       "...               ...           ...  \n",
       "2020-02-25        0.0             0  \n",
       "2020-02-26        0.0             0  \n",
       "2020-02-27        0.0             0  \n",
       "2020-02-28        0.0             0  \n",
       "2020-03-02        0.0             0  \n",
       "\n",
       "[2268 rows x 7 columns]"
      ]
     },
     "execution_count": 29,
     "metadata": {},
     "output_type": "execute_result"
    }
   ],
   "source": [
    "ydata.iloc[-int(float(10)*252):-int(float(1)*252)]"
   ]
  },
  {
   "cell_type": "code",
   "execution_count": 21,
   "metadata": {},
   "outputs": [
    {
     "name": "stdout",
     "output_type": "stream",
     "text": [
      "red ('Hello', 'Welcome', 'to', 'GeeksforGeeks')\n"
     ]
    }
   ],
   "source": [
    "def sim(v, *args):\n",
    "    print(v, args)\n",
    "\n",
    "def myFun(*argv):\n",
    "    c = []\n",
    "    v = \"red\"\n",
    "    for arg in argv:  \n",
    "        c.append(arg)\n",
    "    return sim(v, *c)\n",
    "    \n",
    "myFun('Hello', 'Welcome', 'to', 'GeeksforGeeks') "
   ]
  },
  {
   "cell_type": "code",
   "execution_count": 40,
   "metadata": {},
   "outputs": [
    {
     "data": {
      "application/vnd.jupyter.widget-view+json": {
       "model_id": "966bcab675144c5696306b6d6bd59af7",
       "version_major": 2,
       "version_minor": 0
      },
      "text/plain": [
       "HBox(children=(HTML(value=''), FloatProgress(value=0.0, max=2.0), HTML(value='')))"
      ]
     },
     "metadata": {},
     "output_type": "display_data"
    }
   ],
   "source": [
    "past10 = ydata.iloc[-int(float(10)*252):-int(float(3)*252)]\n",
    "bt10 = Backtest(past10, strats.SmaCross, cash=10_000, commission=0.0)\n",
    "\n",
    "stats, heatmap = bt10.optimize(\n",
    "    fast=range(10, 100, 10),\n",
    "    slow=[20, 30, 40],\n",
    "    constraint=lambda p: p.fast < p.slow,\n",
    "    maximize='Equity Final [$]',\n",
    "    max_tries=100,\n",
    "    random_state=0,\n",
    "    return_heatmap=True)"
   ]
  },
  {
   "cell_type": "code",
   "execution_count": 41,
   "metadata": {},
   "outputs": [
    {
     "data": {
      "text/plain": [
       "fast  slow\n",
       "10    20      14586.038549\n",
       "      30      14747.592006\n",
       "      40      15021.178936\n",
       "20    30      17472.391344\n",
       "      40      12876.731139\n",
       "30    40      16342.026165\n",
       "Name: Equity Final [$], dtype: float64"
      ]
     },
     "execution_count": 41,
     "metadata": {},
     "output_type": "execute_result"
    }
   ],
   "source": [
    "heatmap"
   ]
  },
  {
   "cell_type": "code",
   "execution_count": 42,
   "metadata": {},
   "outputs": [],
   "source": [
    "stats_skopt, heatmap, optimize_result = bt10.optimize(\n",
    "    fast = [5, 100],\n",
    "    slow = [10, 200],\n",
    "    constraint=lambda p: p.fast < p.slow,\n",
    "    maximize='Sharpe Ratio',\n",
    "    method='skopt',\n",
    "    max_tries=100,\n",
    "    random_state=0,\n",
    "    return_heatmap=True,\n",
    "    return_optimization=True)"
   ]
  },
  {
   "cell_type": "code",
   "execution_count": 43,
   "metadata": {},
   "outputs": [
    {
     "data": {
      "image/png": "[encoded data removed]",
      "text/plain": [
       "<Figure size 288x288 with 4 Axes>"
      ]
     },
     "metadata": {
      "needs_background": "light"
     },
     "output_type": "display_data"
    }
   ],
   "source": [
    "_ = plot_objective(optimize_result, n_points=10)"
   ]
  },
  {
   "cell_type": "code",
   "execution_count": 44,
   "metadata": {},
   "outputs": [
    {
     "data": {
      "text/plain": [
       "[93, 142]"
      ]
     },
     "execution_count": 44,
     "metadata": {},
     "output_type": "execute_result"
    }
   ],
   "source": [
    "optimize_result.x"
   ]
  },
  {
   "cell_type": "code",
   "execution_count": 45,
   "metadata": {},
   "outputs": [
    {
     "data": {
      "text/plain": [
       "Start                     2011-02-25 00:00:00\n",
       "End                       2018-02-28 00:00:00\n",
       "Duration                   2560 days 00:00:00\n",
       "Exposure Time [%]                     76.3605\n",
       "Equity Final [$]                        23270\n",
       "Equity Peak [$]                       24187.2\n",
       "Return [%]                              132.7\n",
       "Buy & Hold Return [%]                 136.832\n",
       "Return (Ann.) [%]                     12.8235\n",
       "Volatility (Ann.) [%]                 11.7507\n",
       "Sharpe Ratio                          1.09129\n",
       "Sortino Ratio                         1.77308\n",
       "Calmar Ratio                          1.08103\n",
       "Max. Drawdown [%]                    -11.8623\n",
       "Avg. Drawdown [%]                    -1.22583\n",
       "Max. Drawdown Duration      227 days 00:00:00\n",
       "Avg. Drawdown Duration       15 days 00:00:00\n",
       "# Trades                                    4\n",
       "Win Rate [%]                              100\n",
       "Best Trade [%]                        42.3388\n",
       "Worst Trade [%]                       8.68977\n",
       "Avg. Trade [%]                        23.6115\n",
       "Max. Trade Duration        1074 days 00:00:00\n",
       "Avg. Trade Duration         488 days 00:00:00\n",
       "Profit Factor                             NaN\n",
       "Expectancy [%]                        24.4545\n",
       "SQN                                   2.77725\n",
       "_strategy                 SmaCross(fast=93...\n",
       "_equity_curve                             ...\n",
       "_trades                      Size  EntryBa...\n",
       "dtype: object"
      ]
     },
     "execution_count": 45,
     "metadata": {},
     "output_type": "execute_result"
    }
   ],
   "source": [
    "bt = Backtest(past10, strats.SmaCross, cash=10_000, commission=0.0)\n",
    "stats = bt.run(fast = 93, slow = 142)\n",
    "stats"
   ]
  },
  {
   "cell_type": "code",
   "execution_count": 47,
   "metadata": {},
   "outputs": [
    {
     "data": {
      "text/plain": [
       "Start                     2018-03-01 00:00:00\n",
       "End                       2021-03-02 00:00:00\n",
       "Duration                   1097 days 00:00:00\n",
       "Exposure Time [%]                     51.5873\n",
       "Equity Final [$]                      11369.5\n",
       "Equity Peak [$]                       11684.1\n",
       "Return [%]                            13.6951\n",
       "Buy & Hold Return [%]                 52.7216\n",
       "Return (Ann.) [%]                     4.37119\n",
       "Volatility (Ann.) [%]                 20.3487\n",
       "Sharpe Ratio                         0.214814\n",
       "Sortino Ratio                        0.308341\n",
       "Calmar Ratio                         0.130304\n",
       "Max. Drawdown [%]                    -33.5462\n",
       "Avg. Drawdown [%]                    -2.70312\n",
       "Max. Drawdown Duration      377 days 00:00:00\n",
       "Avg. Drawdown Duration       29 days 00:00:00\n",
       "# Trades                                    2\n",
       "Win Rate [%]                               50\n",
       "Best Trade [%]                        16.6836\n",
       "Worst Trade [%]                      -2.48334\n",
       "Avg. Trade [%]                         6.6705\n",
       "Max. Trade Duration         360 days 00:00:00\n",
       "Avg. Trade Duration         282 days 00:00:00\n",
       "Profit Factor                         6.71822\n",
       "Expectancy [%]                        7.10014\n",
       "SQN                                  0.735019\n",
       "_strategy                 SmaCross(fast=93...\n",
       "_equity_curve                             ...\n",
       "_trades                      Size  EntryBa...\n",
       "dtype: object"
      ]
     },
     "execution_count": 47,
     "metadata": {},
     "output_type": "execute_result"
    }
   ],
   "source": [
    "past1 = ydata.iloc[-int(float(3)*252):]\n",
    "bt1 = Backtest(past1, strats.SmaCross, cash=10_000, commission=0.0)\n",
    "stats = bt1.run(fast = 93, slow = 142)\n",
    "stats"
   ]
  },
  {
   "cell_type": "code",
   "execution_count": null,
   "metadata": {},
   "outputs": [],
   "source": [
    "\n",
    "    "
   ]
  },
  {
   "cell_type": "code",
   "execution_count": null,
   "metadata": {},
   "outputs": [],
   "source": [
    "equity_trades['MacdSignal'][1]"
   ]
  },
  {
   "cell_type": "code",
   "execution_count": null,
   "metadata": {},
   "outputs": [],
   "source": [
    "sma_trades['PnL'].hist(bins=30)\n",
    "sma_trades.loc[:, ['PnL', \"EntryTime\"]].set_index('EntryTime').plot()"
   ]
  },
  {
   "cell_type": "code",
   "execution_count": null,
   "metadata": {},
   "outputs": [],
   "source": [
    "macd_trades = equity_trades['MacdSignal'][1]\n",
    "macd_trades['PnL'].hist(bins=30)\n",
    "macd_trades.loc[:, ['PnL', \"EntryTime\"]].set_index('EntryTime').plot()"
   ]
  },
  {
   "cell_type": "code",
   "execution_count": null,
   "metadata": {},
   "outputs": [],
   "source": [
    "rsi_trades = equity_trades['RsiSignal'][1]\n",
    "rsi_trades['PnL'].hist(bins=30)\n",
    "rsi_trades.loc[:, ['PnL', \"EntryTime\"]].set_index('EntryTime').plot()"
   ]
  },
  {
   "cell_type": "code",
   "execution_count": null,
   "metadata": {},
   "outputs": [],
   "source": [
    "stoch_trades = equity_trades['StochOsci'][1]\n",
    "stoch_trades['PnL'].hist(bins=30)\n",
    "stoch_trades.loc[:, ['PnL', \"EntryTime\"]].set_index('EntryTime').plot()"
   ]
  },
  {
   "cell_type": "code",
   "execution_count": null,
   "metadata": {},
   "outputs": [],
   "source": [
    "stochrsi_trades = equity_trades['StochRsi'][1]\n",
    "stochrsi_trades['PnL'].hist(bins=30)\n",
    "stochrsi_trades.loc[:, ['PnL', \"EntryTime\"]].set_index('EntryTime').plot()"
   ]
  },
  {
   "cell_type": "markdown",
   "metadata": {},
   "source": [
    "## Generating Random Walks"
   ]
  },
  {
   "cell_type": "code",
   "execution_count": null,
   "metadata": {},
   "outputs": [],
   "source": [
    "ydata.iloc[-252:, 3].plot()"
   ]
  },
  {
   "cell_type": "code",
   "execution_count": null,
   "metadata": {},
   "outputs": [],
   "source": [
    "# Generate 500 random steps with mean=0 and standard deviation=1\n",
    "steps = np.random.normal(loc=0, scale=38.501280, size=252)\n",
    "# Set first element to 0 so that the first price will be the starting stock price\n",
    "steps[0]=0\n",
    "# Simulate stock prices, P with a starting price of 100\n",
    "P = 331.410980 + np.cumsum(steps)\n",
    "# Plot the simulated stock prices\n",
    "plt.plot(P)"
   ]
  },
  {
   "cell_type": "code",
   "execution_count": null,
   "metadata": {},
   "outputs": [],
   "source": [
    "spy = yf.download(\"SPY\", period=\"1y\", auto_adjust=True)"
   ]
  },
  {
   "cell_type": "markdown",
   "metadata": {},
   "source": [
    "## Geometric Brownian Motion"
   ]
  },
  {
   "cell_type": "code",
   "execution_count": null,
   "metadata": {},
   "outputs": [],
   "source": [
    "adj_close = spy['Close']\n",
    "# Stock Return (excl. dividents) = (P1 - P0)/P0, where P0 = Initial Stock Price, P1 = Ending Stock Price (Period 1)\n",
    "adj_reversed = list(reversed(adj_close))\n",
    "\n",
    "def daily_return(adj_reversed):\n",
    "    returns = []\n",
    "    for i in range(0, len(adj_reversed)-1):\n",
    "        today = adj_reversed[i+1]\n",
    "        yesterday = adj_reversed[i]\n",
    "        \n",
    "        daily_return = (today - yesterday)/yesterday\n",
    "        \n",
    "        returns.append(daily_return)\n",
    "    return returns      \n",
    "\n",
    "returns = daily_return(adj_reversed)"
   ]
  },
  {
   "cell_type": "code",
   "execution_count": null,
   "metadata": {},
   "outputs": [],
   "source": [
    "#compute the drift(mean) and diffusion(variance) coefficients and annualize it by multiplying by 250 trading days \n",
    "mu = np.mean(returns) * 250.            \n",
    "sig = np.std(returns)* np.sqrt(250.)"
   ]
  },
  {
   "cell_type": "code",
   "execution_count": null,
   "metadata": {},
   "outputs": [],
   "source": [
    "#GBM based on real stock prices\n",
    "def BrownianMotion(seed, N):\n",
    "    np.random.seed(seed)\n",
    "    Z = np.random.randn(N)     #random variables\n",
    "    Z[0] = 0\n",
    "    dW = np.sqrt(dt)* Z        #single Brownian increment\n",
    "    W = np.cumsum(dW)          #Brownian path\n",
    "    return W\n",
    "\n",
    "# Parameters:\n",
    "# So - initial stock price \n",
    "# mu - the mean of returns \n",
    "# sigma - standard deviation of returns (volatility)\n",
    "# W - Brownian motion\n",
    "# T - time horizon\n",
    "# N - number of intervals\n",
    "\n",
    "def GBM_Exact(So, mu, sigma, W, N, t):\n",
    "    \n",
    "    S = []\n",
    "    S.append(So)\n",
    "          \n",
    "    for i in range(1,N):\n",
    "        drift = (mu - 0.5 * sigma**2) *t[i]       #Calculating the deterministic part\n",
    "        diffusion = sigma * W[i-1]                #Calculating the stochastic part\n",
    "        S_i = So * np.exp(drift + diffusion)\n",
    "        S.append(S_i)\n",
    "        \n",
    "    return S\n",
    "\n",
    "seed = 20\n",
    "N = 252     #assume 250 trading days for one year   \n",
    "T = 1.0\n",
    "dt = T / N                 #time step\n",
    "\n",
    "So = adj_reversed[0]\n",
    "W = BrownianMotion(seed, N)\n",
    "t = np.linspace(0., T, N)    #time increments"
   ]
  },
  {
   "cell_type": "code",
   "execution_count": null,
   "metadata": {},
   "outputs": [],
   "source": [
    "#plot solution\n",
    "\n",
    "solution = GBM_Exact(So, mu, sig, W, N, t)\n",
    "\n",
    "plt.figure(figsize = (16, 8))\n",
    "plt.plot(t, solution, color = \"green\")\n",
    "\n",
    "#plt.scatter(t, solution, color = \"black\")\n",
    "plt.title('Geometric Brownian Motion - SPY', fontsize = 14)\n",
    "plt.xlabel('Time $t$', fontsize = 12)\n",
    "plt.ylabel('SPY price, $', fontsize = 12)\n",
    "\n",
    "axes = plt.gca()\n",
    "axes.set_xlim([0,T])\n",
    "plt.show()"
   ]
  },
  {
   "cell_type": "code",
   "execution_count": null,
   "metadata": {},
   "outputs": [],
   "source": [
    "random_seeds = np.random.randint(1000, size=50)"
   ]
  },
  {
   "cell_type": "code",
   "execution_count": null,
   "metadata": {},
   "outputs": [],
   "source": [
    "T=1.\n",
    "N = 252\n",
    "So = adj_reversed[0]\n",
    "\n",
    "plt.figure(figsize = (16, 8))\n",
    "\n",
    "simulated_prices = []\n",
    "for seed in random_seeds:   \n",
    "    W = BrownianMotion(seed, N)  \n",
    "    solution = GBM_Exact(So, mu, sig, W, N, t)\n",
    "    simulated_prices.append(solution)\n",
    "    plt.plot(t, solution, ls='--')\n",
    "    \n",
    "plt.plot(t, adj_reversed, label = 'Actual', color = \"black\", linewidth = 2)\n",
    "plt.xlabel('Time $t$', fontsize = 12)\n",
    "plt.ylabel('SPY Stock Price, $', fontsize = 12)\n",
    "plt.title('Geometric Brownian Motion - SPY', fontsize = 14)\n",
    "\n",
    "plt.legend(loc = 'upper left')\n",
    "axes = plt.gca()\n",
    "axes.set_xlim([0,T])\n",
    "\n",
    "plt.show()"
   ]
  },
  {
   "cell_type": "code",
   "execution_count": null,
   "metadata": {},
   "outputs": [],
   "source": [
    "simulated_df = pd.DataFrame(simulated_prices).transpose()\n",
    "simulated_df['date'] = spy.index\n",
    "simulated_df = simulated_df.set_index('date')\n",
    "simulated_df"
   ]
  },
  {
   "cell_type": "code",
   "execution_count": null,
   "metadata": {},
   "outputs": [],
   "source": [
    "temp = []\n",
    "equity_trades = {}\n",
    "for i in range(2):\n",
    "    temp_df = spy.drop(\"Close\", index=1)\n",
    "    temp_df['Close'] = simulated_df.iloc[:, [i]].rename(columns={i:\"Close\"})\n",
    "    \n",
    "    bt = Backtest(temp_df, strats.SmaCross, cash=10_000, commission=0)\n",
    "    stats = bt.run()\n",
    "    temp.append(stats[:27])\n",
    "    equity_trades[i] = (stats[\"_equity_curve\"], stats[\"_trades\"])\n",
    "\n",
    "temp = pd.concat(temp, axis=1)\n",
    "#temp.columns = range(0:50)\n",
    "temp"
   ]
  },
  {
   "cell_type": "code",
   "execution_count": null,
   "metadata": {},
   "outputs": [],
   "source": []
  }
 ],
 "metadata": {
  "kernelspec": {
   "display_name": "Python 3",
   "language": "python",
   "name": "python3"
  },
  "language_info": {
   "codemirror_mode": {
    "name": "ipython",
    "version": 3
   },
   "file_extension": ".py",
   "mimetype": "text/x-python",
   "name": "python",
   "nbconvert_exporter": "python",
   "pygments_lexer": "ipython3",
   "version": "3.7.4"
  }
 },
 "nbformat": 4,
 "nbformat_minor": 4
}
