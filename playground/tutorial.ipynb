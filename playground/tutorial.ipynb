{
 "cells": [
  {
   "cell_type": "code",
   "execution_count": 1,
   "metadata": {},
   "outputs": [],
   "source": [
    "import pandas as pd\n",
    "import numpy as np"
   ]
  },
  {
   "cell_type": "markdown",
   "metadata": {},
   "source": [
    "## Get Data from Yahoo"
   ]
  },
  {
   "cell_type": "code",
   "execution_count": 2,
   "metadata": {},
   "outputs": [],
   "source": [
    "from findatapy.market import Market, MarketDataRequest, MarketDataGenerator\n",
    "from findatapy.util import DataConstants, LoggerManager"
   ]
  },
  {
   "cell_type": "code",
   "execution_count": 46,
   "metadata": {},
   "outputs": [],
   "source": [
    "def load_decade(start_date = \"decade\", tickers = '^GSPC'):\n",
    "    logger = LoggerManager.getLogger(__name__)\n",
    "\n",
    "    market = Market(market_data_generator=MarketDataGenerator())\n",
    "\n",
    "    DataConstants.market_thread_technique = 'thread'\n",
    "\n",
    "    # load S&P 500 ETF ticker via wikipedia\n",
    "    # snp = pd.read_html('https://en.wikipedia.org/wiki/List_of_S%26P_500_companies')\n",
    "    # tickers = snp[0]['Symbol'].to_list()\n",
    "    \n",
    "    # download equities data from Yahoo\n",
    "    md_request = MarketDataRequest(\n",
    "        start_date=start_date,\n",
    "        data_source='yahoo',  # use Bloomberg as data source\n",
    "        tickers=tickers,  # ticker (findatapy)\n",
    "        fields=['close', 'open', 'high', 'low', 'volume'],  # which fields to download\n",
    "        vendor_tickers=tickers,  # ticker (Yahoo)\n",
    "        vendor_fields=['Close', 'Open', 'High', 'Low', 'Volume'])  # which Bloomberg fields to download)\n",
    "\n",
    "\n",
    "    logger.info(\"Loading data with threading\")\n",
    "\n",
    "    df = market.fetch_market(md_request)\n",
    "\n",
    "    logger.info(\"Loading data with multiprocessing\")\n",
    "\n",
    "    DataConstants.market_thread_technique = 'multiprocessing'\n",
    "\n",
    "    df = market.fetch_market(md_request)\n",
    "\n",
    "    logger.info(\"Loaded data with multiprocessing\")\n",
    "\n",
    "    return df"
   ]
  },
  {
   "cell_type": "code",
   "execution_count": 49,
   "metadata": {},
   "outputs": [
    {
     "name": "stdout",
     "output_type": "stream",
     "text": [
      "2021-02-09 21:02:22,527 - __main__ - INFO - Loading data with threading\n",
      "2021-02-09 21:02:22,532 - findatapy.market.datavendorweb - INFO - Request Yahoo data\n"
     ]
    },
    {
     "name": "stderr",
     "output_type": "stream",
     "text": [
      "C:\\ProgramData\\Anaconda3\\lib\\site-packages\\findatapy\\market\\marketdatagenerator.py:379: FutureWarning: Comparison of NaT with datetime.date is deprecated in order to match the standard library behavior.  In a future version these will be considered non-comparable.\n",
      "  if expiry_date < start_date:\n"
     ]
    },
    {
     "name": "stdout",
     "output_type": "stream",
     "text": [
      "[*********************100%***********************]  1 of 1 completed\n",
      "[*********************100%***********************]  1 of 1 completed\n",
      "2021-02-09 21:02:23,851 - findatapy.market.datavendorweb - INFO - Completed request from Yahoo.\n",
      "2021-02-09 21:02:25,896 - findatapy.market.ioengine - WARNING - Couldn't push MarketDataRequest_739__abstract_curve_key-None__base_depos_currencies-EUR_GBP_AUD_NZD_USD_CAD_CHF_NOK_SEK_JPY__base_depos_tenor-ON_TN_SN_1W_2W_3W_1M_2M_3M_4M_6M_9M_1Y_2Y_3Y_5Y__category-None__category_key-backtest_default-cat_yahoo_daily_NYC__cut-NYC__data_source-yahoo__environment-backtest__expiry_date-NaT__fields-close_open_high_low_volume__finish_date-2021-02-10 04:44:11_402634__freq-daily__freq_mult-1__fx_forwards_tenor-ON_TN_SN_1W_2W_3W_1M_2M_3M_4M_6M_9M_1Y_2Y_3Y_5Y__fx_vol_part-V_25R_10R_25B_10B__fx_vol_tenor-ON_1W_2W_3W_1M_2M_3M_4M_6M_9M_1Y_2Y_3Y_5Y__gran_freq-None__push_to_cache-True__resample-None__resample_how-last__start_date-1990-01-01 00:00:00__tickers-^GSPC__trade_side-trade__vendor_fields-Close_Open_High_Low_Volume__vendor_tickers-^GSPC to Redis: Error 10061 connecting to 127.0.0.1:6379. No connection could be made because the target machine actively refused it.\n",
      "2021-02-09 21:02:25,903 - __main__ - INFO - Loading data with multiprocessing\n",
      "2021-02-09 21:02:25,913 - findatapy.market.datavendorweb - INFO - Request Yahoo data\n"
     ]
    },
    {
     "name": "stderr",
     "output_type": "stream",
     "text": [
      "C:\\ProgramData\\Anaconda3\\lib\\site-packages\\findatapy\\market\\marketdatagenerator.py:379: FutureWarning: Comparison of NaT with datetime.date is deprecated in order to match the standard library behavior.  In a future version these will be considered non-comparable.\n",
      "  if expiry_date < start_date:\n"
     ]
    },
    {
     "name": "stdout",
     "output_type": "stream",
     "text": [
      "[*********************100%***********************]  1 of 1 completed\n",
      "[*********************100%***********************]  1 of 1 completed\n",
      "2021-02-09 21:02:26,933 - findatapy.market.datavendorweb - INFO - Completed request from Yahoo.\n",
      "2021-02-09 21:02:28,974 - findatapy.market.ioengine - WARNING - Couldn't push MarketDataRequest_739__abstract_curve_key-None__base_depos_currencies-EUR_GBP_AUD_NZD_USD_CAD_CHF_NOK_SEK_JPY__base_depos_tenor-ON_TN_SN_1W_2W_3W_1M_2M_3M_4M_6M_9M_1Y_2Y_3Y_5Y__category-None__category_key-backtest_default-cat_yahoo_daily_NYC__cut-NYC__data_source-yahoo__environment-backtest__expiry_date-NaT__fields-close_open_high_low_volume__finish_date-2021-02-10 04:44:11_402634__freq-daily__freq_mult-1__fx_forwards_tenor-ON_TN_SN_1W_2W_3W_1M_2M_3M_4M_6M_9M_1Y_2Y_3Y_5Y__fx_vol_part-V_25R_10R_25B_10B__fx_vol_tenor-ON_1W_2W_3W_1M_2M_3M_4M_6M_9M_1Y_2Y_3Y_5Y__gran_freq-None__push_to_cache-True__resample-None__resample_how-last__start_date-1990-01-01 00:00:00__tickers-^GSPC__trade_side-trade__vendor_fields-Close_Open_High_Low_Volume__vendor_tickers-^GSPC to Redis: Error 10061 connecting to 127.0.0.1:6379. No connection could be made because the target machine actively refused it.\n",
      "2021-02-09 21:02:28,982 - __main__ - INFO - Loaded data with multiprocessing\n"
     ]
    }
   ],
   "source": [
    "from findatapy.util import SwimPool; SwimPool()\n",
    "\n",
    "spy_df = load_decade(start_date = '01 Jan 1990')"
   ]
  },
  {
   "cell_type": "code",
   "execution_count": 50,
   "metadata": {
    "scrolled": true
   },
   "outputs": [
    {
     "name": "stdout",
     "output_type": "stream",
     "text": [
      "Days: 7838\n"
     ]
    },
    {
     "data": {
      "text/html": [
       "<div>\n",
       "<style scoped>\n",
       "    .dataframe tbody tr th:only-of-type {\n",
       "        vertical-align: middle;\n",
       "    }\n",
       "\n",
       "    .dataframe tbody tr th {\n",
       "        vertical-align: top;\n",
       "    }\n",
       "\n",
       "    .dataframe thead th {\n",
       "        text-align: right;\n",
       "    }\n",
       "</style>\n",
       "<table border=\"1\" class=\"dataframe\">\n",
       "  <thead>\n",
       "    <tr style=\"text-align: right;\">\n",
       "      <th></th>\n",
       "      <th>Close</th>\n",
       "      <th>Open</th>\n",
       "      <th>High</th>\n",
       "      <th>Low</th>\n",
       "      <th>Volume</th>\n",
       "    </tr>\n",
       "    <tr>\n",
       "      <th>Date</th>\n",
       "      <th></th>\n",
       "      <th></th>\n",
       "      <th></th>\n",
       "      <th></th>\n",
       "      <th></th>\n",
       "    </tr>\n",
       "  </thead>\n",
       "  <tbody>\n",
       "    <tr>\n",
       "      <th>2021-02-03</th>\n",
       "      <td>3830.169922</td>\n",
       "      <td>3840.270020</td>\n",
       "      <td>3847.510010</td>\n",
       "      <td>3816.679932</td>\n",
       "      <td>4.846900e+09</td>\n",
       "    </tr>\n",
       "    <tr>\n",
       "      <th>2021-02-04</th>\n",
       "      <td>3871.739990</td>\n",
       "      <td>3836.659912</td>\n",
       "      <td>3872.419922</td>\n",
       "      <td>3836.659912</td>\n",
       "      <td>4.856670e+09</td>\n",
       "    </tr>\n",
       "    <tr>\n",
       "      <th>2021-02-05</th>\n",
       "      <td>3886.830078</td>\n",
       "      <td>3878.300049</td>\n",
       "      <td>3894.560059</td>\n",
       "      <td>3874.929932</td>\n",
       "      <td>4.838580e+09</td>\n",
       "    </tr>\n",
       "    <tr>\n",
       "      <th>2021-02-08</th>\n",
       "      <td>3915.590088</td>\n",
       "      <td>3892.590088</td>\n",
       "      <td>3915.770020</td>\n",
       "      <td>3892.590088</td>\n",
       "      <td>4.635030e+09</td>\n",
       "    </tr>\n",
       "    <tr>\n",
       "      <th>2021-02-09</th>\n",
       "      <td>3911.229980</td>\n",
       "      <td>3910.489990</td>\n",
       "      <td>3918.350098</td>\n",
       "      <td>3902.639893</td>\n",
       "      <td>2.063161e+09</td>\n",
       "    </tr>\n",
       "  </tbody>\n",
       "</table>\n",
       "</div>"
      ],
      "text/plain": [
       "                  Close         Open         High          Low        Volume\n",
       "Date                                                                        \n",
       "2021-02-03  3830.169922  3840.270020  3847.510010  3816.679932  4.846900e+09\n",
       "2021-02-04  3871.739990  3836.659912  3872.419922  3836.659912  4.856670e+09\n",
       "2021-02-05  3886.830078  3878.300049  3894.560059  3874.929932  4.838580e+09\n",
       "2021-02-08  3915.590088  3892.590088  3915.770020  3892.590088  4.635030e+09\n",
       "2021-02-09  3911.229980  3910.489990  3918.350098  3902.639893  2.063161e+09"
      ]
     },
     "execution_count": 50,
     "metadata": {},
     "output_type": "execute_result"
    }
   ],
   "source": [
    "spy_df = spy_df.rename(columns={\n",
    "    \"^GSPC.close\":\"Close\", \n",
    "    \"^GSPC.open\":\"Open\", \n",
    "    \"^GSPC.high\":\"High\", \n",
    "    \"^GSPC.low\":\"Low\", \n",
    "    \"^GSPC.volume\":\"Volume\"})\n",
    "\n",
    "print(\"Days:\", len(spy_df))\n",
    "\n",
    "spy_df.tail()"
   ]
  },
  {
   "cell_type": "code",
   "execution_count": 51,
   "metadata": {},
   "outputs": [],
   "source": [
    "for col in list(spy_df.columns):\n",
    "    spy_df[col] = spy_df[col].astype(np.float64)"
   ]
  },
  {
   "cell_type": "markdown",
   "metadata": {},
   "source": [
    "### load SMA from TA-lib"
   ]
  },
  {
   "cell_type": "code",
   "execution_count": 52,
   "metadata": {},
   "outputs": [],
   "source": [
    "from talib import abstract\n",
    "# directly import sma\n",
    "SMA = abstract.SMA"
   ]
  },
  {
   "cell_type": "markdown",
   "metadata": {},
   "source": [
    "### Backtest with SMA"
   ]
  },
  {
   "cell_type": "code",
   "execution_count": 57,
   "metadata": {},
   "outputs": [],
   "source": [
    "from backtesting import Strategy\n",
    "from backtesting.lib import crossover\n",
    "\n",
    "\n",
    "class SmaCross(Strategy):\n",
    "    # Define the a MA lags as *class variables*\n",
    "    # for later optimization\n",
    "    n = 25\n",
    "    \n",
    "    def init(self):\n",
    "        # Precompute the moving averages\n",
    "        self.sma = self.I(SMA, self.data.Close, self.n)\n",
    "    \n",
    "    def next(self):\n",
    "        # If closing price crosses above sma, close any existing\n",
    "        # short trades, and buy the asset\n",
    "        if crossover(self.data.Close, self.sma):\n",
    "            self.position.close()\n",
    "            self.buy()\n",
    "\n",
    "        # Else, if closing price crosses below sma, close any existing\n",
    "        # long trades, and sell the asset\n",
    "        elif crossover(self.sma, self.data.Close):\n",
    "            self.position.close()\n",
    "            self.sell()"
   ]
  },
  {
   "cell_type": "code",
   "execution_count": 58,
   "metadata": {},
   "outputs": [
    {
     "data": {
      "text/plain": [
       "Start                     1990-01-02 00:00:00\n",
       "End                       2021-02-09 00:00:00\n",
       "Duration                  11361 days 00:00:00\n",
       "Exposure Time [%]                   99.578974\n",
       "Equity Final [$]                   5151.03006\n",
       "Equity Peak [$]                  13038.097717\n",
       "Return [%]                         -48.489699\n",
       "Buy & Hold Return [%]              987.389128\n",
       "Return (Ann.) [%]                   -2.110279\n",
       "Volatility (Ann.) [%]               14.581021\n",
       "Sharpe Ratio                              0.0\n",
       "Sortino Ratio                             0.0\n",
       "Calmar Ratio                              0.0\n",
       "Max. Drawdown [%]                  -71.208845\n",
       "Avg. Drawdown [%]                   -5.274172\n",
       "Max. Drawdown Duration    10934 days 00:00:00\n",
       "Avg. Drawdown Duration      513 days 00:00:00\n",
       "# Trades                                  825\n",
       "Win Rate [%]                        24.484848\n",
       "Best Trade [%]                      21.507043\n",
       "Worst Trade [%]                    -10.824752\n",
       "Avg. Trade [%]                      -0.085372\n",
       "Max. Trade Duration         235 days 00:00:00\n",
       "Avg. Trade Duration          14 days 00:00:00\n",
       "Profit Factor                         0.94647\n",
       "Expectancy [%]                      -0.046518\n",
       "SQN                                 -0.822989\n",
       "_strategy                            SmaCross\n",
       "_equity_curve                             ...\n",
       "_trades                        Size  Entry...\n",
       "dtype: object"
      ]
     },
     "execution_count": 58,
     "metadata": {},
     "output_type": "execute_result"
    }
   ],
   "source": [
    "from backtesting import Backtest\n",
    "\n",
    "bt = Backtest(spy_df, SmaCross, cash=10_000, commission=.0)\n",
    "stats = bt.run()\n",
    "stats"
   ]
  },
  {
   "cell_type": "markdown",
   "metadata": {},
   "source": [
    "## With Stochastic Indicator\n",
    "\n",
    "https://www.investopedia.com/articles/technical/073001.asp"
   ]
  },
  {
   "cell_type": "code",
   "execution_count": 26,
   "metadata": {},
   "outputs": [
    {
     "ename": "KeyError",
     "evalue": "'high'",
     "output_type": "error",
     "traceback": [
      "\u001b[1;31m---------------------------------------------------------------------------\u001b[0m",
      "\u001b[1;31mKeyError\u001b[0m                                  Traceback (most recent call last)",
      "\u001b[1;32mC:\\ProgramData\\Anaconda3\\lib\\site-packages\\pandas\\core\\indexes\\base.py\u001b[0m in \u001b[0;36mget_loc\u001b[1;34m(self, key, method, tolerance)\u001b[0m\n\u001b[0;32m   3079\u001b[0m             \u001b[1;32mtry\u001b[0m\u001b[1;33m:\u001b[0m\u001b[1;33m\u001b[0m\u001b[1;33m\u001b[0m\u001b[0m\n\u001b[1;32m-> 3080\u001b[1;33m                 \u001b[1;32mreturn\u001b[0m \u001b[0mself\u001b[0m\u001b[1;33m.\u001b[0m\u001b[0m_engine\u001b[0m\u001b[1;33m.\u001b[0m\u001b[0mget_loc\u001b[0m\u001b[1;33m(\u001b[0m\u001b[0mcasted_key\u001b[0m\u001b[1;33m)\u001b[0m\u001b[1;33m\u001b[0m\u001b[1;33m\u001b[0m\u001b[0m\n\u001b[0m\u001b[0;32m   3081\u001b[0m             \u001b[1;32mexcept\u001b[0m \u001b[0mKeyError\u001b[0m \u001b[1;32mas\u001b[0m \u001b[0merr\u001b[0m\u001b[1;33m:\u001b[0m\u001b[1;33m\u001b[0m\u001b[1;33m\u001b[0m\u001b[0m\n",
      "\u001b[1;32mpandas\\_libs\\index.pyx\u001b[0m in \u001b[0;36mpandas._libs.index.IndexEngine.get_loc\u001b[1;34m()\u001b[0m\n",
      "\u001b[1;32mpandas\\_libs\\index.pyx\u001b[0m in \u001b[0;36mpandas._libs.index.IndexEngine.get_loc\u001b[1;34m()\u001b[0m\n",
      "\u001b[1;32mpandas\\_libs\\hashtable_class_helper.pxi\u001b[0m in \u001b[0;36mpandas._libs.hashtable.PyObjectHashTable.get_item\u001b[1;34m()\u001b[0m\n",
      "\u001b[1;32mpandas\\_libs\\hashtable_class_helper.pxi\u001b[0m in \u001b[0;36mpandas._libs.hashtable.PyObjectHashTable.get_item\u001b[1;34m()\u001b[0m\n",
      "\u001b[1;31mKeyError\u001b[0m: 'high'",
      "\nThe above exception was the direct cause of the following exception:\n",
      "\u001b[1;31mKeyError\u001b[0m                                  Traceback (most recent call last)",
      "\u001b[1;32m<ipython-input-26-20a9c4dfb3f8>\u001b[0m in \u001b[0;36m<module>\u001b[1;34m\u001b[0m\n\u001b[0;32m      2\u001b[0m \u001b[0mSTOCH\u001b[0m \u001b[1;33m=\u001b[0m \u001b[0mabstract\u001b[0m\u001b[1;33m.\u001b[0m\u001b[0mSTOCH\u001b[0m\u001b[1;33m\u001b[0m\u001b[1;33m\u001b[0m\u001b[0m\n\u001b[0;32m      3\u001b[0m \u001b[1;31m# uses high, low, close (default) to compute K line and D line\u001b[0m\u001b[1;33m\u001b[0m\u001b[1;33m\u001b[0m\u001b[1;33m\u001b[0m\u001b[0m\n\u001b[1;32m----> 4\u001b[1;33m \u001b[0mslowk\u001b[0m\u001b[1;33m,\u001b[0m \u001b[0mslowd\u001b[0m \u001b[1;33m=\u001b[0m \u001b[0mSTOCH\u001b[0m\u001b[1;33m(\u001b[0m\u001b[0mhigh\u001b[0m\u001b[1;33m=\u001b[0m\u001b[0mspy_df\u001b[0m\u001b[1;33m[\u001b[0m\u001b[1;34m'high'\u001b[0m\u001b[1;33m]\u001b[0m\u001b[1;33m,\u001b[0m \u001b[0mlow\u001b[0m\u001b[1;33m=\u001b[0m\u001b[0mspy_df\u001b[0m\u001b[1;33m[\u001b[0m\u001b[1;34m'low'\u001b[0m\u001b[1;33m]\u001b[0m\u001b[1;33m,\u001b[0m \u001b[0mclose\u001b[0m\u001b[1;33m=\u001b[0m\u001b[0mspy_df\u001b[0m\u001b[1;33m[\u001b[0m\u001b[1;34m'close'\u001b[0m\u001b[1;33m]\u001b[0m\u001b[1;33m,\u001b[0m \u001b[0mfastk_period\u001b[0m\u001b[1;33m=\u001b[0m\u001b[1;36m5\u001b[0m\u001b[1;33m,\u001b[0m \u001b[0mslowk_period\u001b[0m\u001b[1;33m=\u001b[0m\u001b[1;36m3\u001b[0m\u001b[1;33m,\u001b[0m \u001b[0mslowk_matype\u001b[0m\u001b[1;33m=\u001b[0m\u001b[1;36m0\u001b[0m\u001b[1;33m,\u001b[0m \u001b[0mslowd_period\u001b[0m\u001b[1;33m=\u001b[0m\u001b[1;36m3\u001b[0m\u001b[1;33m,\u001b[0m \u001b[0mslowd_matype\u001b[0m\u001b[1;33m=\u001b[0m\u001b[1;36m0\u001b[0m\u001b[1;33m)\u001b[0m\u001b[1;33m\u001b[0m\u001b[1;33m\u001b[0m\u001b[0m\n\u001b[0m",
      "\u001b[1;32mC:\\ProgramData\\Anaconda3\\lib\\site-packages\\pandas\\core\\frame.py\u001b[0m in \u001b[0;36m__getitem__\u001b[1;34m(self, key)\u001b[0m\n\u001b[0;32m   3022\u001b[0m             \u001b[1;32mif\u001b[0m \u001b[0mself\u001b[0m\u001b[1;33m.\u001b[0m\u001b[0mcolumns\u001b[0m\u001b[1;33m.\u001b[0m\u001b[0mnlevels\u001b[0m \u001b[1;33m>\u001b[0m \u001b[1;36m1\u001b[0m\u001b[1;33m:\u001b[0m\u001b[1;33m\u001b[0m\u001b[1;33m\u001b[0m\u001b[0m\n\u001b[0;32m   3023\u001b[0m                 \u001b[1;32mreturn\u001b[0m \u001b[0mself\u001b[0m\u001b[1;33m.\u001b[0m\u001b[0m_getitem_multilevel\u001b[0m\u001b[1;33m(\u001b[0m\u001b[0mkey\u001b[0m\u001b[1;33m)\u001b[0m\u001b[1;33m\u001b[0m\u001b[1;33m\u001b[0m\u001b[0m\n\u001b[1;32m-> 3024\u001b[1;33m             \u001b[0mindexer\u001b[0m \u001b[1;33m=\u001b[0m \u001b[0mself\u001b[0m\u001b[1;33m.\u001b[0m\u001b[0mcolumns\u001b[0m\u001b[1;33m.\u001b[0m\u001b[0mget_loc\u001b[0m\u001b[1;33m(\u001b[0m\u001b[0mkey\u001b[0m\u001b[1;33m)\u001b[0m\u001b[1;33m\u001b[0m\u001b[1;33m\u001b[0m\u001b[0m\n\u001b[0m\u001b[0;32m   3025\u001b[0m             \u001b[1;32mif\u001b[0m \u001b[0mis_integer\u001b[0m\u001b[1;33m(\u001b[0m\u001b[0mindexer\u001b[0m\u001b[1;33m)\u001b[0m\u001b[1;33m:\u001b[0m\u001b[1;33m\u001b[0m\u001b[1;33m\u001b[0m\u001b[0m\n\u001b[0;32m   3026\u001b[0m                 \u001b[0mindexer\u001b[0m \u001b[1;33m=\u001b[0m \u001b[1;33m[\u001b[0m\u001b[0mindexer\u001b[0m\u001b[1;33m]\u001b[0m\u001b[1;33m\u001b[0m\u001b[1;33m\u001b[0m\u001b[0m\n",
      "\u001b[1;32mC:\\ProgramData\\Anaconda3\\lib\\site-packages\\pandas\\core\\indexes\\base.py\u001b[0m in \u001b[0;36mget_loc\u001b[1;34m(self, key, method, tolerance)\u001b[0m\n\u001b[0;32m   3080\u001b[0m                 \u001b[1;32mreturn\u001b[0m \u001b[0mself\u001b[0m\u001b[1;33m.\u001b[0m\u001b[0m_engine\u001b[0m\u001b[1;33m.\u001b[0m\u001b[0mget_loc\u001b[0m\u001b[1;33m(\u001b[0m\u001b[0mcasted_key\u001b[0m\u001b[1;33m)\u001b[0m\u001b[1;33m\u001b[0m\u001b[1;33m\u001b[0m\u001b[0m\n\u001b[0;32m   3081\u001b[0m             \u001b[1;32mexcept\u001b[0m \u001b[0mKeyError\u001b[0m \u001b[1;32mas\u001b[0m \u001b[0merr\u001b[0m\u001b[1;33m:\u001b[0m\u001b[1;33m\u001b[0m\u001b[1;33m\u001b[0m\u001b[0m\n\u001b[1;32m-> 3082\u001b[1;33m                 \u001b[1;32mraise\u001b[0m \u001b[0mKeyError\u001b[0m\u001b[1;33m(\u001b[0m\u001b[0mkey\u001b[0m\u001b[1;33m)\u001b[0m \u001b[1;32mfrom\u001b[0m \u001b[0merr\u001b[0m\u001b[1;33m\u001b[0m\u001b[1;33m\u001b[0m\u001b[0m\n\u001b[0m\u001b[0;32m   3083\u001b[0m \u001b[1;33m\u001b[0m\u001b[0m\n\u001b[0;32m   3084\u001b[0m         \u001b[1;32mif\u001b[0m \u001b[0mtolerance\u001b[0m \u001b[1;32mis\u001b[0m \u001b[1;32mnot\u001b[0m \u001b[1;32mNone\u001b[0m\u001b[1;33m:\u001b[0m\u001b[1;33m\u001b[0m\u001b[1;33m\u001b[0m\u001b[0m\n",
      "\u001b[1;31mKeyError\u001b[0m: 'high'"
     ]
    }
   ],
   "source": [
    "# directly import stochastic\n",
    "STOCH = abstract.STOCH\n",
    "# uses high, low, close (default) to compute K line and D line\n",
    "slowk, slowd = STOCH(high=spy_df['high'], low=spy_df['low'], close=spy_df['close'], fastk_period=5, slowk_period=3, slowk_matype=0, slowd_period=3, slowd_matype=0)"
   ]
  },
  {
   "cell_type": "code",
   "execution_count": null,
   "metadata": {},
   "outputs": [],
   "source": []
  }
 ],
 "metadata": {
  "kernelspec": {
   "display_name": "Python 3",
   "language": "python",
   "name": "python3"
  },
  "language_info": {
   "codemirror_mode": {
    "name": "ipython",
    "version": 3
   },
   "file_extension": ".py",
   "mimetype": "text/x-python",
   "name": "python",
   "nbconvert_exporter": "python",
   "pygments_lexer": "ipython3",
   "version": "3.7.4"
  }
 },
 "nbformat": 4,
 "nbformat_minor": 4
}
