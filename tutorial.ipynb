{
 "cells": [
  {
   "cell_type": "code",
   "execution_count": 47,
   "metadata": {},
   "outputs": [],
   "source": [
    "import pandas as pd\n",
    "import numpy as np"
   ]
  },
  {
   "cell_type": "markdown",
   "metadata": {},
   "source": [
    "## Get Data from Yahoo"
   ]
  },
  {
   "cell_type": "code",
   "execution_count": 2,
   "metadata": {},
   "outputs": [],
   "source": [
    "from findatapy.market import Market, MarketDataRequest, MarketDataGenerator\n",
    "from findatapy.util import DataConstants, LoggerManager"
   ]
  },
  {
   "cell_type": "code",
   "execution_count": 6,
   "metadata": {},
   "outputs": [],
   "source": [
    "def load_decade(start_date = \"decade\", tickers = 'SPY'):\n",
    "    logger = LoggerManager.getLogger(__name__)\n",
    "\n",
    "    market = Market(market_data_generator=MarketDataGenerator())\n",
    "\n",
    "    DataConstants.market_thread_technique = 'thread'\n",
    "\n",
    "    # load S&P 500 ticker via wikipedia\n",
    "    # snp = pd.read_html('https://en.wikipedia.org/wiki/List_of_S%26P_500_companies')\n",
    "    # tickers = snp[0]['Symbol'].to_list()\n",
    "    \n",
    "    # download equities data from Yahoo\n",
    "    md_request = MarketDataRequest(\n",
    "        start_date=start_date,\n",
    "        data_source='yahoo',  # use Bloomberg as data source\n",
    "        tickers=tickers,  # ticker (findatapy)\n",
    "        fields=['close', 'open', 'high', 'low', 'volume'],  # which fields to download\n",
    "        vendor_tickers=tickers,  # ticker (Yahoo)\n",
    "        vendor_fields=['Close', 'Open', 'High', 'Low', 'Volume'])  # which Bloomberg fields to download)\n",
    "\n",
    "\n",
    "    logger.info(\"Loading data with threading\")\n",
    "\n",
    "    df = market.fetch_market(md_request)\n",
    "\n",
    "    logger.info(\"Loading data with multiprocessing\")\n",
    "\n",
    "    DataConstants.market_thread_technique = 'multiprocessing'\n",
    "\n",
    "    df = market.fetch_market(md_request)\n",
    "\n",
    "    logger.info(\"Loaded data with multiprocessing\")\n",
    "\n",
    "    return df"
   ]
  },
  {
   "cell_type": "code",
   "execution_count": 39,
   "metadata": {},
   "outputs": [
    {
     "name": "stdout",
     "output_type": "stream",
     "text": [
      "2021-02-07 14:57:12,646 - __main__ - INFO - Loading data with threading\n",
      "2021-02-07 14:57:12,648 - findatapy.market.datavendorweb - INFO - Request Yahoo data\n",
      "[*********************100%***********************]  1 of 1 completed\n",
      "[*********************100%***********************]  1 of 1 completed\n",
      "2021-02-07 14:57:13,078 - findatapy.market.datavendorweb - INFO - Completed request from Yahoo.\n",
      "2021-02-07 14:57:13,086 - findatapy.market.ioengine - WARNING - Couldn't push MarketDataRequest_735__abstract_curve_key-None__base_depos_currencies-EUR_GBP_AUD_NZD_USD_CAD_CHF_NOK_SEK_JPY__base_depos_tenor-ON_TN_SN_1W_2W_3W_1M_2M_3M_4M_6M_9M_1Y_2Y_3Y_5Y__category-None__category_key-backtest_default-cat_yahoo_daily_NYC__cut-NYC__data_source-yahoo__environment-backtest__expiry_date-NaT__fields-close_open_high_low_volume__finish_date-2021-02-07 06:21:55_064435__freq-daily__freq_mult-1__fx_forwards_tenor-ON_TN_SN_1W_2W_3W_1M_2M_3M_4M_6M_9M_1Y_2Y_3Y_5Y__fx_vol_part-V_25R_10R_25B_10B__fx_vol_tenor-ON_1W_2W_3W_1M_2M_3M_4M_6M_9M_1Y_2Y_3Y_5Y__gran_freq-None__push_to_cache-True__resample-None__resample_how-last__start_date-2019-01-01 00:00:00__tickers-SPY__trade_side-trade__vendor_fields-Close_Open_High_Low_Volume__vendor_tickers-SPY to Redis: Error 61 connecting to 127.0.0.1:6379. Connection refused.\n",
      "2021-02-07 14:57:13,087 - __main__ - INFO - Loading data with multiprocessing\n",
      "2021-02-07 14:57:13,089 - findatapy.market.datavendorweb - INFO - Request Yahoo data\n",
      "[*********************100%***********************]  1 of 1 completed\n",
      "[*********************100%***********************]  1 of 1 completed\n",
      "2021-02-07 14:57:13,447 - findatapy.market.datavendorweb - INFO - Completed request from Yahoo.\n",
      "2021-02-07 14:57:13,454 - findatapy.market.ioengine - WARNING - Couldn't push MarketDataRequest_735__abstract_curve_key-None__base_depos_currencies-EUR_GBP_AUD_NZD_USD_CAD_CHF_NOK_SEK_JPY__base_depos_tenor-ON_TN_SN_1W_2W_3W_1M_2M_3M_4M_6M_9M_1Y_2Y_3Y_5Y__category-None__category_key-backtest_default-cat_yahoo_daily_NYC__cut-NYC__data_source-yahoo__environment-backtest__expiry_date-NaT__fields-close_open_high_low_volume__finish_date-2021-02-07 06:21:55_064435__freq-daily__freq_mult-1__fx_forwards_tenor-ON_TN_SN_1W_2W_3W_1M_2M_3M_4M_6M_9M_1Y_2Y_3Y_5Y__fx_vol_part-V_25R_10R_25B_10B__fx_vol_tenor-ON_1W_2W_3W_1M_2M_3M_4M_6M_9M_1Y_2Y_3Y_5Y__gran_freq-None__push_to_cache-True__resample-None__resample_how-last__start_date-2019-01-01 00:00:00__tickers-SPY__trade_side-trade__vendor_fields-Close_Open_High_Low_Volume__vendor_tickers-SPY to Redis: Error 61 connecting to 127.0.0.1:6379. Connection refused.\n",
      "2021-02-07 14:57:13,454 - __main__ - INFO - Loaded data with multiprocessing\n"
     ]
    }
   ],
   "source": [
    "from findatapy.util import SwimPool; SwimPool()\n",
    "\n",
    "spy_df = load_decade(start_date = '01 Jan 2019')"
   ]
  },
  {
   "cell_type": "code",
   "execution_count": 40,
   "metadata": {},
   "outputs": [
    {
     "data": {
      "text/html": [
       "<div>\n",
       "<style scoped>\n",
       "    .dataframe tbody tr th:only-of-type {\n",
       "        vertical-align: middle;\n",
       "    }\n",
       "\n",
       "    .dataframe tbody tr th {\n",
       "        vertical-align: top;\n",
       "    }\n",
       "\n",
       "    .dataframe thead th {\n",
       "        text-align: right;\n",
       "    }\n",
       "</style>\n",
       "<table border=\"1\" class=\"dataframe\">\n",
       "  <thead>\n",
       "    <tr style=\"text-align: right;\">\n",
       "      <th></th>\n",
       "      <th>Close</th>\n",
       "      <th>Open</th>\n",
       "      <th>High</th>\n",
       "      <th>Low</th>\n",
       "      <th>Volume</th>\n",
       "    </tr>\n",
       "    <tr>\n",
       "      <th>Date</th>\n",
       "      <th></th>\n",
       "      <th></th>\n",
       "      <th></th>\n",
       "      <th></th>\n",
       "      <th></th>\n",
       "    </tr>\n",
       "  </thead>\n",
       "  <tbody>\n",
       "    <tr>\n",
       "      <th>2019-01-02</th>\n",
       "      <td>250.179993</td>\n",
       "      <td>245.979996</td>\n",
       "      <td>251.210007</td>\n",
       "      <td>245.949997</td>\n",
       "      <td>126925200.0</td>\n",
       "    </tr>\n",
       "    <tr>\n",
       "      <th>2019-01-03</th>\n",
       "      <td>244.210007</td>\n",
       "      <td>248.229996</td>\n",
       "      <td>248.570007</td>\n",
       "      <td>243.669998</td>\n",
       "      <td>144140704.0</td>\n",
       "    </tr>\n",
       "    <tr>\n",
       "      <th>2019-01-04</th>\n",
       "      <td>252.389999</td>\n",
       "      <td>247.589996</td>\n",
       "      <td>253.110001</td>\n",
       "      <td>247.169998</td>\n",
       "      <td>142628800.0</td>\n",
       "    </tr>\n",
       "    <tr>\n",
       "      <th>2019-01-07</th>\n",
       "      <td>254.380005</td>\n",
       "      <td>252.690002</td>\n",
       "      <td>255.949997</td>\n",
       "      <td>251.690002</td>\n",
       "      <td>103139104.0</td>\n",
       "    </tr>\n",
       "    <tr>\n",
       "      <th>2019-01-08</th>\n",
       "      <td>256.769989</td>\n",
       "      <td>256.820007</td>\n",
       "      <td>257.309998</td>\n",
       "      <td>254.000000</td>\n",
       "      <td>102512600.0</td>\n",
       "    </tr>\n",
       "  </tbody>\n",
       "</table>\n",
       "</div>"
      ],
      "text/plain": [
       "                 Close        Open        High         Low       Volume\n",
       "Date                                                                   \n",
       "2019-01-02  250.179993  245.979996  251.210007  245.949997  126925200.0\n",
       "2019-01-03  244.210007  248.229996  248.570007  243.669998  144140704.0\n",
       "2019-01-04  252.389999  247.589996  253.110001  247.169998  142628800.0\n",
       "2019-01-07  254.380005  252.690002  255.949997  251.690002  103139104.0\n",
       "2019-01-08  256.769989  256.820007  257.309998  254.000000  102512600.0"
      ]
     },
     "execution_count": 40,
     "metadata": {},
     "output_type": "execute_result"
    }
   ],
   "source": [
    "spy_df = spy_df.rename(columns={\"SPY.close\":\"Close\", \"SPY.open\":\"Open\", \"SPY.high\":\"High\", \"SPY.low\":\"Low\", \"SPY.volume\":\"Volume\"})\n",
    "spy_df.head()"
   ]
  },
  {
   "cell_type": "code",
   "execution_count": 48,
   "metadata": {},
   "outputs": [],
   "source": [
    "for col in list(spy_df.columns):\n",
    "    spy_df[col] = spy_df[col].astype(np.float64)"
   ]
  },
  {
   "cell_type": "markdown",
   "metadata": {},
   "source": [
    "### load SMA from TA-lib"
   ]
  },
  {
   "cell_type": "code",
   "execution_count": 50,
   "metadata": {},
   "outputs": [],
   "source": [
    "from talib import abstract\n",
    "# directly import sma\n",
    "SMA = abstract.SMA"
   ]
  },
  {
   "cell_type": "markdown",
   "metadata": {},
   "source": [
    "### Backtest with SMA"
   ]
  },
  {
   "cell_type": "code",
   "execution_count": 53,
   "metadata": {},
   "outputs": [],
   "source": [
    "from backtesting import Strategy\n",
    "from backtesting.lib import crossover\n",
    "\n",
    "\n",
    "class SmaCross(Strategy):\n",
    "    # Define the a MA lags as *class variables*\n",
    "    # for later optimization\n",
    "    n = 25\n",
    "    \n",
    "    def init(self):\n",
    "        # Precompute the moving averages\n",
    "        self.sma = self.I(SMA, self.data.Close, self.n)\n",
    "    \n",
    "    def next(self):\n",
    "        # If closing price crosses above sma, close any existing\n",
    "        # short trades, and buy the asset\n",
    "        if crossover(self.data.Close, self.sma):\n",
    "            self.position.close()\n",
    "            self.buy()\n",
    "\n",
    "        # Else, if closing price crosses below sma, close any existing\n",
    "        # long trades, and sell the asset\n",
    "        elif crossover(self.sma, self.data.Close):\n",
    "            self.position.close()\n",
    "            self.sell()"
   ]
  },
  {
   "cell_type": "code",
   "execution_count": 54,
   "metadata": {},
   "outputs": [
    {
     "data": {
      "text/plain": [
       "Start                     2019-01-02 00:00:00\n",
       "End                       2021-02-05 00:00:00\n",
       "Duration                    765 days 00:00:00\n",
       "Exposure Time [%]                     91.4934\n",
       "Equity Final [$]                      12957.5\n",
       "Equity Peak [$]                       14012.3\n",
       "Return [%]                            29.5746\n",
       "Buy & Hold Return [%]                 54.9724\n",
       "Return (Ann.) [%]                     13.1361\n",
       "Volatility (Ann.) [%]                 24.2084\n",
       "Sharpe Ratio                         0.542627\n",
       "Sortino Ratio                        0.926414\n",
       "Calmar Ratio                         0.873284\n",
       "Max. Drawdown [%]                    -15.0422\n",
       "Avg. Drawdown [%]                    -3.74128\n",
       "Max. Drawdown Duration      157 days 00:00:00\n",
       "Avg. Drawdown Duration       29 days 00:00:00\n",
       "# Trades                                   34\n",
       "Win Rate [%]                          41.1765\n",
       "Best Trade [%]                         15.182\n",
       "Worst Trade [%]                      -3.75646\n",
       "Avg. Trade [%]                       0.773446\n",
       "Max. Trade Duration         104 days 00:00:00\n",
       "Avg. Trade Duration          21 days 00:00:00\n",
       "Profit Factor                         1.86144\n",
       "Expectancy [%]                        0.85514\n",
       "SQN                                   1.12946\n",
       "_strategy                            SmaCross\n",
       "_equity_curve                             ...\n",
       "_trades                       Size  EntryB...\n",
       "dtype: object"
      ]
     },
     "execution_count": 54,
     "metadata": {},
     "output_type": "execute_result"
    }
   ],
   "source": [
    "from backtesting import Backtest\n",
    "\n",
    "bt = Backtest(spy_df, SmaCross, cash=10_000, commission=.002)\n",
    "stats = bt.run()\n",
    "stats"
   ]
  },
  {
   "cell_type": "markdown",
   "metadata": {},
   "source": [
    "## With Stochastic Indicator\n",
    "\n",
    "https://www.investopedia.com/articles/technical/073001.asp"
   ]
  },
  {
   "cell_type": "code",
   "execution_count": 27,
   "metadata": {},
   "outputs": [],
   "source": [
    "# directly import stochastic\n",
    "STOCH = abstract.STOCH\n",
    "# uses high, low, close (default) to compute K line and D line\n",
    "slowk, slowd = STOCH(high=spy_df['high'], low=spy_df['low'], close=spy_df['close'], fastk_period=5, slowk_period=3, slowk_matype=0, slowd_period=3, slowd_matype=0)"
   ]
  },
  {
   "cell_type": "code",
   "execution_count": null,
   "metadata": {},
   "outputs": [],
   "source": []
  }
 ],
 "metadata": {
  "kernelspec": {
   "display_name": "Python 3",
   "language": "python",
   "name": "python3"
  },
  "language_info": {
   "codemirror_mode": {
    "name": "ipython",
    "version": 3
   },
   "file_extension": ".py",
   "mimetype": "text/x-python",
   "name": "python",
   "nbconvert_exporter": "python",
   "pygments_lexer": "ipython3",
   "version": "3.7.4"
  }
 },
 "nbformat": 4,
 "nbformat_minor": 4
}
