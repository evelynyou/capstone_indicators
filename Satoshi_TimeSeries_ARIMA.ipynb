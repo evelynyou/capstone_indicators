{
 "cells": [
  {
   "cell_type": "markdown",
   "metadata": {},
   "source": [
    "# Stock Price prediction with ARIMA model"
   ]
  },
  {
   "cell_type": "code",
   "execution_count": 1,
   "metadata": {},
   "outputs": [],
   "source": [
    "import pandas as pd\n",
    "import numpy as np\n",
    "%matplotlib inline\n",
    "\n",
    "# Load specific forecasting tools\n",
    "from statsmodels.tsa.arima_model import ARMA,ARMAResults,ARIMA,ARIMAResults\n",
    "#from statsmodels.tsa.statespace.sarimax import SARIMAX\n",
    "\n",
    "from statsmodels.tsa.seasonal import seasonal_decompose      # for ETS Plots\n",
    "#from statsmodels.graphics.tsaplots import plot_acf,plot_pacf # for determining (p,q) orders\n",
    "from pmdarima import auto_arima # for determining ARIMA orders\n",
    "\n",
    "# Ignore harmless warnings\n",
    "import warnings\n",
    "warnings.filterwarnings(\"ignore\")\n",
    "\n",
    "import yfinance as yf\n",
    "\n",
    "#from talib import abstract\n",
    "#import talib as ta\n",
    "\n",
    "#from backtesting import Strategy\n",
    "#from backtesting.lib import crossover, SignalStrategy, TrailingStrategy\n",
    "#from backtesting import Backtest"
   ]
  },
  {
   "cell_type": "markdown",
   "metadata": {},
   "source": [
    "## Getting data and clean it up"
   ]
  },
  {
   "cell_type": "code",
   "execution_count": 2,
   "metadata": {},
   "outputs": [
    {
     "name": "stdout",
     "output_type": "stream",
     "text": [
      "[*********************100%***********************]  1 of 1 completed\n"
     ]
    },
    {
     "data": {
      "text/html": [
       "<div>\n",
       "<style scoped>\n",
       "    .dataframe tbody tr th:only-of-type {\n",
       "        vertical-align: middle;\n",
       "    }\n",
       "\n",
       "    .dataframe tbody tr th {\n",
       "        vertical-align: top;\n",
       "    }\n",
       "\n",
       "    .dataframe thead th {\n",
       "        text-align: right;\n",
       "    }\n",
       "</style>\n",
       "<table border=\"1\" class=\"dataframe\">\n",
       "  <thead>\n",
       "    <tr style=\"text-align: right;\">\n",
       "      <th></th>\n",
       "      <th>Open</th>\n",
       "      <th>High</th>\n",
       "      <th>Low</th>\n",
       "      <th>Close</th>\n",
       "      <th>Adj Close</th>\n",
       "      <th>Volume</th>\n",
       "    </tr>\n",
       "    <tr>\n",
       "      <th>Date</th>\n",
       "      <th></th>\n",
       "      <th></th>\n",
       "      <th></th>\n",
       "      <th></th>\n",
       "      <th></th>\n",
       "      <th></th>\n",
       "    </tr>\n",
       "  </thead>\n",
       "  <tbody>\n",
       "    <tr>\n",
       "      <th>2016-02-16</th>\n",
       "      <td>188.770004</td>\n",
       "      <td>189.809998</td>\n",
       "      <td>187.630005</td>\n",
       "      <td>189.779999</td>\n",
       "      <td>172.308426</td>\n",
       "      <td>120250700</td>\n",
       "    </tr>\n",
       "    <tr>\n",
       "      <th>2016-02-17</th>\n",
       "      <td>191.160004</td>\n",
       "      <td>193.320007</td>\n",
       "      <td>191.009995</td>\n",
       "      <td>192.880005</td>\n",
       "      <td>175.123047</td>\n",
       "      <td>136009500</td>\n",
       "    </tr>\n",
       "    <tr>\n",
       "      <th>2016-02-18</th>\n",
       "      <td>193.199997</td>\n",
       "      <td>193.270004</td>\n",
       "      <td>191.720001</td>\n",
       "      <td>192.089996</td>\n",
       "      <td>174.405762</td>\n",
       "      <td>102343000</td>\n",
       "    </tr>\n",
       "    <tr>\n",
       "      <th>2016-02-19</th>\n",
       "      <td>191.169998</td>\n",
       "      <td>192.179993</td>\n",
       "      <td>190.449997</td>\n",
       "      <td>192.000000</td>\n",
       "      <td>174.324066</td>\n",
       "      <td>114793000</td>\n",
       "    </tr>\n",
       "    <tr>\n",
       "      <th>2016-02-22</th>\n",
       "      <td>193.869995</td>\n",
       "      <td>194.949997</td>\n",
       "      <td>193.789993</td>\n",
       "      <td>194.779999</td>\n",
       "      <td>176.848099</td>\n",
       "      <td>103640300</td>\n",
       "    </tr>\n",
       "  </tbody>\n",
       "</table>\n",
       "</div>"
      ],
      "text/plain": [
       "                  Open        High         Low       Close   Adj Close  \\\n",
       "Date                                                                     \n",
       "2016-02-16  188.770004  189.809998  187.630005  189.779999  172.308426   \n",
       "2016-02-17  191.160004  193.320007  191.009995  192.880005  175.123047   \n",
       "2016-02-18  193.199997  193.270004  191.720001  192.089996  174.405762   \n",
       "2016-02-19  191.169998  192.179993  190.449997  192.000000  174.324066   \n",
       "2016-02-22  193.869995  194.949997  193.789993  194.779999  176.848099   \n",
       "\n",
       "               Volume  \n",
       "Date                   \n",
       "2016-02-16  120250700  \n",
       "2016-02-17  136009500  \n",
       "2016-02-18  102343000  \n",
       "2016-02-19  114793000  \n",
       "2016-02-22  103640300  "
      ]
     },
     "execution_count": 2,
     "metadata": {},
     "output_type": "execute_result"
    }
   ],
   "source": [
    "Stock = 'SPY'\n",
    "data = yf.download(Stock, period=\"5y\")\n",
    "\n",
    "data.head()"
   ]
  },
  {
   "cell_type": "code",
   "execution_count": 3,
   "metadata": {},
   "outputs": [],
   "source": [
    "data = data.asfreq('D')"
   ]
  },
  {
   "cell_type": "code",
   "execution_count": 4,
   "metadata": {},
   "outputs": [
    {
     "data": {
      "text/html": [
       "<div>\n",
       "<style scoped>\n",
       "    .dataframe tbody tr th:only-of-type {\n",
       "        vertical-align: middle;\n",
       "    }\n",
       "\n",
       "    .dataframe tbody tr th {\n",
       "        vertical-align: top;\n",
       "    }\n",
       "\n",
       "    .dataframe thead th {\n",
       "        text-align: right;\n",
       "    }\n",
       "</style>\n",
       "<table border=\"1\" class=\"dataframe\">\n",
       "  <thead>\n",
       "    <tr style=\"text-align: right;\">\n",
       "      <th></th>\n",
       "      <th>Open</th>\n",
       "      <th>High</th>\n",
       "      <th>Low</th>\n",
       "      <th>Close</th>\n",
       "      <th>Adj Close</th>\n",
       "      <th>Volume</th>\n",
       "    </tr>\n",
       "    <tr>\n",
       "      <th>Date</th>\n",
       "      <th></th>\n",
       "      <th></th>\n",
       "      <th></th>\n",
       "      <th></th>\n",
       "      <th></th>\n",
       "      <th></th>\n",
       "    </tr>\n",
       "  </thead>\n",
       "  <tbody>\n",
       "    <tr>\n",
       "      <th>2016-02-16</th>\n",
       "      <td>188.770004</td>\n",
       "      <td>189.809998</td>\n",
       "      <td>187.630005</td>\n",
       "      <td>189.779999</td>\n",
       "      <td>172.308426</td>\n",
       "      <td>120250700.0</td>\n",
       "    </tr>\n",
       "    <tr>\n",
       "      <th>2016-02-17</th>\n",
       "      <td>191.160004</td>\n",
       "      <td>193.320007</td>\n",
       "      <td>191.009995</td>\n",
       "      <td>192.880005</td>\n",
       "      <td>175.123047</td>\n",
       "      <td>136009500.0</td>\n",
       "    </tr>\n",
       "    <tr>\n",
       "      <th>2016-02-18</th>\n",
       "      <td>193.199997</td>\n",
       "      <td>193.270004</td>\n",
       "      <td>191.720001</td>\n",
       "      <td>192.089996</td>\n",
       "      <td>174.405762</td>\n",
       "      <td>102343000.0</td>\n",
       "    </tr>\n",
       "    <tr>\n",
       "      <th>2016-02-19</th>\n",
       "      <td>191.169998</td>\n",
       "      <td>192.179993</td>\n",
       "      <td>190.449997</td>\n",
       "      <td>192.000000</td>\n",
       "      <td>174.324066</td>\n",
       "      <td>114793000.0</td>\n",
       "    </tr>\n",
       "    <tr>\n",
       "      <th>2016-02-20</th>\n",
       "      <td>NaN</td>\n",
       "      <td>NaN</td>\n",
       "      <td>NaN</td>\n",
       "      <td>NaN</td>\n",
       "      <td>NaN</td>\n",
       "      <td>NaN</td>\n",
       "    </tr>\n",
       "    <tr>\n",
       "      <th>2016-02-21</th>\n",
       "      <td>NaN</td>\n",
       "      <td>NaN</td>\n",
       "      <td>NaN</td>\n",
       "      <td>NaN</td>\n",
       "      <td>NaN</td>\n",
       "      <td>NaN</td>\n",
       "    </tr>\n",
       "    <tr>\n",
       "      <th>2016-02-22</th>\n",
       "      <td>193.869995</td>\n",
       "      <td>194.949997</td>\n",
       "      <td>193.789993</td>\n",
       "      <td>194.779999</td>\n",
       "      <td>176.848099</td>\n",
       "      <td>103640300.0</td>\n",
       "    </tr>\n",
       "    <tr>\n",
       "      <th>2016-02-23</th>\n",
       "      <td>194.000000</td>\n",
       "      <td>194.320007</td>\n",
       "      <td>192.179993</td>\n",
       "      <td>192.320007</td>\n",
       "      <td>174.614578</td>\n",
       "      <td>111455300.0</td>\n",
       "    </tr>\n",
       "    <tr>\n",
       "      <th>2016-02-24</th>\n",
       "      <td>190.630005</td>\n",
       "      <td>193.529999</td>\n",
       "      <td>189.320007</td>\n",
       "      <td>193.199997</td>\n",
       "      <td>175.413559</td>\n",
       "      <td>150812200.0</td>\n",
       "    </tr>\n",
       "    <tr>\n",
       "      <th>2016-02-25</th>\n",
       "      <td>193.729996</td>\n",
       "      <td>195.550003</td>\n",
       "      <td>192.830002</td>\n",
       "      <td>195.539993</td>\n",
       "      <td>177.538147</td>\n",
       "      <td>110728300.0</td>\n",
       "    </tr>\n",
       "  </tbody>\n",
       "</table>\n",
       "</div>"
      ],
      "text/plain": [
       "                  Open        High         Low       Close   Adj Close  \\\n",
       "Date                                                                     \n",
       "2016-02-16  188.770004  189.809998  187.630005  189.779999  172.308426   \n",
       "2016-02-17  191.160004  193.320007  191.009995  192.880005  175.123047   \n",
       "2016-02-18  193.199997  193.270004  191.720001  192.089996  174.405762   \n",
       "2016-02-19  191.169998  192.179993  190.449997  192.000000  174.324066   \n",
       "2016-02-20         NaN         NaN         NaN         NaN         NaN   \n",
       "2016-02-21         NaN         NaN         NaN         NaN         NaN   \n",
       "2016-02-22  193.869995  194.949997  193.789993  194.779999  176.848099   \n",
       "2016-02-23  194.000000  194.320007  192.179993  192.320007  174.614578   \n",
       "2016-02-24  190.630005  193.529999  189.320007  193.199997  175.413559   \n",
       "2016-02-25  193.729996  195.550003  192.830002  195.539993  177.538147   \n",
       "\n",
       "                 Volume  \n",
       "Date                     \n",
       "2016-02-16  120250700.0  \n",
       "2016-02-17  136009500.0  \n",
       "2016-02-18  102343000.0  \n",
       "2016-02-19  114793000.0  \n",
       "2016-02-20          NaN  \n",
       "2016-02-21          NaN  \n",
       "2016-02-22  103640300.0  \n",
       "2016-02-23  111455300.0  \n",
       "2016-02-24  150812200.0  \n",
       "2016-02-25  110728300.0  "
      ]
     },
     "execution_count": 4,
     "metadata": {},
     "output_type": "execute_result"
    }
   ],
   "source": [
    "data.head(10)"
   ]
  },
  {
   "cell_type": "code",
   "execution_count": 5,
   "metadata": {},
   "outputs": [],
   "source": [
    "data = data.ffill()"
   ]
  },
  {
   "cell_type": "code",
   "execution_count": 6,
   "metadata": {},
   "outputs": [
    {
     "data": {
      "text/html": [
       "<div>\n",
       "<style scoped>\n",
       "    .dataframe tbody tr th:only-of-type {\n",
       "        vertical-align: middle;\n",
       "    }\n",
       "\n",
       "    .dataframe tbody tr th {\n",
       "        vertical-align: top;\n",
       "    }\n",
       "\n",
       "    .dataframe thead th {\n",
       "        text-align: right;\n",
       "    }\n",
       "</style>\n",
       "<table border=\"1\" class=\"dataframe\">\n",
       "  <thead>\n",
       "    <tr style=\"text-align: right;\">\n",
       "      <th></th>\n",
       "      <th>Open</th>\n",
       "      <th>High</th>\n",
       "      <th>Low</th>\n",
       "      <th>Close</th>\n",
       "      <th>Adj Close</th>\n",
       "      <th>Volume</th>\n",
       "    </tr>\n",
       "    <tr>\n",
       "      <th>Date</th>\n",
       "      <th></th>\n",
       "      <th></th>\n",
       "      <th></th>\n",
       "      <th></th>\n",
       "      <th></th>\n",
       "      <th></th>\n",
       "    </tr>\n",
       "  </thead>\n",
       "  <tbody>\n",
       "    <tr>\n",
       "      <th>2016-02-16</th>\n",
       "      <td>188.770004</td>\n",
       "      <td>189.809998</td>\n",
       "      <td>187.630005</td>\n",
       "      <td>189.779999</td>\n",
       "      <td>172.308426</td>\n",
       "      <td>120250700.0</td>\n",
       "    </tr>\n",
       "    <tr>\n",
       "      <th>2016-02-17</th>\n",
       "      <td>191.160004</td>\n",
       "      <td>193.320007</td>\n",
       "      <td>191.009995</td>\n",
       "      <td>192.880005</td>\n",
       "      <td>175.123047</td>\n",
       "      <td>136009500.0</td>\n",
       "    </tr>\n",
       "    <tr>\n",
       "      <th>2016-02-18</th>\n",
       "      <td>193.199997</td>\n",
       "      <td>193.270004</td>\n",
       "      <td>191.720001</td>\n",
       "      <td>192.089996</td>\n",
       "      <td>174.405762</td>\n",
       "      <td>102343000.0</td>\n",
       "    </tr>\n",
       "    <tr>\n",
       "      <th>2016-02-19</th>\n",
       "      <td>191.169998</td>\n",
       "      <td>192.179993</td>\n",
       "      <td>190.449997</td>\n",
       "      <td>192.000000</td>\n",
       "      <td>174.324066</td>\n",
       "      <td>114793000.0</td>\n",
       "    </tr>\n",
       "    <tr>\n",
       "      <th>2016-02-20</th>\n",
       "      <td>191.169998</td>\n",
       "      <td>192.179993</td>\n",
       "      <td>190.449997</td>\n",
       "      <td>192.000000</td>\n",
       "      <td>174.324066</td>\n",
       "      <td>114793000.0</td>\n",
       "    </tr>\n",
       "    <tr>\n",
       "      <th>2016-02-21</th>\n",
       "      <td>191.169998</td>\n",
       "      <td>192.179993</td>\n",
       "      <td>190.449997</td>\n",
       "      <td>192.000000</td>\n",
       "      <td>174.324066</td>\n",
       "      <td>114793000.0</td>\n",
       "    </tr>\n",
       "    <tr>\n",
       "      <th>2016-02-22</th>\n",
       "      <td>193.869995</td>\n",
       "      <td>194.949997</td>\n",
       "      <td>193.789993</td>\n",
       "      <td>194.779999</td>\n",
       "      <td>176.848099</td>\n",
       "      <td>103640300.0</td>\n",
       "    </tr>\n",
       "    <tr>\n",
       "      <th>2016-02-23</th>\n",
       "      <td>194.000000</td>\n",
       "      <td>194.320007</td>\n",
       "      <td>192.179993</td>\n",
       "      <td>192.320007</td>\n",
       "      <td>174.614578</td>\n",
       "      <td>111455300.0</td>\n",
       "    </tr>\n",
       "    <tr>\n",
       "      <th>2016-02-24</th>\n",
       "      <td>190.630005</td>\n",
       "      <td>193.529999</td>\n",
       "      <td>189.320007</td>\n",
       "      <td>193.199997</td>\n",
       "      <td>175.413559</td>\n",
       "      <td>150812200.0</td>\n",
       "    </tr>\n",
       "    <tr>\n",
       "      <th>2016-02-25</th>\n",
       "      <td>193.729996</td>\n",
       "      <td>195.550003</td>\n",
       "      <td>192.830002</td>\n",
       "      <td>195.539993</td>\n",
       "      <td>177.538147</td>\n",
       "      <td>110728300.0</td>\n",
       "    </tr>\n",
       "  </tbody>\n",
       "</table>\n",
       "</div>"
      ],
      "text/plain": [
       "                  Open        High         Low       Close   Adj Close  \\\n",
       "Date                                                                     \n",
       "2016-02-16  188.770004  189.809998  187.630005  189.779999  172.308426   \n",
       "2016-02-17  191.160004  193.320007  191.009995  192.880005  175.123047   \n",
       "2016-02-18  193.199997  193.270004  191.720001  192.089996  174.405762   \n",
       "2016-02-19  191.169998  192.179993  190.449997  192.000000  174.324066   \n",
       "2016-02-20  191.169998  192.179993  190.449997  192.000000  174.324066   \n",
       "2016-02-21  191.169998  192.179993  190.449997  192.000000  174.324066   \n",
       "2016-02-22  193.869995  194.949997  193.789993  194.779999  176.848099   \n",
       "2016-02-23  194.000000  194.320007  192.179993  192.320007  174.614578   \n",
       "2016-02-24  190.630005  193.529999  189.320007  193.199997  175.413559   \n",
       "2016-02-25  193.729996  195.550003  192.830002  195.539993  177.538147   \n",
       "\n",
       "                 Volume  \n",
       "Date                     \n",
       "2016-02-16  120250700.0  \n",
       "2016-02-17  136009500.0  \n",
       "2016-02-18  102343000.0  \n",
       "2016-02-19  114793000.0  \n",
       "2016-02-20  114793000.0  \n",
       "2016-02-21  114793000.0  \n",
       "2016-02-22  103640300.0  \n",
       "2016-02-23  111455300.0  \n",
       "2016-02-24  150812200.0  \n",
       "2016-02-25  110728300.0  "
      ]
     },
     "execution_count": 6,
     "metadata": {},
     "output_type": "execute_result"
    }
   ],
   "source": [
    "data.head(10)"
   ]
  },
  {
   "cell_type": "code",
   "execution_count": 7,
   "metadata": {},
   "outputs": [
    {
     "data": {
      "text/plain": [
       "DatetimeIndex(['2016-02-16', '2016-02-17', '2016-02-18', '2016-02-19',\n",
       "               '2016-02-20', '2016-02-21', '2016-02-22', '2016-02-23',\n",
       "               '2016-02-24', '2016-02-25',\n",
       "               ...\n",
       "               '2021-02-03', '2021-02-04', '2021-02-05', '2021-02-06',\n",
       "               '2021-02-07', '2021-02-08', '2021-02-09', '2021-02-10',\n",
       "               '2021-02-11', '2021-02-12'],\n",
       "              dtype='datetime64[ns]', name='Date', length=1824, freq='D')"
      ]
     },
     "execution_count": 7,
     "metadata": {},
     "output_type": "execute_result"
    }
   ],
   "source": [
    "data.index"
   ]
  },
  {
   "cell_type": "markdown",
   "metadata": {},
   "source": [
    "## Automate the augmented Dickey-Fuller Test\n",
    "Writing a function that performs the augmented Dickey-Fuller Test."
   ]
  },
  {
   "cell_type": "code",
   "execution_count": 8,
   "metadata": {},
   "outputs": [],
   "source": [
    "from statsmodels.tsa.stattools import adfuller\n",
    "\n",
    "def adf_test(series,title=''):\n",
    "    \"\"\"\n",
    "    Pass in a time series and an optional title, returns an ADF report\n",
    "    \"\"\"\n",
    "    print(f'Augmented Dickey-Fuller Test: {title}')\n",
    "    result = adfuller(series.dropna(),autolag='AIC') # .dropna() handles differenced data\n",
    "    \n",
    "    labels = ['ADF test statistic','p-value','# lags used','# observations']\n",
    "    out = pd.Series(result[0:4],index=labels)\n",
    "\n",
    "    for key,val in result[4].items():\n",
    "        out[f'critical value ({key})']=val\n",
    "        \n",
    "    print(out.to_string())          # .to_string() removes the line \"dtype: float64\"\n",
    "    \n",
    "    if result[1] <= 0.05:\n",
    "        print(\"Strong evidence against the null hypothesis\")\n",
    "        print(\"Reject the null hypothesis\")\n",
    "        print(\"Data has no unit root and is stationary\")\n",
    "    else:\n",
    "        print(\"Weak evidence against the null hypothesis\")\n",
    "        print(\"Fail to reject the null hypothesis\")\n",
    "        print(\"Data has a unit root and is non-stationary\")"
   ]
  },
  {
   "cell_type": "code",
   "execution_count": 9,
   "metadata": {},
   "outputs": [
    {
     "data": {
      "image/png": "[encoded data removed]",
      "text/plain": [
       "<Figure size 864x360 with 1 Axes>"
      ]
     },
     "metadata": {
      "needs_background": "light"
     },
     "output_type": "display_data"
    }
   ],
   "source": [
    "data['Close'].plot(figsize=(12,5));"
   ]
  },
  {
   "cell_type": "code",
   "execution_count": 10,
   "metadata": {},
   "outputs": [
    {
     "name": "stdout",
     "output_type": "stream",
     "text": [
      "Augmented Dickey-Fuller Test: \n",
      "ADF test statistic        -0.391104\n",
      "p-value                    0.911573\n",
      "# lags used               23.000000\n",
      "# observations          1800.000000\n",
      "critical value (1%)       -3.433988\n",
      "critical value (5%)       -2.863147\n",
      "critical value (10%)      -2.567626\n",
      "Weak evidence against the null hypothesis\n",
      "Fail to reject the null hypothesis\n",
      "Data has a unit root and is non-stationary\n"
     ]
    }
   ],
   "source": [
    "adf_test(data['Close'])"
   ]
  },
  {
   "cell_type": "code",
   "execution_count": 11,
   "metadata": {},
   "outputs": [
    {
     "data": {
      "image/png": "[encoded data removed]",
      "text/plain": [
       "<Figure size 432x288 with 4 Axes>"
      ]
     },
     "metadata": {
      "needs_background": "light"
     },
     "output_type": "display_data"
    }
   ],
   "source": [
    "result = seasonal_decompose(data['Close'], model='additive')  # model='add' also works\n",
    "result.plot();"
   ]
  },
  {
   "cell_type": "code",
   "execution_count": 12,
   "metadata": {},
   "outputs": [
    {
     "data": {
      "image/png": "[encoded data removed]",
      "text/plain": [
       "<Figure size 432x288 with 1 Axes>"
      ]
     },
     "metadata": {
      "needs_background": "light"
     },
     "output_type": "display_data"
    }
   ],
   "source": [
    "result.seasonal[:7*5].plot();\n",
    "# There is 7-days seasonality, but it's just subtle. We don't have to use SARIMA model."
   ]
  },
  {
   "cell_type": "code",
   "execution_count": 13,
   "metadata": {},
   "outputs": [
    {
     "name": "stdout",
     "output_type": "stream",
     "text": [
      "Performing stepwise search to minimize aic\n",
      " ARIMA(0,1,0)(0,0,0)[0] intercept   : AIC=8820.982, Time=0.04 sec\n",
      " ARIMA(0,1,1)(0,0,0)[0] intercept   : AIC=8784.101, Time=0.16 sec\n",
      " ARIMA(0,1,0)(0,0,0)[0]             : AIC=8822.038, Time=0.03 sec\n",
      " ARIMA(0,1,2)(0,0,0)[0] intercept   : AIC=8764.620, Time=0.20 sec\n",
      " ARIMA(0,1,3)(0,0,0)[0] intercept   : AIC=8761.805, Time=0.27 sec\n",
      " ARIMA(0,1,3)(0,0,0)[0]             : AIC=8762.933, Time=0.10 sec\n",
      "\n",
      "Best model:  ARIMA(0,1,3)(0,0,0)[0] intercept\n",
      "Total fit time: 0.815 seconds\n"
     ]
    },
    {
     "data": {
      "text/html": [
       "<table class=\"simpletable\">\n",
       "<caption>SARIMAX Results</caption>\n",
       "<tr>\n",
       "  <th>Dep. Variable:</th>           <td>y</td>        <th>  No. Observations:  </th>   <td>1824</td>   \n",
       "</tr>\n",
       "<tr>\n",
       "  <th>Model:</th>           <td>SARIMAX(0, 1, 3)</td> <th>  Log Likelihood     </th> <td>-4375.902</td>\n",
       "</tr>\n",
       "<tr>\n",
       "  <th>Date:</th>            <td>Mon, 15 Feb 2021</td> <th>  AIC                </th> <td>8761.805</td> \n",
       "</tr>\n",
       "<tr>\n",
       "  <th>Time:</th>                <td>21:48:41</td>     <th>  BIC                </th> <td>8789.346</td> \n",
       "</tr>\n",
       "<tr>\n",
       "  <th>Sample:</th>                  <td>0</td>        <th>  HQIC               </th> <td>8771.965</td> \n",
       "</tr>\n",
       "<tr>\n",
       "  <th></th>                      <td> - 1824</td>     <th>                     </th>     <td> </td>    \n",
       "</tr>\n",
       "<tr>\n",
       "  <th>Covariance Type:</th>        <td>opg</td>       <th>                     </th>     <td> </td>    \n",
       "</tr>\n",
       "</table>\n",
       "<table class=\"simpletable\">\n",
       "<tr>\n",
       "      <td></td>         <th>coef</th>     <th>std err</th>      <th>z</th>      <th>P>|z|</th>  <th>[0.025</th>    <th>0.975]</th>  \n",
       "</tr>\n",
       "<tr>\n",
       "  <th>intercept</th> <td>    0.1110</td> <td>    0.068</td> <td>    1.625</td> <td> 0.104</td> <td>   -0.023</td> <td>    0.245</td>\n",
       "</tr>\n",
       "<tr>\n",
       "  <th>ma.L1</th>     <td>   -0.1552</td> <td>    0.010</td> <td>  -16.287</td> <td> 0.000</td> <td>   -0.174</td> <td>   -0.137</td>\n",
       "</tr>\n",
       "<tr>\n",
       "  <th>ma.L2</th>     <td>    0.1058</td> <td>    0.010</td> <td>   10.528</td> <td> 0.000</td> <td>    0.086</td> <td>    0.125</td>\n",
       "</tr>\n",
       "<tr>\n",
       "  <th>ma.L3</th>     <td>    0.0531</td> <td>    0.008</td> <td>    6.315</td> <td> 0.000</td> <td>    0.037</td> <td>    0.070</td>\n",
       "</tr>\n",
       "<tr>\n",
       "  <th>sigma2</th>    <td>    7.1196</td> <td>    0.070</td> <td>  101.434</td> <td> 0.000</td> <td>    6.982</td> <td>    7.257</td>\n",
       "</tr>\n",
       "</table>\n",
       "<table class=\"simpletable\">\n",
       "<tr>\n",
       "  <th>Ljung-Box (Q):</th>          <td>212.56</td> <th>  Jarque-Bera (JB):  </th> <td>55241.95</td>\n",
       "</tr>\n",
       "<tr>\n",
       "  <th>Prob(Q):</th>                 <td>0.00</td>  <th>  Prob(JB):          </th>   <td>0.00</td>  \n",
       "</tr>\n",
       "<tr>\n",
       "  <th>Heteroskedasticity (H):</th>  <td>13.49</td> <th>  Skew:              </th>   <td>-1.86</td> \n",
       "</tr>\n",
       "<tr>\n",
       "  <th>Prob(H) (two-sided):</th>     <td>0.00</td>  <th>  Kurtosis:          </th>   <td>29.71</td> \n",
       "</tr>\n",
       "</table><br/><br/>Warnings:<br/>[1] Covariance matrix calculated using the outer product of gradients (complex-step)."
      ],
      "text/plain": [
       "<class 'statsmodels.iolib.summary.Summary'>\n",
       "\"\"\"\n",
       "                               SARIMAX Results                                \n",
       "==============================================================================\n",
       "Dep. Variable:                      y   No. Observations:                 1824\n",
       "Model:               SARIMAX(0, 1, 3)   Log Likelihood               -4375.902\n",
       "Date:                Mon, 15 Feb 2021   AIC                           8761.805\n",
       "Time:                        21:48:41   BIC                           8789.346\n",
       "Sample:                             0   HQIC                          8771.965\n",
       "                               - 1824                                         \n",
       "Covariance Type:                  opg                                         \n",
       "==============================================================================\n",
       "                 coef    std err          z      P>|z|      [0.025      0.975]\n",
       "------------------------------------------------------------------------------\n",
       "intercept      0.1110      0.068      1.625      0.104      -0.023       0.245\n",
       "ma.L1         -0.1552      0.010    -16.287      0.000      -0.174      -0.137\n",
       "ma.L2          0.1058      0.010     10.528      0.000       0.086       0.125\n",
       "ma.L3          0.0531      0.008      6.315      0.000       0.037       0.070\n",
       "sigma2         7.1196      0.070    101.434      0.000       6.982       7.257\n",
       "===================================================================================\n",
       "Ljung-Box (Q):                      212.56   Jarque-Bera (JB):             55241.95\n",
       "Prob(Q):                              0.00   Prob(JB):                         0.00\n",
       "Heteroskedasticity (H):              13.49   Skew:                            -1.86\n",
       "Prob(H) (two-sided):                  0.00   Kurtosis:                        29.71\n",
       "===================================================================================\n",
       "\n",
       "Warnings:\n",
       "[1] Covariance matrix calculated using the outer product of gradients (complex-step).\n",
       "\"\"\""
      ]
     },
     "execution_count": 13,
     "metadata": {},
     "output_type": "execute_result"
    }
   ],
   "source": [
    "auto_arima(data['Close'], start_p=0, start_q=0, max_p=0, max_q=3, seasonal=False, trace=True).summary()"
   ]
  },
  {
   "cell_type": "markdown",
   "metadata": {},
   "source": [
    "### Split the data into train/test sets"
   ]
  },
  {
   "cell_type": "code",
   "execution_count": 14,
   "metadata": {},
   "outputs": [
    {
     "data": {
      "text/plain": [
       "1824"
      ]
     },
     "execution_count": 14,
     "metadata": {},
     "output_type": "execute_result"
    }
   ],
   "source": [
    "len(data)"
   ]
  },
  {
   "cell_type": "code",
   "execution_count": 15,
   "metadata": {},
   "outputs": [
    {
     "data": {
      "text/plain": [
       "1642"
      ]
     },
     "execution_count": 15,
     "metadata": {},
     "output_type": "execute_result"
    }
   ],
   "source": [
    "1824-7*26"
   ]
  },
  {
   "cell_type": "code",
   "execution_count": 16,
   "metadata": {},
   "outputs": [],
   "source": [
    "# Set one year for testing\n",
    "train = data.iloc[:1642]\n",
    "test = data.iloc[1642:]"
   ]
  },
  {
   "cell_type": "markdown",
   "metadata": {},
   "source": [
    "### Fit an ARIMA Model"
   ]
  },
  {
   "cell_type": "code",
   "execution_count": 17,
   "metadata": {},
   "outputs": [
    {
     "data": {
      "text/html": [
       "<table class=\"simpletable\">\n",
       "<caption>ARIMA Model Results</caption>\n",
       "<tr>\n",
       "  <th>Dep. Variable:</th>      <td>D.Close</td>     <th>  No. Observations:  </th>   <td>1641</td>   \n",
       "</tr>\n",
       "<tr>\n",
       "  <th>Model:</th>          <td>ARIMA(0, 1, 2)</td>  <th>  Log Likelihood     </th> <td>-3908.061</td>\n",
       "</tr>\n",
       "<tr>\n",
       "  <th>Method:</th>             <td>css-mle</td>     <th>  S.D. of innovations</th>   <td>2.618</td>  \n",
       "</tr>\n",
       "<tr>\n",
       "  <th>Date:</th>          <td>Mon, 15 Feb 2021</td> <th>  AIC                </th> <td>7824.121</td> \n",
       "</tr>\n",
       "<tr>\n",
       "  <th>Time:</th>              <td>21:48:41</td>     <th>  BIC                </th> <td>7845.733</td> \n",
       "</tr>\n",
       "<tr>\n",
       "  <th>Sample:</th>           <td>02-17-2016</td>    <th>  HQIC               </th> <td>7832.136</td> \n",
       "</tr>\n",
       "<tr>\n",
       "  <th></th>                 <td>- 08-14-2020</td>   <th>                     </th>     <td> </td>    \n",
       "</tr>\n",
       "</table>\n",
       "<table class=\"simpletable\">\n",
       "<tr>\n",
       "        <td></td>           <th>coef</th>     <th>std err</th>      <th>z</th>      <th>P>|z|</th>  <th>[0.025</th>    <th>0.975]</th>  \n",
       "</tr>\n",
       "<tr>\n",
       "  <th>const</th>         <td>    0.0895</td> <td>    0.060</td> <td>    1.492</td> <td> 0.136</td> <td>   -0.028</td> <td>    0.207</td>\n",
       "</tr>\n",
       "<tr>\n",
       "  <th>ma.L1.D.Close</th> <td>   -0.1719</td> <td>    0.025</td> <td>   -6.870</td> <td> 0.000</td> <td>   -0.221</td> <td>   -0.123</td>\n",
       "</tr>\n",
       "<tr>\n",
       "  <th>ma.L2.D.Close</th> <td>    0.0999</td> <td>    0.025</td> <td>    4.072</td> <td> 0.000</td> <td>    0.052</td> <td>    0.148</td>\n",
       "</tr>\n",
       "</table>\n",
       "<table class=\"simpletable\">\n",
       "<caption>Roots</caption>\n",
       "<tr>\n",
       "    <td></td>   <th>            Real</th>  <th>         Imaginary</th> <th>         Modulus</th>  <th>        Frequency</th>\n",
       "</tr>\n",
       "<tr>\n",
       "  <th>MA.1</th> <td>           0.8600</td> <td>          -3.0441j</td> <td>           3.1633</td> <td>          -0.2062</td>\n",
       "</tr>\n",
       "<tr>\n",
       "  <th>MA.2</th> <td>           0.8600</td> <td>          +3.0441j</td> <td>           3.1633</td> <td>           0.2062</td>\n",
       "</tr>\n",
       "</table>"
      ],
      "text/plain": [
       "<class 'statsmodels.iolib.summary.Summary'>\n",
       "\"\"\"\n",
       "                             ARIMA Model Results                              \n",
       "==============================================================================\n",
       "Dep. Variable:                D.Close   No. Observations:                 1641\n",
       "Model:                 ARIMA(0, 1, 2)   Log Likelihood               -3908.061\n",
       "Method:                       css-mle   S.D. of innovations              2.618\n",
       "Date:                Mon, 15 Feb 2021   AIC                           7824.121\n",
       "Time:                        21:48:41   BIC                           7845.733\n",
       "Sample:                    02-17-2016   HQIC                          7832.136\n",
       "                         - 08-14-2020                                         \n",
       "=================================================================================\n",
       "                    coef    std err          z      P>|z|      [0.025      0.975]\n",
       "---------------------------------------------------------------------------------\n",
       "const             0.0895      0.060      1.492      0.136      -0.028       0.207\n",
       "ma.L1.D.Close    -0.1719      0.025     -6.870      0.000      -0.221      -0.123\n",
       "ma.L2.D.Close     0.0999      0.025      4.072      0.000       0.052       0.148\n",
       "                                    Roots                                    \n",
       "=============================================================================\n",
       "                  Real          Imaginary           Modulus         Frequency\n",
       "-----------------------------------------------------------------------------\n",
       "MA.1            0.8600           -3.0441j            3.1633           -0.2062\n",
       "MA.2            0.8600           +3.0441j            3.1633            0.2062\n",
       "-----------------------------------------------------------------------------\n",
       "\"\"\""
      ]
     },
     "execution_count": 17,
     "metadata": {},
     "output_type": "execute_result"
    }
   ],
   "source": [
    "model = ARIMA(train['Close'],order=(0,1,2))\n",
    "results = model.fit()\n",
    "results.summary()"
   ]
  },
  {
   "cell_type": "code",
   "execution_count": 18,
   "metadata": {},
   "outputs": [],
   "source": [
    "# Obtain predicted values\n",
    "start = len(train)\n",
    "end = len(train)+len(test)-1\n",
    "predictions = results.predict(start=start, end=end, dynamic=False, typ='levels').rename('ARIMA(0,1,2) Predictions')"
   ]
  },
  {
   "cell_type": "code",
   "execution_count": 19,
   "metadata": {},
   "outputs": [
    {
     "name": "stdout",
     "output_type": "stream",
     "text": [
      "predicted=337.0298403, expected=336.8399963378906\n",
      "predicted=337.0758406, expected=336.8399963378906\n",
      "predicted=337.1653098, expected=337.9100036621094\n",
      "predicted=337.2547791, expected=338.6400146484375\n",
      "predicted=337.3442483, expected=337.2300109863281\n",
      "predicted=337.4337175, expected=338.2799987792969\n",
      "predicted=337.5231868, expected=339.4800109863281\n",
      "predicted=337.612656 , expected=339.4800109863281\n",
      "predicted=337.7021252, expected=339.4800109863281\n",
      "predicted=337.7915944, expected=342.9200134277344\n",
      "predicted=337.8810637, expected=344.1199951171875\n",
      "predicted=337.9705329, expected=347.57000732421875\n",
      "predicted=338.0600021, expected=348.3299865722656\n",
      "predicted=338.1494714, expected=350.5799865722656\n",
      "predicted=338.2389406, expected=350.5799865722656\n",
      "predicted=338.3284098, expected=350.5799865722656\n",
      "predicted=338.4178791, expected=349.30999755859375\n",
      "predicted=338.5073483, expected=352.6000061035156\n",
      "predicted=338.5968175, expected=357.70001220703125\n",
      "predicted=338.6862867, expected=345.3900146484375\n",
      "predicted=338.775756 , expected=342.57000732421875\n",
      "predicted=338.8652252, expected=342.57000732421875\n",
      "predicted=338.9546944, expected=342.57000732421875\n",
      "predicted=339.0441637, expected=342.57000732421875\n",
      "predicted=339.1336329, expected=333.2099914550781\n",
      "predicted=339.2231021, expected=339.7900085449219\n",
      "predicted=339.3125714, expected=333.8900146484375\n",
      "predicted=339.4020406, expected=334.05999755859375\n",
      "predicted=339.4915098, expected=334.05999755859375\n",
      "predicted=339.580979 , expected=334.05999755859375\n",
      "predicted=339.6704483, expected=338.4599914550781\n",
      "predicted=339.7599175, expected=340.1700134277344\n",
      "predicted=339.8493867, expected=338.82000732421875\n",
      "predicted=339.938856 , expected=335.8399963378906\n",
      "predicted=340.0283252, expected=330.6499938964844\n",
      "predicted=340.1177944, expected=330.6499938964844\n",
      "predicted=340.2072637, expected=330.6499938964844\n",
      "predicted=340.2967329, expected=326.9700012207031\n",
      "predicted=340.3862021, expected=330.29998779296875\n",
      "predicted=340.4756713, expected=322.6400146484375\n",
      "predicted=340.5651406, expected=323.5\n",
      "predicted=340.6546098, expected=328.7300109863281\n",
      "predicted=340.744079 , expected=328.7300109863281\n",
      "predicted=340.8335483, expected=328.7300109863281\n",
      "predicted=340.9230175, expected=334.19000244140625\n",
      "predicted=341.0124867, expected=332.3699951171875\n",
      "predicted=341.101956 , expected=334.8900146484375\n",
      "predicted=341.1914252, expected=337.0400085449219\n",
      "predicted=341.2808944, expected=333.8399963378906\n",
      "predicted=341.3703637, expected=333.8399963378906\n",
      "predicted=341.4598329, expected=333.8399963378906\n",
      "predicted=341.5493021, expected=339.760009765625\n",
      "predicted=341.6387713, expected=334.92999267578125\n",
      "predicted=341.7282406, expected=340.760009765625\n",
      "predicted=341.8177098, expected=343.7799987792969\n",
      "predicted=341.907179 , expected=346.8500061035156\n",
      "predicted=341.9966483, expected=346.8500061035156\n",
      "predicted=342.0861175, expected=346.8500061035156\n",
      "predicted=342.1755867, expected=352.42999267578125\n",
      "predicted=342.265056 , expected=350.1300048828125\n",
      "predicted=342.3545252, expected=347.92999267578125\n",
      "predicted=342.4439944, expected=347.5\n",
      "predicted=342.5334636, expected=347.2900085449219\n",
      "predicted=342.6229329, expected=347.2900085449219\n",
      "predicted=342.7124021, expected=347.2900085449219\n",
      "predicted=342.8018713, expected=342.010009765625\n",
      "predicted=342.8913406, expected=343.3800048828125\n",
      "predicted=342.9808098, expected=342.7300109863281\n",
      "predicted=343.070279 , expected=344.6099853515625\n",
      "predicted=343.1597483, expected=345.7799987792969\n",
      "predicted=343.2492175, expected=345.7799987792969\n",
      "predicted=343.3386867, expected=345.7799987792969\n",
      "predicted=343.4281559, expected=339.3900146484375\n",
      "predicted=343.5176252, expected=338.2200012207031\n",
      "predicted=343.6070944, expected=326.6600036621094\n",
      "predicted=343.6965636, expected=329.9800109863281\n",
      "predicted=343.7860329, expected=326.5400085449219\n",
      "predicted=343.8755021, expected=326.5400085449219\n",
      "predicted=343.9649713, expected=326.5400085449219\n",
      "predicted=344.0544406, expected=330.20001220703125\n",
      "predicted=344.1439098, expected=336.0299987792969\n",
      "predicted=344.233379 , expected=343.5400085449219\n",
      "predicted=344.3228482, expected=350.239990234375\n",
      "predicted=344.4123175, expected=350.1600036621094\n",
      "predicted=344.5017867, expected=350.1600036621094\n",
      "predicted=344.5912559, expected=350.1600036621094\n",
      "predicted=344.6807252, expected=354.55999755859375\n",
      "predicted=344.7701944, expected=354.0400085449219\n",
      "predicted=344.8596636, expected=356.6700134277344\n",
      "predicted=344.9491329, expected=353.2099914550781\n",
      "predicted=345.0386021, expected=358.1000061035156\n",
      "predicted=345.1280713, expected=358.1000061035156\n",
      "predicted=345.2175405, expected=358.1000061035156\n",
      "predicted=345.3070098, expected=362.57000732421875\n",
      "predicted=345.396479 , expected=360.6199951171875\n",
      "predicted=345.4859482, expected=356.2799987792969\n",
      "predicted=345.5754175, expected=357.7799987792969\n",
      "predicted=345.6648867, expected=355.3299865722656\n",
      "predicted=345.7543559, expected=355.3299865722656\n",
      "predicted=345.8438252, expected=355.3299865722656\n",
      "predicted=345.9332944, expected=357.4599914550781\n",
      "predicted=346.0227636, expected=363.2200012207031\n",
      "predicted=346.1122329, expected=362.6600036621094\n",
      "predicted=346.2017021, expected=362.6600036621094\n",
      "predicted=346.2911713, expected=363.6700134277344\n",
      "predicted=346.3806405, expected=363.6700134277344\n",
      "predicted=346.4701098, expected=363.6700134277344\n",
      "predicted=346.559579 , expected=362.05999755859375\n",
      "predicted=346.6490482, expected=366.0199890136719\n",
      "predicted=346.7385175, expected=366.7900085449219\n",
      "predicted=346.8279867, expected=366.69000244140625\n",
      "predicted=346.9174559, expected=369.8500061035156\n",
      "predicted=347.0069252, expected=369.8500061035156\n",
      "predicted=347.0963944, expected=369.8500061035156\n",
      "predicted=347.1858636, expected=369.0899963378906\n",
      "predicted=347.2753328, expected=370.1700134277344\n",
      "predicted=347.3648021, expected=366.8500061035156\n",
      "predicted=347.4542713, expected=366.7300109863281\n",
      "predicted=347.5437405, expected=366.29998779296875\n",
      "predicted=347.6332098, expected=366.29998779296875\n",
      "predicted=347.722679 , expected=366.29998779296875\n",
      "predicted=347.8121482, expected=364.6600036621094\n",
      "predicted=347.9016175, expected=369.5899963378906\n",
      "predicted=347.9910867, expected=370.1700134277344\n",
      "predicted=348.0805559, expected=372.239990234375\n",
      "predicted=348.1700251, expected=369.17999267578125\n",
      "predicted=348.2594944, expected=369.17999267578125\n",
      "predicted=348.3489636, expected=369.17999267578125\n",
      "predicted=348.4384328, expected=367.8599853515625\n",
      "predicted=348.5279021, expected=367.239990234375\n",
      "predicted=348.6173713, expected=367.57000732421875\n",
      "predicted=348.7068405, expected=369.0\n",
      "predicted=348.7963098, expected=369.0\n",
      "predicted=348.885779 , expected=369.0\n",
      "predicted=348.9752482, expected=369.0\n",
      "predicted=349.0647174, expected=372.1700134277344\n",
      "predicted=349.1541867, expected=371.4599914550781\n",
      "predicted=349.2436559, expected=371.989990234375\n",
      "predicted=349.3331251, expected=373.8800048828125\n",
      "predicted=349.4225944, expected=373.8800048828125\n",
      "predicted=349.5120636, expected=373.8800048828125\n",
      "predicted=349.6015328, expected=373.8800048828125\n",
      "predicted=349.6910021, expected=368.7900085449219\n",
      "predicted=349.7804713, expected=371.3299865722656\n",
      "predicted=349.8699405, expected=373.54998779296875\n",
      "predicted=349.9594097, expected=379.1000061035156\n",
      "predicted=350.048879 , expected=381.260009765625\n",
      "predicted=350.1383482, expected=381.260009765625\n",
      "predicted=350.2278174, expected=381.260009765625\n",
      "predicted=350.3172867, expected=378.69000244140625\n",
      "predicted=350.4067559, expected=378.7699890136719\n",
      "predicted=350.4962251, expected=379.7900085449219\n",
      "predicted=350.5856944, expected=378.4599914550781\n",
      "predicted=350.6751636, expected=375.70001220703125\n",
      "predicted=350.7646328, expected=375.70001220703125\n",
      "predicted=350.8541021, expected=375.70001220703125\n",
      "predicted=350.9435713, expected=375.70001220703125\n",
      "predicted=351.0330405, expected=378.6499938964844\n",
      "predicted=351.1225097, expected=383.8900146484375\n",
      "predicted=351.211979 , expected=384.239990234375\n",
      "predicted=351.3014482, expected=382.8800048828125\n",
      "predicted=351.3909174, expected=382.8800048828125\n",
      "predicted=351.4803867, expected=382.8800048828125\n",
      "predicted=351.5698559, expected=384.3900146484375\n",
      "predicted=351.6593251, expected=383.7900085449219\n",
      "predicted=351.7487944, expected=374.4100036621094\n",
      "predicted=351.8382636, expected=377.6300048828125\n",
      "predicted=351.9277328, expected=370.07000732421875\n",
      "predicted=352.017202 , expected=370.07000732421875\n",
      "predicted=352.1066713, expected=370.07000732421875\n",
      "predicted=352.1961405, expected=376.2300109863281\n",
      "predicted=352.2856097, expected=381.54998779296875\n",
      "predicted=352.375079 , expected=381.8500061035156\n",
      "predicted=352.4645482, expected=386.19000244140625\n",
      "predicted=352.5540174, expected=387.7099914550781\n",
      "predicted=352.6434867, expected=387.7099914550781\n",
      "predicted=352.7329559, expected=387.7099914550781\n",
      "predicted=352.8224251, expected=390.510009765625\n",
      "predicted=352.9118943, expected=390.25\n",
      "predicted=353.0013636, expected=390.0799865722656\n",
      "predicted=353.0908328, expected=390.7099914550781\n",
      "predicted=353.180302 , expected=392.6400146484375\n"
     ]
    }
   ],
   "source": [
    "# Compare predictions to expected values\n",
    "for i in range(len(predictions)):\n",
    "    print(f\"predicted={predictions[i]:<11.10}, expected={test['Close'][i]}\")"
   ]
  },
  {
   "cell_type": "code",
   "execution_count": 20,
   "metadata": {},
   "outputs": [
    {
     "data": {
      "image/png": "[encoded data removed]",
      "text/plain": [
       "<Figure size 864x432 with 1 Axes>"
      ]
     },
     "metadata": {
      "needs_background": "light"
     },
     "output_type": "display_data"
    }
   ],
   "source": [
    "# Plot predictions against known values\n",
    "title = 'Stock predictions'\n",
    "\n",
    "ax = test['Close'].plot(legend=True,figsize=(12,6),title=title)\n",
    "predictions.plot(legend=True)\n",
    "ax.autoscale(axis='x',tight=True)"
   ]
  },
  {
   "cell_type": "markdown",
   "metadata": {},
   "source": [
    "### Evaluate the Model"
   ]
  },
  {
   "cell_type": "code",
   "execution_count": 21,
   "metadata": {},
   "outputs": [
    {
     "name": "stdout",
     "output_type": "stream",
     "text": [
      "ARIMA(0,1,1) MSE Error: 332.9568763\n"
     ]
    }
   ],
   "source": [
    "from sklearn.metrics import mean_squared_error\n",
    "\n",
    "error = mean_squared_error(test['Close'], predictions)\n",
    "print(f'ARIMA(0,1,1) MSE Error: {error:11.10}')  "
   ]
  },
  {
   "cell_type": "code",
   "execution_count": 22,
   "metadata": {},
   "outputs": [
    {
     "name": "stdout",
     "output_type": "stream",
     "text": [
      "ARIMA(0,1,2) RMSE Error: 18.24710597\n"
     ]
    }
   ],
   "source": [
    "from statsmodels.tools.eval_measures import rmse\n",
    "\n",
    "error = rmse(test['Close'], predictions)\n",
    "print(f'ARIMA(0,1,2) RMSE Error: {error:11.10}')"
   ]
  },
  {
   "cell_type": "markdown",
   "metadata": {},
   "source": [
    "### Retrain the model on the full data, and forecast the future"
   ]
  },
  {
   "cell_type": "code",
   "execution_count": 23,
   "metadata": {},
   "outputs": [],
   "source": [
    "model = ARIMA(data['Close'], order=(0,1,2))\n",
    "results = model.fit()\n",
    "fcast = results.predict(len(data),len(data)+7*26,dynamic=False,typ='levels').rename('ARIMA(0,1,2) Forecast')"
   ]
  },
  {
   "cell_type": "code",
   "execution_count": 24,
   "metadata": {},
   "outputs": [
    {
     "data": {
      "image/png": "[encoded data removed]",
      "text/plain": [
       "<Figure size 864x432 with 1 Axes>"
      ]
     },
     "metadata": {
      "needs_background": "light"
     },
     "output_type": "display_data"
    }
   ],
   "source": [
    "# Plot predictions against known values\n",
    "title = 'Stock Price prediction with ARIMA model'\n",
    "\n",
    "ax = data['Close'].plot(legend=True,figsize=(12,6),title=title)\n",
    "fcast.plot(legend=True)\n",
    "ax.autoscale(axis='x',tight=True)"
   ]
  }
 ],
 "metadata": {
  "kernelspec": {
   "display_name": "Python 3",
   "language": "python",
   "name": "python3"
  },
  "language_info": {
   "codemirror_mode": {
    "name": "ipython",
    "version": 3
   },
   "file_extension": ".py",
   "mimetype": "text/x-python",
   "name": "python",
   "nbconvert_exporter": "python",
   "pygments_lexer": "ipython3",
   "version": "3.8.3"
  }
 },
 "nbformat": 4,
 "nbformat_minor": 4
}
