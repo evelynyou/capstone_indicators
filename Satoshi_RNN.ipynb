{
 "cells": [
  {
   "cell_type": "markdown",
   "metadata": {},
   "source": [
    "# Stock Price prediction with RNN"
   ]
  },
  {
   "cell_type": "code",
   "execution_count": 1,
   "metadata": {},
   "outputs": [],
   "source": [
    "import keras\n",
    "import matplotlib.pyplot as plt\n",
    "import pandas as pd\n",
    "import numpy as np\n",
    "\n",
    "%matplotlib inline\n",
    "\n",
    "import yfinance as yf"
   ]
  },
  {
   "cell_type": "markdown",
   "metadata": {},
   "source": [
    "### Getting data and clean it up"
   ]
  },
  {
   "cell_type": "code",
   "execution_count": 2,
   "metadata": {},
   "outputs": [
    {
     "name": "stdout",
     "output_type": "stream",
     "text": [
      "[*********************100%***********************]  1 of 1 completed\n"
     ]
    },
    {
     "data": {
      "text/html": [
       "<div>\n",
       "<style scoped>\n",
       "    .dataframe tbody tr th:only-of-type {\n",
       "        vertical-align: middle;\n",
       "    }\n",
       "\n",
       "    .dataframe tbody tr th {\n",
       "        vertical-align: top;\n",
       "    }\n",
       "\n",
       "    .dataframe thead th {\n",
       "        text-align: right;\n",
       "    }\n",
       "</style>\n",
       "<table border=\"1\" class=\"dataframe\">\n",
       "  <thead>\n",
       "    <tr style=\"text-align: right;\">\n",
       "      <th></th>\n",
       "      <th>Open</th>\n",
       "      <th>High</th>\n",
       "      <th>Low</th>\n",
       "      <th>Close</th>\n",
       "      <th>Adj Close</th>\n",
       "      <th>Volume</th>\n",
       "    </tr>\n",
       "    <tr>\n",
       "      <th>Date</th>\n",
       "      <th></th>\n",
       "      <th></th>\n",
       "      <th></th>\n",
       "      <th></th>\n",
       "      <th></th>\n",
       "      <th></th>\n",
       "    </tr>\n",
       "  </thead>\n",
       "  <tbody>\n",
       "    <tr>\n",
       "      <th>2016-02-16</th>\n",
       "      <td>188.770004</td>\n",
       "      <td>189.809998</td>\n",
       "      <td>187.630005</td>\n",
       "      <td>189.779999</td>\n",
       "      <td>172.308426</td>\n",
       "      <td>120250700</td>\n",
       "    </tr>\n",
       "    <tr>\n",
       "      <th>2016-02-17</th>\n",
       "      <td>191.160004</td>\n",
       "      <td>193.320007</td>\n",
       "      <td>191.009995</td>\n",
       "      <td>192.880005</td>\n",
       "      <td>175.123047</td>\n",
       "      <td>136009500</td>\n",
       "    </tr>\n",
       "    <tr>\n",
       "      <th>2016-02-18</th>\n",
       "      <td>193.199997</td>\n",
       "      <td>193.270004</td>\n",
       "      <td>191.720001</td>\n",
       "      <td>192.089996</td>\n",
       "      <td>174.405762</td>\n",
       "      <td>102343000</td>\n",
       "    </tr>\n",
       "    <tr>\n",
       "      <th>2016-02-19</th>\n",
       "      <td>191.169998</td>\n",
       "      <td>192.179993</td>\n",
       "      <td>190.449997</td>\n",
       "      <td>192.000000</td>\n",
       "      <td>174.324066</td>\n",
       "      <td>114793000</td>\n",
       "    </tr>\n",
       "    <tr>\n",
       "      <th>2016-02-22</th>\n",
       "      <td>193.869995</td>\n",
       "      <td>194.949997</td>\n",
       "      <td>193.789993</td>\n",
       "      <td>194.779999</td>\n",
       "      <td>176.848099</td>\n",
       "      <td>103640300</td>\n",
       "    </tr>\n",
       "  </tbody>\n",
       "</table>\n",
       "</div>"
      ],
      "text/plain": [
       "                  Open        High         Low       Close   Adj Close  \\\n",
       "Date                                                                     \n",
       "2016-02-16  188.770004  189.809998  187.630005  189.779999  172.308426   \n",
       "2016-02-17  191.160004  193.320007  191.009995  192.880005  175.123047   \n",
       "2016-02-18  193.199997  193.270004  191.720001  192.089996  174.405762   \n",
       "2016-02-19  191.169998  192.179993  190.449997  192.000000  174.324066   \n",
       "2016-02-22  193.869995  194.949997  193.789993  194.779999  176.848099   \n",
       "\n",
       "               Volume  \n",
       "Date                   \n",
       "2016-02-16  120250700  \n",
       "2016-02-17  136009500  \n",
       "2016-02-18  102343000  \n",
       "2016-02-19  114793000  \n",
       "2016-02-22  103640300  "
      ]
     },
     "execution_count": 2,
     "metadata": {},
     "output_type": "execute_result"
    }
   ],
   "source": [
    "Stock = 'SPY'\n",
    "data = yf.download(Stock, period=\"5y\")\n",
    "\n",
    "data.head()"
   ]
  },
  {
   "cell_type": "code",
   "execution_count": 3,
   "metadata": {},
   "outputs": [],
   "source": [
    "data = data.asfreq('D')"
   ]
  },
  {
   "cell_type": "code",
   "execution_count": 4,
   "metadata": {},
   "outputs": [
    {
     "data": {
      "text/html": [
       "<div>\n",
       "<style scoped>\n",
       "    .dataframe tbody tr th:only-of-type {\n",
       "        vertical-align: middle;\n",
       "    }\n",
       "\n",
       "    .dataframe tbody tr th {\n",
       "        vertical-align: top;\n",
       "    }\n",
       "\n",
       "    .dataframe thead th {\n",
       "        text-align: right;\n",
       "    }\n",
       "</style>\n",
       "<table border=\"1\" class=\"dataframe\">\n",
       "  <thead>\n",
       "    <tr style=\"text-align: right;\">\n",
       "      <th></th>\n",
       "      <th>Open</th>\n",
       "      <th>High</th>\n",
       "      <th>Low</th>\n",
       "      <th>Close</th>\n",
       "      <th>Adj Close</th>\n",
       "      <th>Volume</th>\n",
       "    </tr>\n",
       "    <tr>\n",
       "      <th>Date</th>\n",
       "      <th></th>\n",
       "      <th></th>\n",
       "      <th></th>\n",
       "      <th></th>\n",
       "      <th></th>\n",
       "      <th></th>\n",
       "    </tr>\n",
       "  </thead>\n",
       "  <tbody>\n",
       "    <tr>\n",
       "      <th>2016-02-16</th>\n",
       "      <td>188.770004</td>\n",
       "      <td>189.809998</td>\n",
       "      <td>187.630005</td>\n",
       "      <td>189.779999</td>\n",
       "      <td>172.308426</td>\n",
       "      <td>120250700.0</td>\n",
       "    </tr>\n",
       "    <tr>\n",
       "      <th>2016-02-17</th>\n",
       "      <td>191.160004</td>\n",
       "      <td>193.320007</td>\n",
       "      <td>191.009995</td>\n",
       "      <td>192.880005</td>\n",
       "      <td>175.123047</td>\n",
       "      <td>136009500.0</td>\n",
       "    </tr>\n",
       "    <tr>\n",
       "      <th>2016-02-18</th>\n",
       "      <td>193.199997</td>\n",
       "      <td>193.270004</td>\n",
       "      <td>191.720001</td>\n",
       "      <td>192.089996</td>\n",
       "      <td>174.405762</td>\n",
       "      <td>102343000.0</td>\n",
       "    </tr>\n",
       "    <tr>\n",
       "      <th>2016-02-19</th>\n",
       "      <td>191.169998</td>\n",
       "      <td>192.179993</td>\n",
       "      <td>190.449997</td>\n",
       "      <td>192.000000</td>\n",
       "      <td>174.324066</td>\n",
       "      <td>114793000.0</td>\n",
       "    </tr>\n",
       "    <tr>\n",
       "      <th>2016-02-20</th>\n",
       "      <td>NaN</td>\n",
       "      <td>NaN</td>\n",
       "      <td>NaN</td>\n",
       "      <td>NaN</td>\n",
       "      <td>NaN</td>\n",
       "      <td>NaN</td>\n",
       "    </tr>\n",
       "    <tr>\n",
       "      <th>2016-02-21</th>\n",
       "      <td>NaN</td>\n",
       "      <td>NaN</td>\n",
       "      <td>NaN</td>\n",
       "      <td>NaN</td>\n",
       "      <td>NaN</td>\n",
       "      <td>NaN</td>\n",
       "    </tr>\n",
       "    <tr>\n",
       "      <th>2016-02-22</th>\n",
       "      <td>193.869995</td>\n",
       "      <td>194.949997</td>\n",
       "      <td>193.789993</td>\n",
       "      <td>194.779999</td>\n",
       "      <td>176.848099</td>\n",
       "      <td>103640300.0</td>\n",
       "    </tr>\n",
       "    <tr>\n",
       "      <th>2016-02-23</th>\n",
       "      <td>194.000000</td>\n",
       "      <td>194.320007</td>\n",
       "      <td>192.179993</td>\n",
       "      <td>192.320007</td>\n",
       "      <td>174.614578</td>\n",
       "      <td>111455300.0</td>\n",
       "    </tr>\n",
       "    <tr>\n",
       "      <th>2016-02-24</th>\n",
       "      <td>190.630005</td>\n",
       "      <td>193.529999</td>\n",
       "      <td>189.320007</td>\n",
       "      <td>193.199997</td>\n",
       "      <td>175.413559</td>\n",
       "      <td>150812200.0</td>\n",
       "    </tr>\n",
       "    <tr>\n",
       "      <th>2016-02-25</th>\n",
       "      <td>193.729996</td>\n",
       "      <td>195.550003</td>\n",
       "      <td>192.830002</td>\n",
       "      <td>195.539993</td>\n",
       "      <td>177.538147</td>\n",
       "      <td>110728300.0</td>\n",
       "    </tr>\n",
       "  </tbody>\n",
       "</table>\n",
       "</div>"
      ],
      "text/plain": [
       "                  Open        High         Low       Close   Adj Close  \\\n",
       "Date                                                                     \n",
       "2016-02-16  188.770004  189.809998  187.630005  189.779999  172.308426   \n",
       "2016-02-17  191.160004  193.320007  191.009995  192.880005  175.123047   \n",
       "2016-02-18  193.199997  193.270004  191.720001  192.089996  174.405762   \n",
       "2016-02-19  191.169998  192.179993  190.449997  192.000000  174.324066   \n",
       "2016-02-20         NaN         NaN         NaN         NaN         NaN   \n",
       "2016-02-21         NaN         NaN         NaN         NaN         NaN   \n",
       "2016-02-22  193.869995  194.949997  193.789993  194.779999  176.848099   \n",
       "2016-02-23  194.000000  194.320007  192.179993  192.320007  174.614578   \n",
       "2016-02-24  190.630005  193.529999  189.320007  193.199997  175.413559   \n",
       "2016-02-25  193.729996  195.550003  192.830002  195.539993  177.538147   \n",
       "\n",
       "                 Volume  \n",
       "Date                     \n",
       "2016-02-16  120250700.0  \n",
       "2016-02-17  136009500.0  \n",
       "2016-02-18  102343000.0  \n",
       "2016-02-19  114793000.0  \n",
       "2016-02-20          NaN  \n",
       "2016-02-21          NaN  \n",
       "2016-02-22  103640300.0  \n",
       "2016-02-23  111455300.0  \n",
       "2016-02-24  150812200.0  \n",
       "2016-02-25  110728300.0  "
      ]
     },
     "execution_count": 4,
     "metadata": {},
     "output_type": "execute_result"
    }
   ],
   "source": [
    "data.head(10)"
   ]
  },
  {
   "cell_type": "code",
   "execution_count": 5,
   "metadata": {},
   "outputs": [],
   "source": [
    "data = data.ffill()"
   ]
  },
  {
   "cell_type": "code",
   "execution_count": 6,
   "metadata": {},
   "outputs": [
    {
     "data": {
      "text/html": [
       "<div>\n",
       "<style scoped>\n",
       "    .dataframe tbody tr th:only-of-type {\n",
       "        vertical-align: middle;\n",
       "    }\n",
       "\n",
       "    .dataframe tbody tr th {\n",
       "        vertical-align: top;\n",
       "    }\n",
       "\n",
       "    .dataframe thead th {\n",
       "        text-align: right;\n",
       "    }\n",
       "</style>\n",
       "<table border=\"1\" class=\"dataframe\">\n",
       "  <thead>\n",
       "    <tr style=\"text-align: right;\">\n",
       "      <th></th>\n",
       "      <th>Open</th>\n",
       "      <th>High</th>\n",
       "      <th>Low</th>\n",
       "      <th>Close</th>\n",
       "      <th>Adj Close</th>\n",
       "      <th>Volume</th>\n",
       "    </tr>\n",
       "    <tr>\n",
       "      <th>Date</th>\n",
       "      <th></th>\n",
       "      <th></th>\n",
       "      <th></th>\n",
       "      <th></th>\n",
       "      <th></th>\n",
       "      <th></th>\n",
       "    </tr>\n",
       "  </thead>\n",
       "  <tbody>\n",
       "    <tr>\n",
       "      <th>2016-02-16</th>\n",
       "      <td>188.770004</td>\n",
       "      <td>189.809998</td>\n",
       "      <td>187.630005</td>\n",
       "      <td>189.779999</td>\n",
       "      <td>172.308426</td>\n",
       "      <td>120250700.0</td>\n",
       "    </tr>\n",
       "    <tr>\n",
       "      <th>2016-02-17</th>\n",
       "      <td>191.160004</td>\n",
       "      <td>193.320007</td>\n",
       "      <td>191.009995</td>\n",
       "      <td>192.880005</td>\n",
       "      <td>175.123047</td>\n",
       "      <td>136009500.0</td>\n",
       "    </tr>\n",
       "    <tr>\n",
       "      <th>2016-02-18</th>\n",
       "      <td>193.199997</td>\n",
       "      <td>193.270004</td>\n",
       "      <td>191.720001</td>\n",
       "      <td>192.089996</td>\n",
       "      <td>174.405762</td>\n",
       "      <td>102343000.0</td>\n",
       "    </tr>\n",
       "    <tr>\n",
       "      <th>2016-02-19</th>\n",
       "      <td>191.169998</td>\n",
       "      <td>192.179993</td>\n",
       "      <td>190.449997</td>\n",
       "      <td>192.000000</td>\n",
       "      <td>174.324066</td>\n",
       "      <td>114793000.0</td>\n",
       "    </tr>\n",
       "    <tr>\n",
       "      <th>2016-02-20</th>\n",
       "      <td>191.169998</td>\n",
       "      <td>192.179993</td>\n",
       "      <td>190.449997</td>\n",
       "      <td>192.000000</td>\n",
       "      <td>174.324066</td>\n",
       "      <td>114793000.0</td>\n",
       "    </tr>\n",
       "    <tr>\n",
       "      <th>2016-02-21</th>\n",
       "      <td>191.169998</td>\n",
       "      <td>192.179993</td>\n",
       "      <td>190.449997</td>\n",
       "      <td>192.000000</td>\n",
       "      <td>174.324066</td>\n",
       "      <td>114793000.0</td>\n",
       "    </tr>\n",
       "    <tr>\n",
       "      <th>2016-02-22</th>\n",
       "      <td>193.869995</td>\n",
       "      <td>194.949997</td>\n",
       "      <td>193.789993</td>\n",
       "      <td>194.779999</td>\n",
       "      <td>176.848099</td>\n",
       "      <td>103640300.0</td>\n",
       "    </tr>\n",
       "    <tr>\n",
       "      <th>2016-02-23</th>\n",
       "      <td>194.000000</td>\n",
       "      <td>194.320007</td>\n",
       "      <td>192.179993</td>\n",
       "      <td>192.320007</td>\n",
       "      <td>174.614578</td>\n",
       "      <td>111455300.0</td>\n",
       "    </tr>\n",
       "    <tr>\n",
       "      <th>2016-02-24</th>\n",
       "      <td>190.630005</td>\n",
       "      <td>193.529999</td>\n",
       "      <td>189.320007</td>\n",
       "      <td>193.199997</td>\n",
       "      <td>175.413559</td>\n",
       "      <td>150812200.0</td>\n",
       "    </tr>\n",
       "    <tr>\n",
       "      <th>2016-02-25</th>\n",
       "      <td>193.729996</td>\n",
       "      <td>195.550003</td>\n",
       "      <td>192.830002</td>\n",
       "      <td>195.539993</td>\n",
       "      <td>177.538147</td>\n",
       "      <td>110728300.0</td>\n",
       "    </tr>\n",
       "  </tbody>\n",
       "</table>\n",
       "</div>"
      ],
      "text/plain": [
       "                  Open        High         Low       Close   Adj Close  \\\n",
       "Date                                                                     \n",
       "2016-02-16  188.770004  189.809998  187.630005  189.779999  172.308426   \n",
       "2016-02-17  191.160004  193.320007  191.009995  192.880005  175.123047   \n",
       "2016-02-18  193.199997  193.270004  191.720001  192.089996  174.405762   \n",
       "2016-02-19  191.169998  192.179993  190.449997  192.000000  174.324066   \n",
       "2016-02-20  191.169998  192.179993  190.449997  192.000000  174.324066   \n",
       "2016-02-21  191.169998  192.179993  190.449997  192.000000  174.324066   \n",
       "2016-02-22  193.869995  194.949997  193.789993  194.779999  176.848099   \n",
       "2016-02-23  194.000000  194.320007  192.179993  192.320007  174.614578   \n",
       "2016-02-24  190.630005  193.529999  189.320007  193.199997  175.413559   \n",
       "2016-02-25  193.729996  195.550003  192.830002  195.539993  177.538147   \n",
       "\n",
       "                 Volume  \n",
       "Date                     \n",
       "2016-02-16  120250700.0  \n",
       "2016-02-17  136009500.0  \n",
       "2016-02-18  102343000.0  \n",
       "2016-02-19  114793000.0  \n",
       "2016-02-20  114793000.0  \n",
       "2016-02-21  114793000.0  \n",
       "2016-02-22  103640300.0  \n",
       "2016-02-23  111455300.0  \n",
       "2016-02-24  150812200.0  \n",
       "2016-02-25  110728300.0  "
      ]
     },
     "execution_count": 6,
     "metadata": {},
     "output_type": "execute_result"
    }
   ],
   "source": [
    "data.head(10)"
   ]
  },
  {
   "cell_type": "code",
   "execution_count": 7,
   "metadata": {},
   "outputs": [
    {
     "data": {
      "text/plain": [
       "DatetimeIndex(['2016-02-16', '2016-02-17', '2016-02-18', '2016-02-19',\n",
       "               '2016-02-20', '2016-02-21', '2016-02-22', '2016-02-23',\n",
       "               '2016-02-24', '2016-02-25',\n",
       "               ...\n",
       "               '2021-02-03', '2021-02-04', '2021-02-05', '2021-02-06',\n",
       "               '2021-02-07', '2021-02-08', '2021-02-09', '2021-02-10',\n",
       "               '2021-02-11', '2021-02-12'],\n",
       "              dtype='datetime64[ns]', name='Date', length=1824, freq='D')"
      ]
     },
     "execution_count": 7,
     "metadata": {},
     "output_type": "execute_result"
    }
   ],
   "source": [
    "data.index"
   ]
  },
  {
   "cell_type": "markdown",
   "metadata": {},
   "source": [
    "### Split the data into train/test sets"
   ]
  },
  {
   "cell_type": "code",
   "execution_count": 8,
   "metadata": {},
   "outputs": [
    {
     "data": {
      "text/plain": [
       "1824"
      ]
     },
     "execution_count": 8,
     "metadata": {},
     "output_type": "execute_result"
    }
   ],
   "source": [
    "len(data)"
   ]
  },
  {
   "cell_type": "code",
   "execution_count": 9,
   "metadata": {},
   "outputs": [
    {
     "data": {
      "text/plain": [
       "1642"
      ]
     },
     "execution_count": 9,
     "metadata": {},
     "output_type": "execute_result"
    }
   ],
   "source": [
    "1824-7*26"
   ]
  },
  {
   "cell_type": "code",
   "execution_count": 10,
   "metadata": {},
   "outputs": [],
   "source": [
    "# Set one year for testing\n",
    "train = data.iloc[:1642][['Close']]\n",
    "test = data.iloc[1642:][['Close']]"
   ]
  },
  {
   "cell_type": "code",
   "execution_count": 11,
   "metadata": {},
   "outputs": [
    {
     "data": {
      "text/html": [
       "<div>\n",
       "<style scoped>\n",
       "    .dataframe tbody tr th:only-of-type {\n",
       "        vertical-align: middle;\n",
       "    }\n",
       "\n",
       "    .dataframe tbody tr th {\n",
       "        vertical-align: top;\n",
       "    }\n",
       "\n",
       "    .dataframe thead th {\n",
       "        text-align: right;\n",
       "    }\n",
       "</style>\n",
       "<table border=\"1\" class=\"dataframe\">\n",
       "  <thead>\n",
       "    <tr style=\"text-align: right;\">\n",
       "      <th></th>\n",
       "      <th>Close</th>\n",
       "    </tr>\n",
       "    <tr>\n",
       "      <th>Date</th>\n",
       "      <th></th>\n",
       "    </tr>\n",
       "  </thead>\n",
       "  <tbody>\n",
       "    <tr>\n",
       "      <th>2016-02-16</th>\n",
       "      <td>189.779999</td>\n",
       "    </tr>\n",
       "    <tr>\n",
       "      <th>2016-02-17</th>\n",
       "      <td>192.880005</td>\n",
       "    </tr>\n",
       "    <tr>\n",
       "      <th>2016-02-18</th>\n",
       "      <td>192.089996</td>\n",
       "    </tr>\n",
       "    <tr>\n",
       "      <th>2016-02-19</th>\n",
       "      <td>192.000000</td>\n",
       "    </tr>\n",
       "    <tr>\n",
       "      <th>2016-02-20</th>\n",
       "      <td>192.000000</td>\n",
       "    </tr>\n",
       "  </tbody>\n",
       "</table>\n",
       "</div>"
      ],
      "text/plain": [
       "                 Close\n",
       "Date                  \n",
       "2016-02-16  189.779999\n",
       "2016-02-17  192.880005\n",
       "2016-02-18  192.089996\n",
       "2016-02-19  192.000000\n",
       "2016-02-20  192.000000"
      ]
     },
     "execution_count": 11,
     "metadata": {},
     "output_type": "execute_result"
    }
   ],
   "source": [
    "train.head()"
   ]
  },
  {
   "cell_type": "code",
   "execution_count": 12,
   "metadata": {},
   "outputs": [
    {
     "data": {
      "text/html": [
       "<div>\n",
       "<style scoped>\n",
       "    .dataframe tbody tr th:only-of-type {\n",
       "        vertical-align: middle;\n",
       "    }\n",
       "\n",
       "    .dataframe tbody tr th {\n",
       "        vertical-align: top;\n",
       "    }\n",
       "\n",
       "    .dataframe thead th {\n",
       "        text-align: right;\n",
       "    }\n",
       "</style>\n",
       "<table border=\"1\" class=\"dataframe\">\n",
       "  <thead>\n",
       "    <tr style=\"text-align: right;\">\n",
       "      <th></th>\n",
       "      <th>Close</th>\n",
       "    </tr>\n",
       "    <tr>\n",
       "      <th>Date</th>\n",
       "      <th></th>\n",
       "    </tr>\n",
       "  </thead>\n",
       "  <tbody>\n",
       "    <tr>\n",
       "      <th>2020-08-15</th>\n",
       "      <td>336.839996</td>\n",
       "    </tr>\n",
       "    <tr>\n",
       "      <th>2020-08-16</th>\n",
       "      <td>336.839996</td>\n",
       "    </tr>\n",
       "    <tr>\n",
       "      <th>2020-08-17</th>\n",
       "      <td>337.910004</td>\n",
       "    </tr>\n",
       "    <tr>\n",
       "      <th>2020-08-18</th>\n",
       "      <td>338.640015</td>\n",
       "    </tr>\n",
       "    <tr>\n",
       "      <th>2020-08-19</th>\n",
       "      <td>337.230011</td>\n",
       "    </tr>\n",
       "  </tbody>\n",
       "</table>\n",
       "</div>"
      ],
      "text/plain": [
       "                 Close\n",
       "Date                  \n",
       "2020-08-15  336.839996\n",
       "2020-08-16  336.839996\n",
       "2020-08-17  337.910004\n",
       "2020-08-18  338.640015\n",
       "2020-08-19  337.230011"
      ]
     },
     "execution_count": 12,
     "metadata": {},
     "output_type": "execute_result"
    }
   ],
   "source": [
    "test.head()"
   ]
  },
  {
   "cell_type": "markdown",
   "metadata": {},
   "source": [
    "### Scale Data"
   ]
  },
  {
   "cell_type": "code",
   "execution_count": 13,
   "metadata": {},
   "outputs": [],
   "source": [
    "from sklearn.preprocessing import MinMaxScaler"
   ]
  },
  {
   "cell_type": "code",
   "execution_count": 14,
   "metadata": {},
   "outputs": [],
   "source": [
    "scaler = MinMaxScaler()"
   ]
  },
  {
   "cell_type": "code",
   "execution_count": 15,
   "metadata": {},
   "outputs": [
    {
     "data": {
      "text/plain": [
       "MinMaxScaler()"
      ]
     },
     "execution_count": 15,
     "metadata": {},
     "output_type": "execute_result"
    }
   ],
   "source": [
    "# WE ONLY FIT TO TRAININ DATA, OTHERWISE WE ARE CHEATING ASSUMING INFO ABOUT TEST SET\n",
    "scaler.fit(train)"
   ]
  },
  {
   "cell_type": "code",
   "execution_count": 16,
   "metadata": {},
   "outputs": [],
   "source": [
    "scaled_train = scaler.transform(train)\n",
    "scaled_test = scaler.transform(test)"
   ]
  },
  {
   "cell_type": "markdown",
   "metadata": {},
   "source": [
    "### Time Series Generator"
   ]
  },
  {
   "cell_type": "code",
   "execution_count": 17,
   "metadata": {},
   "outputs": [],
   "source": [
    "from keras.preprocessing.sequence import TimeseriesGenerator"
   ]
  },
  {
   "cell_type": "code",
   "execution_count": 18,
   "metadata": {},
   "outputs": [
    {
     "data": {
      "text/plain": [
       "array([[0.        ],\n",
       "       [0.02086703],\n",
       "       [0.01554926],\n",
       "       ...,\n",
       "       [0.99394188],\n",
       "       [0.98983569],\n",
       "       [0.98990307]])"
      ]
     },
     "execution_count": 18,
     "metadata": {},
     "output_type": "execute_result"
    }
   ],
   "source": [
    "scaled_train"
   ]
  },
  {
   "cell_type": "code",
   "execution_count": 19,
   "metadata": {},
   "outputs": [],
   "source": [
    "# Making a generator which uses the past 8 weeks\n",
    "n_input = 7*8\n",
    "generator = TimeseriesGenerator(scaled_train, scaled_train, length=n_input, batch_size=1)"
   ]
  },
  {
   "cell_type": "code",
   "execution_count": 20,
   "metadata": {},
   "outputs": [],
   "source": [
    "# What does the first batch look like?\n",
    "X,y = generator[0]"
   ]
  },
  {
   "cell_type": "code",
   "execution_count": 21,
   "metadata": {},
   "outputs": [
    {
     "name": "stdout",
     "output_type": "stream",
     "text": [
      "Given the Array: \n",
      "[0.         0.02086703 0.01554926 0.01494347 0.01494347 0.01494347\n",
      " 0.03365644 0.01709753 0.02302099 0.03877218 0.03574312 0.03574312\n",
      " 0.03574312 0.02544426 0.05607163 0.06206248 0.06731287 0.07168817\n",
      " 0.07168817 0.07168817 0.0727652  0.05802366 0.0646204  0.06569733\n",
      " 0.08737208 0.08737208 0.08737208 0.08562198 0.08340064 0.09127624\n",
      " 0.09995966 0.09827683 0.09827683 0.09827683 0.10022886 0.09948842\n",
      " 0.09040124 0.08979535 0.08979535 0.08979535 0.08979535 0.09060317\n",
      " 0.10325792 0.10931614 0.1059505  0.11537426 0.11537426 0.11537426\n",
      " 0.11086431 0.09699787 0.11200861 0.09538233 0.09908455 0.09908455\n",
      " 0.09908455 0.09585357]\n",
      "Predict this y: \n",
      " [[0.10864297]]\n"
     ]
    }
   ],
   "source": [
    "print(f'Given the Array: \\n{X.flatten()}')\n",
    "print(f'Predict this y: \\n {y}')"
   ]
  },
  {
   "cell_type": "markdown",
   "metadata": {},
   "source": [
    "### Create the Model"
   ]
  },
  {
   "cell_type": "code",
   "execution_count": 22,
   "metadata": {},
   "outputs": [],
   "source": [
    "from keras.models import Sequential\n",
    "from keras.layers import Dense\n",
    "from keras.layers import LSTM"
   ]
  },
  {
   "cell_type": "code",
   "execution_count": 23,
   "metadata": {},
   "outputs": [],
   "source": [
    "# define model\n",
    "n_features = 1\n",
    "\n",
    "model = Sequential()\n",
    "model.add(LSTM(8, activation='relu', input_shape=(n_input, n_features)))\n",
    "model.add(Dense(1))\n",
    "model.compile(optimizer='adam', loss='mse')"
   ]
  },
  {
   "cell_type": "code",
   "execution_count": 24,
   "metadata": {},
   "outputs": [
    {
     "name": "stdout",
     "output_type": "stream",
     "text": [
      "Model: \"sequential\"\n",
      "_________________________________________________________________\n",
      "Layer (type)                 Output Shape              Param #   \n",
      "=================================================================\n",
      "lstm (LSTM)                  (None, 8)                 320       \n",
      "_________________________________________________________________\n",
      "dense (Dense)                (None, 1)                 9         \n",
      "=================================================================\n",
      "Total params: 329\n",
      "Trainable params: 329\n",
      "Non-trainable params: 0\n",
      "_________________________________________________________________\n"
     ]
    }
   ],
   "source": [
    "model.summary()"
   ]
  },
  {
   "cell_type": "code",
   "execution_count": 25,
   "metadata": {},
   "outputs": [
    {
     "name": "stdout",
     "output_type": "stream",
     "text": [
      "Epoch 1/10\n",
      "1586/1586 [==============================] - 13s 8ms/step - loss: 0.0330\n",
      "Epoch 2/10\n",
      "1586/1586 [==============================] - 13s 8ms/step - loss: 9.2338e-04\n",
      "Epoch 3/10\n",
      "1586/1586 [==============================] - 16s 10ms/step - loss: 6.0100e-04\n",
      "Epoch 4/10\n",
      "1586/1586 [==============================] - 15s 9ms/step - loss: 6.1062e-04\n",
      "Epoch 5/10\n",
      "1586/1586 [==============================] - 16s 10ms/step - loss: 4.9031e-04\n",
      "Epoch 6/10\n",
      "1586/1586 [==============================] - 15s 9ms/step - loss: 4.5670e-04\n",
      "Epoch 7/10\n",
      "1586/1586 [==============================] - 15s 10ms/step - loss: 4.4021e-04\n",
      "Epoch 8/10\n",
      "1586/1586 [==============================] - 15s 10ms/step - loss: 4.0400e-04\n",
      "Epoch 9/10\n",
      "1586/1586 [==============================] - 16s 10ms/step - loss: 3.8703e-04\n",
      "Epoch 10/10\n",
      "1586/1586 [==============================] - 15s 10ms/step - loss: 4.3543e-04\n"
     ]
    },
    {
     "data": {
      "text/plain": [
       "<tensorflow.python.keras.callbacks.History at 0x25d5b57cc70>"
      ]
     },
     "execution_count": 25,
     "metadata": {},
     "output_type": "execute_result"
    }
   ],
   "source": [
    "# fit model\n",
    "#model.fit_generator(generator,epochs=2)\n",
    "model.fit(generator,epochs=10)"
   ]
  },
  {
   "cell_type": "code",
   "execution_count": 28,
   "metadata": {},
   "outputs": [
    {
     "data": {
      "text/plain": [
       "dict_keys(['loss'])"
      ]
     },
     "execution_count": 28,
     "metadata": {},
     "output_type": "execute_result"
    }
   ],
   "source": [
    "model.history.history.keys()"
   ]
  },
  {
   "cell_type": "code",
   "execution_count": 29,
   "metadata": {},
   "outputs": [
    {
     "data": {
      "text/plain": [
       "[<matplotlib.lines.Line2D at 0x25d5f3293d0>]"
      ]
     },
     "execution_count": 29,
     "metadata": {},
     "output_type": "execute_result"
    },
    {
     "data": {
      "image/png": "[encoded data removed]",
      "text/plain": [
       "<Figure size 432x288 with 1 Axes>"
      ]
     },
     "metadata": {
      "needs_background": "light"
     },
     "output_type": "display_data"
    }
   ],
   "source": [
    "loss_per_epoch = model.history.history['loss']\n",
    "plt.plot(range(len(loss_per_epoch)),loss_per_epoch)"
   ]
  },
  {
   "cell_type": "markdown",
   "metadata": {},
   "source": [
    "### Evaluate on Test Data"
   ]
  },
  {
   "cell_type": "code",
   "execution_count": 30,
   "metadata": {},
   "outputs": [],
   "source": [
    "first_eval_batch = scaled_train[-7*8:]"
   ]
  },
  {
   "cell_type": "code",
   "execution_count": 31,
   "metadata": {},
   "outputs": [
    {
     "data": {
      "text/plain": [
       "array([[0.8000809 ],\n",
       "       [0.8000809 ],\n",
       "       [0.81340871],\n",
       "       [0.8230344 ],\n",
       "       [0.76945342],\n",
       "       [0.79139748],\n",
       "       [0.74225896],\n",
       "       [0.74225896],\n",
       "       [0.74225896],\n",
       "       [0.77194396],\n",
       "       [0.79819594],\n",
       "       [0.81273554],\n",
       "       [0.82424619],\n",
       "       [0.82424619],\n",
       "       [0.82424619],\n",
       "       [0.82424619],\n",
       "       [0.85669084],\n",
       "       [0.8346796 ],\n",
       "       [0.85083465],\n",
       "       [0.83871842],\n",
       "       [0.86032579],\n",
       "       [0.86032579],\n",
       "       [0.86032579],\n",
       "       [0.84181475],\n",
       "       [0.86927852],\n",
       "       [0.88900114],\n",
       "       [0.88186599],\n",
       "       [0.88812604],\n",
       "       [0.88812604],\n",
       "       [0.88812604],\n",
       "       [0.90562743],\n",
       "       [0.91027203],\n",
       "       [0.92272475],\n",
       "       [0.89647277],\n",
       "       [0.88247178],\n",
       "       [0.88247178],\n",
       "       [0.88247178],\n",
       "       [0.89822297],\n",
       "       [0.88442391],\n",
       "       [0.91101238],\n",
       "       [0.90320406],\n",
       "       [0.92043614],\n",
       "       [0.92043614],\n",
       "       [0.92043614],\n",
       "       [0.93571629],\n",
       "       [0.94426495],\n",
       "       [0.95806401],\n",
       "       [0.97300747],\n",
       "       [0.97462312],\n",
       "       [0.97462312],\n",
       "       [0.97462312],\n",
       "       [0.98135441],\n",
       "       [0.96270861],\n",
       "       [0.99394188],\n",
       "       [0.98983569],\n",
       "       [0.98990307]])"
      ]
     },
     "execution_count": 31,
     "metadata": {},
     "output_type": "execute_result"
    }
   ],
   "source": [
    "first_eval_batch"
   ]
  },
  {
   "cell_type": "code",
   "execution_count": 32,
   "metadata": {},
   "outputs": [],
   "source": [
    "first_eval_batch = first_eval_batch.reshape((1, n_input, n_features))"
   ]
  },
  {
   "cell_type": "code",
   "execution_count": 33,
   "metadata": {},
   "outputs": [
    {
     "data": {
      "text/plain": [
       "array([[0.9755546]], dtype=float32)"
      ]
     },
     "execution_count": 33,
     "metadata": {},
     "output_type": "execute_result"
    }
   ],
   "source": [
    "model.predict(first_eval_batch)"
   ]
  },
  {
   "cell_type": "code",
   "execution_count": 34,
   "metadata": {},
   "outputs": [
    {
     "data": {
      "text/plain": [
       "array([0.98990307])"
      ]
     },
     "execution_count": 34,
     "metadata": {},
     "output_type": "execute_result"
    }
   ],
   "source": [
    "scaled_test[0]"
   ]
  },
  {
   "cell_type": "markdown",
   "metadata": {},
   "source": [
    "put this logic in a for loop to predict into the future for the entire test range."
   ]
  },
  {
   "cell_type": "code",
   "execution_count": 35,
   "metadata": {},
   "outputs": [],
   "source": [
    "first_eval_batch = scaled_train[-n_input:]\n",
    "current_batch = first_eval_batch.reshape((1, n_input, n_features))"
   ]
  },
  {
   "cell_type": "code",
   "execution_count": 36,
   "metadata": {},
   "outputs": [
    {
     "data": {
      "text/plain": [
       "(1, 56, 1)"
      ]
     },
     "execution_count": 36,
     "metadata": {},
     "output_type": "execute_result"
    }
   ],
   "source": [
    "current_batch.shape"
   ]
  },
  {
   "cell_type": "code",
   "execution_count": 37,
   "metadata": {},
   "outputs": [
    {
     "data": {
      "text/plain": [
       "array([[[0.8000809 ],\n",
       "        [0.8000809 ],\n",
       "        [0.81340871],\n",
       "        [0.8230344 ],\n",
       "        [0.76945342],\n",
       "        [0.79139748],\n",
       "        [0.74225896],\n",
       "        [0.74225896],\n",
       "        [0.74225896],\n",
       "        [0.77194396],\n",
       "        [0.79819594],\n",
       "        [0.81273554],\n",
       "        [0.82424619],\n",
       "        [0.82424619],\n",
       "        [0.82424619],\n",
       "        [0.82424619],\n",
       "        [0.85669084],\n",
       "        [0.8346796 ],\n",
       "        [0.85083465],\n",
       "        [0.83871842],\n",
       "        [0.86032579],\n",
       "        [0.86032579],\n",
       "        [0.86032579],\n",
       "        [0.84181475],\n",
       "        [0.86927852],\n",
       "        [0.88900114],\n",
       "        [0.88186599],\n",
       "        [0.88812604],\n",
       "        [0.88812604],\n",
       "        [0.88812604],\n",
       "        [0.90562743],\n",
       "        [0.91027203],\n",
       "        [0.92272475],\n",
       "        [0.89647277],\n",
       "        [0.88247178],\n",
       "        [0.88247178],\n",
       "        [0.88247178],\n",
       "        [0.89822297],\n",
       "        [0.88442391],\n",
       "        [0.91101238],\n",
       "        [0.90320406],\n",
       "        [0.92043614],\n",
       "        [0.92043614],\n",
       "        [0.92043614],\n",
       "        [0.93571629],\n",
       "        [0.94426495],\n",
       "        [0.95806401],\n",
       "        [0.97300747],\n",
       "        [0.97462312],\n",
       "        [0.97462312],\n",
       "        [0.97462312],\n",
       "        [0.98135441],\n",
       "        [0.96270861],\n",
       "        [0.99394188],\n",
       "        [0.98983569],\n",
       "        [0.98990307]]])"
      ]
     },
     "execution_count": 37,
     "metadata": {},
     "output_type": "execute_result"
    }
   ],
   "source": [
    "current_batch"
   ]
  },
  {
   "cell_type": "code",
   "execution_count": 38,
   "metadata": {},
   "outputs": [],
   "source": [
    "test_predictions = []\n",
    "\n",
    "first_eval_batch = scaled_train[-n_input:]\n",
    "current_batch = first_eval_batch.reshape((1, n_input, n_features))\n",
    "\n",
    "for i in range(len(test)):\n",
    "    \n",
    "    # get prediction 1 time stamp ahead ([0] is for grabbing just the number instead of [array])\n",
    "    current_pred = model.predict(current_batch)[0]\n",
    "    \n",
    "    # store prediction\n",
    "    test_predictions.append(current_pred) \n",
    "    \n",
    "    # update batch to now include prediction and drop first value\n",
    "    current_batch = np.append(current_batch[:,1:,:],[[current_pred]],axis=1)"
   ]
  },
  {
   "cell_type": "code",
   "execution_count": 39,
   "metadata": {},
   "outputs": [
    {
     "data": {
      "text/plain": [
       "[array([0.9755546], dtype=float32),\n",
       " array([0.96150804], dtype=float32),\n",
       " array([0.9450506], dtype=float32),\n",
       " array([0.9273195], dtype=float32),\n",
       " array([0.90831494], dtype=float32),\n",
       " array([0.888156], dtype=float32),\n",
       " array([0.86698836], dtype=float32),\n",
       " array([0.8449597], dtype=float32),\n",
       " array([0.8222131], dtype=float32),\n",
       " array([0.7988867], dtype=float32),\n",
       " array([0.7751141], dtype=float32),\n",
       " array([0.7510245], dtype=float32),\n",
       " array([0.7267416], dtype=float32),\n",
       " array([0.7023837], dtype=float32),\n",
       " array([0.6780617], dtype=float32),\n",
       " array([0.6538791], dtype=float32),\n",
       " array([0.62992996], dtype=float32),\n",
       " array([0.60629857], dtype=float32),\n",
       " array([0.5830588], dtype=float32),\n",
       " array([0.5602738], dtype=float32),\n",
       " array([0.5379958], dtype=float32),\n",
       " array([0.51626647], dtype=float32),\n",
       " array([0.4951174], dtype=float32),\n",
       " array([0.47457048], dtype=float32),\n",
       " array([0.45463893], dtype=float32),\n",
       " array([0.4353284], dtype=float32),\n",
       " array([0.41663727], dtype=float32),\n",
       " array([0.39855802], dtype=float32),\n",
       " array([0.38107806], dtype=float32),\n",
       " array([0.3641807], dtype=float32),\n",
       " array([0.347846], dtype=float32),\n",
       " array([0.3320515], dtype=float32),\n",
       " array([0.3167727], dtype=float32),\n",
       " array([0.3019843], dtype=float32),\n",
       " array([0.28765985], dtype=float32),\n",
       " array([0.27377287], dtype=float32),\n",
       " array([0.2602971], dtype=float32),\n",
       " array([0.24720639], dtype=float32),\n",
       " array([0.23447546], dtype=float32),\n",
       " array([0.22207984], dtype=float32),\n",
       " array([0.20999596], dtype=float32),\n",
       " array([0.19820118], dtype=float32),\n",
       " array([0.18667418], dtype=float32),\n",
       " array([0.17539462], dtype=float32),\n",
       " array([0.16434333], dtype=float32),\n",
       " array([0.15350226], dtype=float32),\n",
       " array([0.14285445], dtype=float32),\n",
       " array([0.13237976], dtype=float32),\n",
       " array([0.12205665], dtype=float32),\n",
       " array([0.11188948], dtype=float32),\n",
       " array([0.10273567], dtype=float32),\n",
       " array([0.09449898], dtype=float32),\n",
       " array([0.08706024], dtype=float32),\n",
       " array([0.08031411], dtype=float32),\n",
       " array([0.07417089], dtype=float32),\n",
       " array([0.0685567], dtype=float32),\n",
       " array([0.06341061], dtype=float32),\n",
       " array([0.05868231], dtype=float32),\n",
       " array([0.05432953], dtype=float32),\n",
       " array([0.05031625], dtype=float32),\n",
       " array([0.04661122], dtype=float32),\n",
       " array([0.04318718], dtype=float32),\n",
       " array([0.04001971], dtype=float32),\n",
       " array([0.03708719], dtype=float32),\n",
       " array([0.03437003], dtype=float32),\n",
       " array([0.03185053], dtype=float32),\n",
       " array([0.02951259], dtype=float32),\n",
       " array([0.02734166], dtype=float32),\n",
       " array([0.02532436], dtype=float32),\n",
       " array([0.02344862], dtype=float32),\n",
       " array([0.02170327], dtype=float32),\n",
       " array([0.02007823], dtype=float32),\n",
       " array([0.01856425], dtype=float32),\n",
       " array([0.0171529], dtype=float32),\n",
       " array([0.01583641], dtype=float32),\n",
       " array([0.01460771], dtype=float32),\n",
       " array([0.01346034], dtype=float32),\n",
       " array([0.0123883], dtype=float32),\n",
       " array([0.01138618], dtype=float32),\n",
       " array([0.01044899], dtype=float32),\n",
       " array([0.00957211], dtype=float32),\n",
       " array([0.00875131], dtype=float32),\n",
       " array([0.00798268], dtype=float32),\n",
       " array([0.00726263], dtype=float32),\n",
       " array([0.00658785], dtype=float32),\n",
       " array([0.00595527], dtype=float32),\n",
       " array([0.00536212], dtype=float32),\n",
       " array([0.00480568], dtype=float32),\n",
       " array([0.00428361], dtype=float32),\n",
       " array([0.00379363], dtype=float32),\n",
       " array([0.00333368], dtype=float32),\n",
       " array([0.00290178], dtype=float32),\n",
       " array([0.00249618], dtype=float32),\n",
       " array([0.00211514], dtype=float32),\n",
       " array([0.00175716], dtype=float32),\n",
       " array([0.00142076], dtype=float32),\n",
       " array([0.00110462], dtype=float32),\n",
       " array([0.00080743], dtype=float32),\n",
       " array([0.00052804], dtype=float32),\n",
       " array([0.00026534], dtype=float32),\n",
       " array([1.8328428e-05], dtype=float32),\n",
       " array([-0.00021397], dtype=float32),\n",
       " array([-0.00043247], dtype=float32),\n",
       " array([-0.00063801], dtype=float32),\n",
       " array([-0.00083137], dtype=float32),\n",
       " array([-0.00101332], dtype=float32),\n",
       " array([-0.00118452], dtype=float32),\n",
       " array([-0.00134557], dtype=float32),\n",
       " array([-0.00149717], dtype=float32),\n",
       " array([-0.00163981], dtype=float32),\n",
       " array([-0.00177409], dtype=float32),\n",
       " array([-0.0019005], dtype=float32),\n",
       " array([-0.00201944], dtype=float32),\n",
       " array([-0.00213142], dtype=float32),\n",
       " array([-0.00223681], dtype=float32),\n",
       " array([-0.00233607], dtype=float32),\n",
       " array([-0.00242947], dtype=float32),\n",
       " array([-0.00251742], dtype=float32),\n",
       " array([-0.00260025], dtype=float32),\n",
       " array([-0.00267821], dtype=float32),\n",
       " array([-0.00275163], dtype=float32),\n",
       " array([-0.00282075], dtype=float32),\n",
       " array([-0.00288587], dtype=float32),\n",
       " array([-0.00294719], dtype=float32),\n",
       " array([-0.00300491], dtype=float32),\n",
       " array([-0.00305926], dtype=float32),\n",
       " array([-0.00311045], dtype=float32),\n",
       " array([-0.00315865], dtype=float32),\n",
       " array([-0.00320404], dtype=float32),\n",
       " array([-0.00324678], dtype=float32),\n",
       " array([-0.00328706], dtype=float32),\n",
       " array([-0.00332499], dtype=float32),\n",
       " array([-0.00336071], dtype=float32),\n",
       " array([-0.00339437], dtype=float32),\n",
       " array([-0.00342606], dtype=float32),\n",
       " array([-0.00345589], dtype=float32),\n",
       " array([-0.00348399], dtype=float32),\n",
       " array([-0.00351047], dtype=float32),\n",
       " array([-0.00353541], dtype=float32),\n",
       " array([-0.00355887], dtype=float32),\n",
       " array([-0.00358102], dtype=float32),\n",
       " array([-0.00360181], dtype=float32),\n",
       " array([-0.00362144], dtype=float32),\n",
       " array([-0.00363994], dtype=float32),\n",
       " array([-0.00365734], dtype=float32),\n",
       " array([-0.00367375], dtype=float32),\n",
       " array([-0.00368918], dtype=float32),\n",
       " array([-0.00370375], dtype=float32),\n",
       " array([-0.00371744], dtype=float32),\n",
       " array([-0.00373035], dtype=float32),\n",
       " array([-0.00374249], dtype=float32),\n",
       " array([-0.00375394], dtype=float32),\n",
       " array([-0.00376474], dtype=float32),\n",
       " array([-0.00377489], dtype=float32),\n",
       " array([-0.00378446], dtype=float32),\n",
       " array([-0.00379347], dtype=float32),\n",
       " array([-0.00380196], dtype=float32),\n",
       " array([-0.00380995], dtype=float32),\n",
       " array([-0.00381752], dtype=float32),\n",
       " array([-0.0038246], dtype=float32),\n",
       " array([-0.00383126], dtype=float32),\n",
       " array([-0.00383759], dtype=float32),\n",
       " array([-0.00384355], dtype=float32),\n",
       " array([-0.00384911], dtype=float32),\n",
       " array([-0.00385436], dtype=float32),\n",
       " array([-0.00385933], dtype=float32),\n",
       " array([-0.00386398], dtype=float32),\n",
       " array([-0.00386839], dtype=float32),\n",
       " array([-0.00387254], dtype=float32),\n",
       " array([-0.00387643], dtype=float32),\n",
       " array([-0.00388012], dtype=float32),\n",
       " array([-0.00388358], dtype=float32),\n",
       " array([-0.00388686], dtype=float32),\n",
       " array([-0.00388995], dtype=float32),\n",
       " array([-0.00389286], dtype=float32),\n",
       " array([-0.0038956], dtype=float32),\n",
       " array([-0.00389817], dtype=float32),\n",
       " array([-0.0039006], dtype=float32),\n",
       " array([-0.00390285], dtype=float32),\n",
       " array([-0.00390502], dtype=float32),\n",
       " array([-0.00390705], dtype=float32),\n",
       " array([-0.00390895], dtype=float32)]"
      ]
     },
     "execution_count": 39,
     "metadata": {},
     "output_type": "execute_result"
    }
   ],
   "source": [
    "test_predictions"
   ]
  },
  {
   "cell_type": "code",
   "execution_count": 40,
   "metadata": {},
   "outputs": [
    {
     "data": {
      "text/plain": [
       "array([[0.98990307],\n",
       "       [0.98990307],\n",
       "       [0.9971056 ],\n",
       "       [1.00201951],\n",
       "       [0.99252837],\n",
       "       [0.99959614],\n",
       "       [1.00767377],\n",
       "       [1.00767377],\n",
       "       [1.00767377],\n",
       "       [1.03082941],\n",
       "       [1.03890683],\n",
       "       [1.06212985],\n",
       "       [1.06724549],\n",
       "       [1.08239089],\n",
       "       [1.08239089],\n",
       "       [1.08239089],\n",
       "       [1.07384223],\n",
       "       [1.09598822],\n",
       "       [1.13031783],\n",
       "       [1.0474557 ],\n",
       "       [1.02847342],\n",
       "       [1.02847342],\n",
       "       [1.02847342],\n",
       "       [1.02847342],\n",
       "       [0.96546846],\n",
       "       [1.00976045],\n",
       "       [0.9700459 ],\n",
       "       [0.9711901 ],\n",
       "       [0.9711901 ],\n",
       "       [0.9711901 ],\n",
       "       [1.00080772],\n",
       "       [1.01231837],\n",
       "       [1.00323109],\n",
       "       [0.98317178],\n",
       "       [0.94823639],\n",
       "       [0.94823639],\n",
       "       [0.94823639],\n",
       "       [0.9234653 ],\n",
       "       [0.94588039],\n",
       "       [0.89431892],\n",
       "       [0.90010772],\n",
       "       [0.93531243],\n",
       "       [0.93531243],\n",
       "       [0.93531243],\n",
       "       [0.9720652 ],\n",
       "       [0.95981421],\n",
       "       [0.97677718],\n",
       "       [0.99124941],\n",
       "       [0.96970921],\n",
       "       [0.96970921],\n",
       "       [0.96970921],\n",
       "       [1.00955852],\n",
       "       [0.97704629],\n",
       "       [1.01628981],\n",
       "       [1.03661822],\n",
       "       [1.05728332],\n",
       "       [1.05728332],\n",
       "       [1.05728332],\n",
       "       [1.09484381],\n",
       "       [1.07936193],\n",
       "       [1.06455302],\n",
       "       [1.06165861],\n",
       "       [1.0602451 ],\n",
       "       [1.0602451 ],\n",
       "       [1.0602451 ],\n",
       "       [1.02470391],\n",
       "       [1.03392574],\n",
       "       [1.02955045],\n",
       "       [1.0422051 ],\n",
       "       [1.05008079],\n",
       "       [1.05008079],\n",
       "       [1.05008079],\n",
       "       [1.00706797],\n",
       "       [0.99919228],\n",
       "       [0.92137862],\n",
       "       [0.94372654],\n",
       "       [0.92057089],\n",
       "       [0.92057089],\n",
       "       [0.92057089],\n",
       "       [0.94520743],\n",
       "       [0.98445074],\n",
       "       [1.03500278],\n",
       "       [1.08010228],\n",
       "       [1.07956386],\n",
       "       [1.07956386],\n",
       "       [1.07956386],\n",
       "       [1.10918149],\n",
       "       [1.10568129],\n",
       "       [1.12338461],\n",
       "       [1.10009421],\n",
       "       [1.1330103 ],\n",
       "       [1.1330103 ],\n",
       "       [1.1330103 ],\n",
       "       [1.16309916],\n",
       "       [1.14997307],\n",
       "       [1.12075931],\n",
       "       [1.13085624],\n",
       "       [1.1143645 ],\n",
       "       [1.1143645 ],\n",
       "       [1.1143645 ],\n",
       "       [1.12870218],\n",
       "       [1.16747446],\n",
       "       [1.16370495],\n",
       "       [1.16370495],\n",
       "       [1.17050362],\n",
       "       [1.17050362],\n",
       "       [1.17050362],\n",
       "       [1.15966614],\n",
       "       [1.18632198],\n",
       "       [1.1915052 ],\n",
       "       [1.19083203],\n",
       "       [1.21210292],\n",
       "       [1.21210292],\n",
       "       [1.21210292],\n",
       "       [1.20698708],\n",
       "       [1.21425698],\n",
       "       [1.19190906],\n",
       "       [1.19110134],\n",
       "       [1.18820673],\n",
       "       [1.18820673],\n",
       "       [1.18820673],\n",
       "       [1.17716753],\n",
       "       [1.21035272],\n",
       "       [1.21425698],\n",
       "       [1.22819059],\n",
       "       [1.20759287],\n",
       "       [1.20759287],\n",
       "       [1.20759287],\n",
       "       [1.19870752],\n",
       "       [1.19453416],\n",
       "       [1.1967556 ],\n",
       "       [1.20638129],\n",
       "       [1.20638129],\n",
       "       [1.20638129],\n",
       "       [1.20638129],\n",
       "       [1.22771956],\n",
       "       [1.2229402 ],\n",
       "       [1.22650777],\n",
       "       [1.23923   ],\n",
       "       [1.23923   ],\n",
       "       [1.23923   ],\n",
       "       [1.23923   ],\n",
       "       [1.20496778],\n",
       "       [1.2220651 ],\n",
       "       [1.23700856],\n",
       "       [1.27436733],\n",
       "       [1.28890693],\n",
       "       [1.28890693],\n",
       "       [1.28890693],\n",
       "       [1.27160748],\n",
       "       [1.27214589],\n",
       "       [1.27901193],\n",
       "       [1.27005921],\n",
       "       [1.25148099],\n",
       "       [1.25148099],\n",
       "       [1.25148099],\n",
       "       [1.25148099],\n",
       "       [1.27133817],\n",
       "       [1.30661025],\n",
       "       [1.30896604],\n",
       "       [1.29981159],\n",
       "       [1.29981159],\n",
       "       [1.29981159],\n",
       "       [1.3099759 ],\n",
       "       [1.30593708],\n",
       "       [1.24279758],\n",
       "       [1.26447233],\n",
       "       [1.21358381],\n",
       "       [1.21358381],\n",
       "       [1.21358381],\n",
       "       [1.25504857],\n",
       "       [1.29085886],\n",
       "       [1.29287837],\n",
       "       [1.32209213],\n",
       "       [1.33232361],\n",
       "       [1.33232361],\n",
       "       [1.33232361],\n",
       "       [1.35117134],\n",
       "       [1.34942114],\n",
       "       [1.34827673],\n",
       "       [1.35251747],\n",
       "       [1.36550901]])"
      ]
     },
     "execution_count": 40,
     "metadata": {},
     "output_type": "execute_result"
    }
   ],
   "source": [
    "scaled_test"
   ]
  },
  {
   "cell_type": "markdown",
   "metadata": {},
   "source": [
    "### Inverse Transformations and Compare"
   ]
  },
  {
   "cell_type": "code",
   "execution_count": 41,
   "metadata": {},
   "outputs": [],
   "source": [
    "true_predictions = scaler.inverse_transform(test_predictions)"
   ]
  },
  {
   "cell_type": "code",
   "execution_count": 42,
   "metadata": {},
   "outputs": [
    {
     "data": {
      "text/plain": [
       "array([[334.70838561],\n",
       "       [332.62163021],\n",
       "       [330.17671319],\n",
       "       [327.5425854 ],\n",
       "       [324.71926454],\n",
       "       [321.7244515 ],\n",
       "       [318.57978756],\n",
       "       [315.30720622],\n",
       "       [311.92797688],\n",
       "       [308.46260741],\n",
       "       [304.93095041],\n",
       "       [301.35219438],\n",
       "       [297.74473088],\n",
       "       [294.1261191 ],\n",
       "       [290.5128468 ],\n",
       "       [286.92027718],\n",
       "       [283.36239207],\n",
       "       [279.85171224],\n",
       "       [276.39920889],\n",
       "       [273.01427702],\n",
       "       [269.70465578],\n",
       "       [266.47654359],\n",
       "       [263.33463794],\n",
       "       [260.28218857],\n",
       "       [257.32115684],\n",
       "       [254.45238396],\n",
       "       [251.67563084],\n",
       "       [248.98977735],\n",
       "       [246.3929551 ],\n",
       "       [243.88268475],\n",
       "       [241.4559999 ],\n",
       "       [239.1095667 ],\n",
       "       [236.83975022],\n",
       "       [234.64278716],\n",
       "       [232.51474594],\n",
       "       [230.45169501],\n",
       "       [228.44973381],\n",
       "       [226.50497946],\n",
       "       [224.61367308],\n",
       "       [222.77217976],\n",
       "       [220.97699738],\n",
       "       [219.22476552],\n",
       "       [217.51231415],\n",
       "       [215.83662376],\n",
       "       [214.19484308],\n",
       "       [212.58429351],\n",
       "       [211.00245584],\n",
       "       [209.44633492],\n",
       "       [207.91273413],\n",
       "       [206.40229988],\n",
       "       [205.04240943],\n",
       "       [203.81876658],\n",
       "       [202.71366825],\n",
       "       [201.71146235],\n",
       "       [200.79882564],\n",
       "       [199.9647814 ],\n",
       "       [199.20027884],\n",
       "       [198.49784281],\n",
       "       [197.85119409],\n",
       "       [197.25498103],\n",
       "       [196.7045609 ],\n",
       "       [196.19588649],\n",
       "       [195.7253273 ],\n",
       "       [195.28967232],\n",
       "       [194.88601053],\n",
       "       [194.51171369],\n",
       "       [194.16438932],\n",
       "       [193.84187629],\n",
       "       [193.54218557],\n",
       "       [193.26352626],\n",
       "       [193.00423586],\n",
       "       [192.76282123],\n",
       "       [192.53790321],\n",
       "       [192.32823327],\n",
       "       [192.13265584],\n",
       "       [191.95012053],\n",
       "       [191.77966658],\n",
       "       [191.62040407],\n",
       "       [191.47152942],\n",
       "       [191.33230104],\n",
       "       [191.20203158],\n",
       "       [191.08009343],\n",
       "       [190.96590551],\n",
       "       [190.85893541],\n",
       "       [190.75868947],\n",
       "       [190.66471389],\n",
       "       [190.57659469],\n",
       "       [190.4939312 ],\n",
       "       [190.41637143],\n",
       "       [190.34358111],\n",
       "       [190.27525032],\n",
       "       [190.21108686],\n",
       "       [190.1508306 ],\n",
       "       [190.09422366],\n",
       "       [190.04104244],\n",
       "       [189.99106668],\n",
       "       [189.94410047],\n",
       "       [189.89995122],\n",
       "       [189.85844514],\n",
       "       [189.81941732],\n",
       "       [189.78272165],\n",
       "       [189.74821092],\n",
       "       [189.71575119],\n",
       "       [189.68521629],\n",
       "       [189.65649111],\n",
       "       [189.62946053],\n",
       "       [189.60402714],\n",
       "       [189.58010018],\n",
       "       [189.55757894],\n",
       "       [189.53638814],\n",
       "       [189.51644034],\n",
       "       [189.49766027],\n",
       "       [189.47999039],\n",
       "       [189.46335431],\n",
       "       [189.4476978 ],\n",
       "       [189.43295223],\n",
       "       [189.41907666],\n",
       "       [189.4060102 ],\n",
       "       [189.39370526],\n",
       "       [189.3821242 ],\n",
       "       [189.37121722],\n",
       "       [189.36094779],\n",
       "       [189.35127384],\n",
       "       [189.3421644 ],\n",
       "       [189.33358957],\n",
       "       [189.32551504],\n",
       "       [189.31790982],\n",
       "       [189.31074955],\n",
       "       [189.30400657],\n",
       "       [189.29765763],\n",
       "       [189.29167285],\n",
       "       [189.28603783],\n",
       "       [189.28073156],\n",
       "       [189.27573188],\n",
       "       [189.2710233 ],\n",
       "       [189.26659144],\n",
       "       [189.26241748],\n",
       "       [189.25848371],\n",
       "       [189.25477794],\n",
       "       [189.25129245],\n",
       "       [189.24800286],\n",
       "       [189.24491362],\n",
       "       [189.24199816],\n",
       "       [189.23924872],\n",
       "       [189.23666421],\n",
       "       [189.23422691],\n",
       "       [189.2319335 ],\n",
       "       [189.22976959],\n",
       "       [189.22773518],\n",
       "       [189.2258181 ],\n",
       "       [189.22401393],\n",
       "       [189.22231379],\n",
       "       [189.22070885],\n",
       "       [189.21920131],\n",
       "       [189.2177801 ],\n",
       "       [189.2164408 ],\n",
       "       [189.21517898],\n",
       "       [189.21399243],\n",
       "       [189.21286786],\n",
       "       [189.21181635],\n",
       "       [189.21082682],\n",
       "       [189.20988599],\n",
       "       [189.2090005 ],\n",
       "       [189.20817478],\n",
       "       [189.20739445],\n",
       "       [189.20665618],\n",
       "       [189.2059655 ],\n",
       "       [189.20531024],\n",
       "       [189.20469482],\n",
       "       [189.20411594],\n",
       "       [189.20356804],\n",
       "       [189.20305446],\n",
       "       [189.20256744],\n",
       "       [189.20210809],\n",
       "       [189.20167531],\n",
       "       [189.2012691 ],\n",
       "       [189.20088723],\n",
       "       [189.20052639],\n",
       "       [189.20019212],\n",
       "       [189.19986892],\n",
       "       [189.19956786],\n",
       "       [189.19928561]])"
      ]
     },
     "execution_count": 42,
     "metadata": {},
     "output_type": "execute_result"
    }
   ],
   "source": [
    "true_predictions"
   ]
  },
  {
   "cell_type": "code",
   "execution_count": 43,
   "metadata": {},
   "outputs": [
    {
     "data": {
      "text/html": [
       "<div>\n",
       "<style scoped>\n",
       "    .dataframe tbody tr th:only-of-type {\n",
       "        vertical-align: middle;\n",
       "    }\n",
       "\n",
       "    .dataframe tbody tr th {\n",
       "        vertical-align: top;\n",
       "    }\n",
       "\n",
       "    .dataframe thead th {\n",
       "        text-align: right;\n",
       "    }\n",
       "</style>\n",
       "<table border=\"1\" class=\"dataframe\">\n",
       "  <thead>\n",
       "    <tr style=\"text-align: right;\">\n",
       "      <th></th>\n",
       "      <th>Close</th>\n",
       "    </tr>\n",
       "    <tr>\n",
       "      <th>Date</th>\n",
       "      <th></th>\n",
       "    </tr>\n",
       "  </thead>\n",
       "  <tbody>\n",
       "    <tr>\n",
       "      <th>2020-08-15</th>\n",
       "      <td>336.839996</td>\n",
       "    </tr>\n",
       "    <tr>\n",
       "      <th>2020-08-16</th>\n",
       "      <td>336.839996</td>\n",
       "    </tr>\n",
       "    <tr>\n",
       "      <th>2020-08-17</th>\n",
       "      <td>337.910004</td>\n",
       "    </tr>\n",
       "    <tr>\n",
       "      <th>2020-08-18</th>\n",
       "      <td>338.640015</td>\n",
       "    </tr>\n",
       "    <tr>\n",
       "      <th>2020-08-19</th>\n",
       "      <td>337.230011</td>\n",
       "    </tr>\n",
       "    <tr>\n",
       "      <th>...</th>\n",
       "      <td>...</td>\n",
       "    </tr>\n",
       "    <tr>\n",
       "      <th>2021-02-08</th>\n",
       "      <td>390.510010</td>\n",
       "    </tr>\n",
       "    <tr>\n",
       "      <th>2021-02-09</th>\n",
       "      <td>390.250000</td>\n",
       "    </tr>\n",
       "    <tr>\n",
       "      <th>2021-02-10</th>\n",
       "      <td>390.079987</td>\n",
       "    </tr>\n",
       "    <tr>\n",
       "      <th>2021-02-11</th>\n",
       "      <td>390.709991</td>\n",
       "    </tr>\n",
       "    <tr>\n",
       "      <th>2021-02-12</th>\n",
       "      <td>392.640015</td>\n",
       "    </tr>\n",
       "  </tbody>\n",
       "</table>\n",
       "<p>182 rows × 1 columns</p>\n",
       "</div>"
      ],
      "text/plain": [
       "                 Close\n",
       "Date                  \n",
       "2020-08-15  336.839996\n",
       "2020-08-16  336.839996\n",
       "2020-08-17  337.910004\n",
       "2020-08-18  338.640015\n",
       "2020-08-19  337.230011\n",
       "...                ...\n",
       "2021-02-08  390.510010\n",
       "2021-02-09  390.250000\n",
       "2021-02-10  390.079987\n",
       "2021-02-11  390.709991\n",
       "2021-02-12  392.640015\n",
       "\n",
       "[182 rows x 1 columns]"
      ]
     },
     "execution_count": 43,
     "metadata": {},
     "output_type": "execute_result"
    }
   ],
   "source": [
    "test"
   ]
  },
  {
   "cell_type": "code",
   "execution_count": 44,
   "metadata": {},
   "outputs": [],
   "source": [
    "# IGNORE WARNINGS\n",
    "test['Predictions'] = true_predictions"
   ]
  },
  {
   "cell_type": "code",
   "execution_count": 45,
   "metadata": {},
   "outputs": [
    {
     "data": {
      "text/html": [
       "<div>\n",
       "<style scoped>\n",
       "    .dataframe tbody tr th:only-of-type {\n",
       "        vertical-align: middle;\n",
       "    }\n",
       "\n",
       "    .dataframe tbody tr th {\n",
       "        vertical-align: top;\n",
       "    }\n",
       "\n",
       "    .dataframe thead th {\n",
       "        text-align: right;\n",
       "    }\n",
       "</style>\n",
       "<table border=\"1\" class=\"dataframe\">\n",
       "  <thead>\n",
       "    <tr style=\"text-align: right;\">\n",
       "      <th></th>\n",
       "      <th>Close</th>\n",
       "      <th>Predictions</th>\n",
       "    </tr>\n",
       "    <tr>\n",
       "      <th>Date</th>\n",
       "      <th></th>\n",
       "      <th></th>\n",
       "    </tr>\n",
       "  </thead>\n",
       "  <tbody>\n",
       "    <tr>\n",
       "      <th>2020-08-15</th>\n",
       "      <td>336.839996</td>\n",
       "      <td>334.708386</td>\n",
       "    </tr>\n",
       "    <tr>\n",
       "      <th>2020-08-16</th>\n",
       "      <td>336.839996</td>\n",
       "      <td>332.621630</td>\n",
       "    </tr>\n",
       "    <tr>\n",
       "      <th>2020-08-17</th>\n",
       "      <td>337.910004</td>\n",
       "      <td>330.176713</td>\n",
       "    </tr>\n",
       "    <tr>\n",
       "      <th>2020-08-18</th>\n",
       "      <td>338.640015</td>\n",
       "      <td>327.542585</td>\n",
       "    </tr>\n",
       "    <tr>\n",
       "      <th>2020-08-19</th>\n",
       "      <td>337.230011</td>\n",
       "      <td>324.719265</td>\n",
       "    </tr>\n",
       "    <tr>\n",
       "      <th>...</th>\n",
       "      <td>...</td>\n",
       "      <td>...</td>\n",
       "    </tr>\n",
       "    <tr>\n",
       "      <th>2021-02-08</th>\n",
       "      <td>390.510010</td>\n",
       "      <td>189.200526</td>\n",
       "    </tr>\n",
       "    <tr>\n",
       "      <th>2021-02-09</th>\n",
       "      <td>390.250000</td>\n",
       "      <td>189.200192</td>\n",
       "    </tr>\n",
       "    <tr>\n",
       "      <th>2021-02-10</th>\n",
       "      <td>390.079987</td>\n",
       "      <td>189.199869</td>\n",
       "    </tr>\n",
       "    <tr>\n",
       "      <th>2021-02-11</th>\n",
       "      <td>390.709991</td>\n",
       "      <td>189.199568</td>\n",
       "    </tr>\n",
       "    <tr>\n",
       "      <th>2021-02-12</th>\n",
       "      <td>392.640015</td>\n",
       "      <td>189.199286</td>\n",
       "    </tr>\n",
       "  </tbody>\n",
       "</table>\n",
       "<p>182 rows × 2 columns</p>\n",
       "</div>"
      ],
      "text/plain": [
       "                 Close  Predictions\n",
       "Date                               \n",
       "2020-08-15  336.839996   334.708386\n",
       "2020-08-16  336.839996   332.621630\n",
       "2020-08-17  337.910004   330.176713\n",
       "2020-08-18  338.640015   327.542585\n",
       "2020-08-19  337.230011   324.719265\n",
       "...                ...          ...\n",
       "2021-02-08  390.510010   189.200526\n",
       "2021-02-09  390.250000   189.200192\n",
       "2021-02-10  390.079987   189.199869\n",
       "2021-02-11  390.709991   189.199568\n",
       "2021-02-12  392.640015   189.199286\n",
       "\n",
       "[182 rows x 2 columns]"
      ]
     },
     "execution_count": 45,
     "metadata": {},
     "output_type": "execute_result"
    }
   ],
   "source": [
    "test"
   ]
  },
  {
   "cell_type": "code",
   "execution_count": 46,
   "metadata": {
    "scrolled": false
   },
   "outputs": [
    {
     "data": {
      "text/plain": [
       "<matplotlib.axes._subplots.AxesSubplot at 0x25d5f849eb0>"
      ]
     },
     "execution_count": 46,
     "metadata": {},
     "output_type": "execute_result"
    },
    {
     "data": {
      "image/png": "[encoded data removed]",
      "text/plain": [
       "<Figure size 864x576 with 1 Axes>"
      ]
     },
     "metadata": {
      "needs_background": "light"
     },
     "output_type": "display_data"
    }
   ],
   "source": [
    "test.plot(figsize=(12,8))"
   ]
  },
  {
   "cell_type": "code",
   "execution_count": 50,
   "metadata": {},
   "outputs": [
    {
     "data": {
      "image/png": "[encoded data removed]",
      "text/plain": [
       "<Figure size 864x432 with 1 Axes>"
      ]
     },
     "metadata": {
      "needs_background": "light"
     },
     "output_type": "display_data"
    }
   ],
   "source": [
    "# Plot predictions against known values\n",
    "title = 'Stock Price prediction with RNN(LSTM)'\n",
    "\n",
    "ax = data['Close'].plot(legend=True,figsize=(12,6),title=title)\n",
    "test['Predictions'].plot(legend=True)\n",
    "ax.autoscale(axis='x',tight=True)"
   ]
  },
  {
   "cell_type": "markdown",
   "metadata": {},
   "source": [
    "### Saving and Loading Models"
   ]
  },
  {
   "cell_type": "code",
   "execution_count": 47,
   "metadata": {},
   "outputs": [],
   "source": [
    "model.save('my_rnn_model.h5')"
   ]
  },
  {
   "cell_type": "code",
   "execution_count": 48,
   "metadata": {},
   "outputs": [],
   "source": [
    "from keras.models import load_model\n",
    "new_model = load_model('my_rnn_model.h5')"
   ]
  },
  {
   "cell_type": "code",
   "execution_count": 49,
   "metadata": {},
   "outputs": [
    {
     "name": "stdout",
     "output_type": "stream",
     "text": [
      "Model: \"sequential\"\n",
      "_________________________________________________________________\n",
      "Layer (type)                 Output Shape              Param #   \n",
      "=================================================================\n",
      "lstm (LSTM)                  (None, 8)                 320       \n",
      "_________________________________________________________________\n",
      "dense (Dense)                (None, 1)                 9         \n",
      "=================================================================\n",
      "Total params: 329\n",
      "Trainable params: 329\n",
      "Non-trainable params: 0\n",
      "_________________________________________________________________\n"
     ]
    }
   ],
   "source": [
    "new_model.summary()"
   ]
  }
 ],
 "metadata": {
  "kernelspec": {
   "display_name": "Python 3",
   "language": "python",
   "name": "python3"
  },
  "language_info": {
   "codemirror_mode": {
    "name": "ipython",
    "version": 3
   },
   "file_extension": ".py",
   "mimetype": "text/x-python",
   "name": "python",
   "nbconvert_exporter": "python",
   "pygments_lexer": "ipython3",
   "version": "3.8.3"
  }
 },
 "nbformat": 4,
 "nbformat_minor": 4
}
